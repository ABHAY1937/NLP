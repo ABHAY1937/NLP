{
  "nbformat": 4,
  "nbformat_minor": 0,
  "metadata": {
    "colab": {
      "provenance": [],
      "authorship_tag": "ABX9TyNoDe+5aZ1RxuI0NQ5k3uBO",
      "include_colab_link": true
    },
    "kernelspec": {
      "name": "python3",
      "display_name": "Python 3"
    },
    "language_info": {
      "name": "python"
    }
  },
  "cells": [
    {
      "cell_type": "markdown",
      "metadata": {
        "id": "view-in-github",
        "colab_type": "text"
      },
      "source": [
        "<a href=\"https://colab.research.google.com/github/ABHAY1937/NLP/blob/main/rule_based_chat_bot_demo_ipynb.ipynb\" target=\"_parent\"><img src=\"https://colab.research.google.com/assets/colab-badge.svg\" alt=\"Open In Colab\"/></a>"
      ]
    },
    {
      "cell_type": "code",
      "execution_count": 2,
      "metadata": {
        "id": "GZthgjmx0RxO"
      },
      "outputs": [],
      "source": [
        "import re\n",
        "import random"
      ]
    },
    {
      "cell_type": "code",
      "source": [
        "\n",
        "class RuleBot:\n",
        "    # Potential negative responses\n",
        "    negative_responses = (\"no\", \"nope\", \"nah\", \"naw\", \"not a chance\", \"sorry\")\n",
        "    # Exit conversation keywords\n",
        "    exit_commands = (\"quit\", \"pause\", \"exit\", \"goodbye\", \"bye\", \"later\")\n",
        "    # Random starter questions\n",
        "    random_questions = (\n",
        "        \"Why are you here? \",\n",
        "        \"Are there many humans like you? \",\n",
        "        \"What do you consume for sustenance? \",\n",
        "        \"Is there intelligent life on this planet? \",\n",
        "        \"Does Earth have a leader? \",\n",
        "        \"What planets have you visited? \",\n",
        "        \"What technology do you have on this planet? \"\n",
        "    )\n",
        "\n",
        "    def __init__(self):\n",
        "        self.alienbabble = {\n",
        "            'describe_planet_intent': r'.*\\s*your planet.*',\n",
        "            'answer_why_intent': r'wh.*',\n",
        "            'about_intellipaat': r'.*\\s*intellipaat.*'\n",
        "        }\n",
        "\n",
        "    def greet(self):\n",
        "        self.name = input(\"What is your name?\\n\")\n",
        "        will_help = input(f\"Hi {self.name}, I am Rule-Bot. Will you help me learn about your planet?\\n\")\n",
        "        if will_help in self.negative_responses:\n",
        "            print(\"OK, have a nice Earth day!\")\n",
        "            return\n",
        "        self.chat()\n",
        "\n",
        "    def make_exit(self, reply):\n",
        "        for command in self.exit_commands:\n",
        "            if reply == command:\n",
        "                print(\"Okay, have a nice Earth day!\")\n",
        "                return True\n",
        "        return False\n",
        "\n",
        "    def chat(self):\n",
        "        reply = input(random.choice(self.random_questions)).lower()\n",
        "        while not self.make_exit(reply):\n",
        "            reply = self.match_reply(reply)\n",
        "\n",
        "    def match_reply(self, reply):\n",
        "        for key, value in self.alienbabble.items():\n",
        "            intent = key\n",
        "            regex_pattern = value\n",
        "            found_match = re.match(regex_pattern, reply)\n",
        "            if found_match and intent == \"describe_planet_intent\":\n",
        "                return self.describe_planet_intent()\n",
        "            elif found_match and intent == \"answer_why_intent\":\n",
        "                return self.answer_why_intent()\n",
        "            elif found_match and intent == 'about_intellipaat':\n",
        "                return self.about_intellipaat()\n",
        "        if not found_match:\n",
        "            return self.no_match_intent()\n",
        "\n",
        "    def describe_planet_intent(self):\n",
        "        responses = [\n",
        "            \"My planet is a utopia of diverse organisms and species.\",\n",
        "            \"I am from Opidipus, the capital of the Wayward Galaxies.\"\n",
        "        ]\n",
        "        return random.choice(responses)\n",
        "\n",
        "    def answer_why_intent(self):\n",
        "        responses = [\n",
        "            \"I come in peace.\",\n",
        "            \"I am here to collect data on your planet and its inhabitants.\",\n",
        "            \"I heard the coffee is good.\"\n",
        "        ]\n",
        "        return random.choice(responses)\n",
        "\n",
        "    def about_intellipaat(self):\n",
        "        responses = [\n",
        "            \"Intellipaat is the world's largest platform.\"\n",
        "        ]\n",
        "        return random.choice(responses)\n",
        "\n",
        "    def no_match_intent(self):\n",
        "        responses = [\n",
        "            \"Please tell me more.\",\n",
        "            \"Tell me more!\",\n",
        "            \"Why do you say that?\",\n",
        "            \"I see. Can you elaborate?\",\n",
        "            \"Interesting. Can you tell me more?\",\n",
        "            \"I see. How do you think?\",\n",
        "            \"Why?\",\n",
        "            \"How do you think I feel when you say that?\"\n",
        "        ]\n",
        "        return random.choice(responses)\n",
        "\n",
        "\n",
        "AlienBot = RuleBot()\n",
        "AlienBot.greet()\n"
      ],
      "metadata": {
        "colab": {
          "base_uri": "https://localhost:8080/"
        },
        "id": "wmTzz5eb0SgM",
        "outputId": "1a57fa8c-c389-4d30-979d-02a5fddfc23c"
      },
      "execution_count": null,
      "outputs": [
        {
          "name": "stdout",
          "output_type": "stream",
          "text": [
            "What is your name?\n",
            "abhi\n",
            "Hi abhi, I am Rule-Bot. Will you help me learn about your planet?\n",
            "sure\n",
            "Why are you here? i am here to ask you some questions\n"
          ]
        }
      ]
    },
    {
      "cell_type": "code",
      "source": [],
      "metadata": {
        "id": "NnaDrK0W0Vnu"
      },
      "execution_count": null,
      "outputs": []
    }
  ]
}