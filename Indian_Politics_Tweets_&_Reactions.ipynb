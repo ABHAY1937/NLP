{
  "nbformat": 4,
  "nbformat_minor": 0,
  "metadata": {
    "colab": {
      "provenance": [],
      "authorship_tag": "ABX9TyODP76OUedMDO1o5NT/5bHx",
      "include_colab_link": true
    },
    "kernelspec": {
      "name": "python3",
      "display_name": "Python 3"
    },
    "language_info": {
      "name": "python"
    }
  },
  "cells": [
    {
      "cell_type": "markdown",
      "metadata": {
        "id": "view-in-github",
        "colab_type": "text"
      },
      "source": [
        "<a href=\"https://colab.research.google.com/github/ABHAY1937/NLP/blob/main/Indian_Politics_Tweets_%26_Reactions.ipynb\" target=\"_parent\"><img src=\"https://colab.research.google.com/assets/colab-badge.svg\" alt=\"Open In Colab\"/></a>"
      ]
    },
    {
      "cell_type": "code",
      "execution_count": 78,
      "metadata": {
        "id": "X8Un9680BXHf"
      },
      "outputs": [],
      "source": [
        "import re \n",
        "import numpy as np\n",
        "import pandas as pd\n",
        "import matplotlib.pyplot as plt\n",
        "import seaborn as sns\n",
        "import nltk"
      ]
    },
    {
      "cell_type": "code",
      "source": [
        "df=pd.read_csv(\"/content/tweets.csv\",encoding=\"ISO-8859-1\")\n",
        "df"
      ],
      "metadata": {
        "colab": {
          "base_uri": "https://localhost:8080/",
          "height": 468
        },
        "id": "gQLUm2pABeeK",
        "outputId": "b9013ad7-9804-460b-ce64-59059f8c2bab"
      },
      "execution_count": 79,
      "outputs": [
        {
          "output_type": "execute_result",
          "data": {
            "text/plain": [
              "      Unnamed: 0                       Date             User  \\\n",
              "0              0  2023-03-29 15:42:36+00:00      AnandPatni8   \n",
              "1              1  2023-03-29 15:42:05+00:00         dhinamum   \n",
              "2              2  2023-03-29 15:34:29+00:00     PrincetonCGI   \n",
              "3              3  2023-03-29 15:31:43+00:00     RishiJoeSanu   \n",
              "4              4  2023-03-29 15:26:48+00:00     itweetsensee   \n",
              "...          ...                        ...              ...   \n",
              "49996      49995  2022-10-15 11:00:52+00:00          vinoims   \n",
              "49997      49996  2022-10-15 10:56:51+00:00         Dan_T129   \n",
              "49998      49997  2022-10-15 10:50:52+00:00       shivashan_   \n",
              "49999      49998  2022-10-15 10:41:17+00:00  SUNILKU74204938   \n",
              "50000      49999  2022-10-15 10:28:05+00:00  Amateure_trader   \n",
              "\n",
              "                                                   Tweet  Likes  Retweets  \n",
              "0      @vinodkapri @RahulGandhi Respected Indian Citi...    0.0       0.0  \n",
              "1      *Respected Indian Citizens,* Namaskaar I Am Th...    0.0       0.0  \n",
              "2      1/n-Meet Filmmaker Prakash Jha in New Jersey t...    0.0       0.0  \n",
              "3      @MrinalWahal Why would politicians stop using ...    0.0       0.0  \n",
              "4      @annamalai_k @narendramodi A state level presi...    0.0       0.0  \n",
              "...                                                  ...    ...       ...  \n",
              "49996  @kaushikcbasu Cong ruled for 60 +yrs at center...    0.0       0.0  \n",
              "49997  @ARYSabirShakir @OfficialDGISPR It's indian lo...    0.0       0.0  \n",
              "49998  @Schandillia A true leader puts the team in fr...    4.0       1.0  \n",
              "49999  Now' Rahul Gandhi is Mahanayak of\\nINDIA. Rega...    0.0       0.0  \n",
              "50000  @MajorPoonia New low in indian politics. If yo...    0.0       0.0  \n",
              "\n",
              "[50001 rows x 6 columns]"
            ],
            "text/html": [
              "\n",
              "  <div id=\"df-9d2bbfeb-7c74-4291-b931-2a61390c08bf\">\n",
              "    <div class=\"colab-df-container\">\n",
              "      <div>\n",
              "<style scoped>\n",
              "    .dataframe tbody tr th:only-of-type {\n",
              "        vertical-align: middle;\n",
              "    }\n",
              "\n",
              "    .dataframe tbody tr th {\n",
              "        vertical-align: top;\n",
              "    }\n",
              "\n",
              "    .dataframe thead th {\n",
              "        text-align: right;\n",
              "    }\n",
              "</style>\n",
              "<table border=\"1\" class=\"dataframe\">\n",
              "  <thead>\n",
              "    <tr style=\"text-align: right;\">\n",
              "      <th></th>\n",
              "      <th>Unnamed: 0</th>\n",
              "      <th>Date</th>\n",
              "      <th>User</th>\n",
              "      <th>Tweet</th>\n",
              "      <th>Likes</th>\n",
              "      <th>Retweets</th>\n",
              "    </tr>\n",
              "  </thead>\n",
              "  <tbody>\n",
              "    <tr>\n",
              "      <th>0</th>\n",
              "      <td>0</td>\n",
              "      <td>2023-03-29 15:42:36+00:00</td>\n",
              "      <td>AnandPatni8</td>\n",
              "      <td>@vinodkapri @RahulGandhi Respected Indian Citi...</td>\n",
              "      <td>0.0</td>\n",
              "      <td>0.0</td>\n",
              "    </tr>\n",
              "    <tr>\n",
              "      <th>1</th>\n",
              "      <td>1</td>\n",
              "      <td>2023-03-29 15:42:05+00:00</td>\n",
              "      <td>dhinamum</td>\n",
              "      <td>*Respected Indian Citizens,* Namaskaar I Am Th...</td>\n",
              "      <td>0.0</td>\n",
              "      <td>0.0</td>\n",
              "    </tr>\n",
              "    <tr>\n",
              "      <th>2</th>\n",
              "      <td>2</td>\n",
              "      <td>2023-03-29 15:34:29+00:00</td>\n",
              "      <td>PrincetonCGI</td>\n",
              "      <td>1/n-Meet Filmmaker Prakash Jha in New Jersey t...</td>\n",
              "      <td>0.0</td>\n",
              "      <td>0.0</td>\n",
              "    </tr>\n",
              "    <tr>\n",
              "      <th>3</th>\n",
              "      <td>3</td>\n",
              "      <td>2023-03-29 15:31:43+00:00</td>\n",
              "      <td>RishiJoeSanu</td>\n",
              "      <td>@MrinalWahal Why would politicians stop using ...</td>\n",
              "      <td>0.0</td>\n",
              "      <td>0.0</td>\n",
              "    </tr>\n",
              "    <tr>\n",
              "      <th>4</th>\n",
              "      <td>4</td>\n",
              "      <td>2023-03-29 15:26:48+00:00</td>\n",
              "      <td>itweetsensee</td>\n",
              "      <td>@annamalai_k @narendramodi A state level presi...</td>\n",
              "      <td>0.0</td>\n",
              "      <td>0.0</td>\n",
              "    </tr>\n",
              "    <tr>\n",
              "      <th>...</th>\n",
              "      <td>...</td>\n",
              "      <td>...</td>\n",
              "      <td>...</td>\n",
              "      <td>...</td>\n",
              "      <td>...</td>\n",
              "      <td>...</td>\n",
              "    </tr>\n",
              "    <tr>\n",
              "      <th>49996</th>\n",
              "      <td>49995</td>\n",
              "      <td>2022-10-15 11:00:52+00:00</td>\n",
              "      <td>vinoims</td>\n",
              "      <td>@kaushikcbasu Cong ruled for 60 +yrs at center...</td>\n",
              "      <td>0.0</td>\n",
              "      <td>0.0</td>\n",
              "    </tr>\n",
              "    <tr>\n",
              "      <th>49997</th>\n",
              "      <td>49996</td>\n",
              "      <td>2022-10-15 10:56:51+00:00</td>\n",
              "      <td>Dan_T129</td>\n",
              "      <td>@ARYSabirShakir @OfficialDGISPR It's indian lo...</td>\n",
              "      <td>0.0</td>\n",
              "      <td>0.0</td>\n",
              "    </tr>\n",
              "    <tr>\n",
              "      <th>49998</th>\n",
              "      <td>49997</td>\n",
              "      <td>2022-10-15 10:50:52+00:00</td>\n",
              "      <td>shivashan_</td>\n",
              "      <td>@Schandillia A true leader puts the team in fr...</td>\n",
              "      <td>4.0</td>\n",
              "      <td>1.0</td>\n",
              "    </tr>\n",
              "    <tr>\n",
              "      <th>49999</th>\n",
              "      <td>49998</td>\n",
              "      <td>2022-10-15 10:41:17+00:00</td>\n",
              "      <td>SUNILKU74204938</td>\n",
              "      <td>Now' Rahul Gandhi is Mahanayak of\\nINDIA. Rega...</td>\n",
              "      <td>0.0</td>\n",
              "      <td>0.0</td>\n",
              "    </tr>\n",
              "    <tr>\n",
              "      <th>50000</th>\n",
              "      <td>49999</td>\n",
              "      <td>2022-10-15 10:28:05+00:00</td>\n",
              "      <td>Amateure_trader</td>\n",
              "      <td>@MajorPoonia New low in indian politics. If yo...</td>\n",
              "      <td>0.0</td>\n",
              "      <td>0.0</td>\n",
              "    </tr>\n",
              "  </tbody>\n",
              "</table>\n",
              "<p>50001 rows × 6 columns</p>\n",
              "</div>\n",
              "      <button class=\"colab-df-convert\" onclick=\"convertToInteractive('df-9d2bbfeb-7c74-4291-b931-2a61390c08bf')\"\n",
              "              title=\"Convert this dataframe to an interactive table.\"\n",
              "              style=\"display:none;\">\n",
              "        \n",
              "  <svg xmlns=\"http://www.w3.org/2000/svg\" height=\"24px\"viewBox=\"0 0 24 24\"\n",
              "       width=\"24px\">\n",
              "    <path d=\"M0 0h24v24H0V0z\" fill=\"none\"/>\n",
              "    <path d=\"M18.56 5.44l.94 2.06.94-2.06 2.06-.94-2.06-.94-.94-2.06-.94 2.06-2.06.94zm-11 1L8.5 8.5l.94-2.06 2.06-.94-2.06-.94L8.5 2.5l-.94 2.06-2.06.94zm10 10l.94 2.06.94-2.06 2.06-.94-2.06-.94-.94-2.06-.94 2.06-2.06.94z\"/><path d=\"M17.41 7.96l-1.37-1.37c-.4-.4-.92-.59-1.43-.59-.52 0-1.04.2-1.43.59L10.3 9.45l-7.72 7.72c-.78.78-.78 2.05 0 2.83L4 21.41c.39.39.9.59 1.41.59.51 0 1.02-.2 1.41-.59l7.78-7.78 2.81-2.81c.8-.78.8-2.07 0-2.86zM5.41 20L4 18.59l7.72-7.72 1.47 1.35L5.41 20z\"/>\n",
              "  </svg>\n",
              "      </button>\n",
              "      \n",
              "  <style>\n",
              "    .colab-df-container {\n",
              "      display:flex;\n",
              "      flex-wrap:wrap;\n",
              "      gap: 12px;\n",
              "    }\n",
              "\n",
              "    .colab-df-convert {\n",
              "      background-color: #E8F0FE;\n",
              "      border: none;\n",
              "      border-radius: 50%;\n",
              "      cursor: pointer;\n",
              "      display: none;\n",
              "      fill: #1967D2;\n",
              "      height: 32px;\n",
              "      padding: 0 0 0 0;\n",
              "      width: 32px;\n",
              "    }\n",
              "\n",
              "    .colab-df-convert:hover {\n",
              "      background-color: #E2EBFA;\n",
              "      box-shadow: 0px 1px 2px rgba(60, 64, 67, 0.3), 0px 1px 3px 1px rgba(60, 64, 67, 0.15);\n",
              "      fill: #174EA6;\n",
              "    }\n",
              "\n",
              "    [theme=dark] .colab-df-convert {\n",
              "      background-color: #3B4455;\n",
              "      fill: #D2E3FC;\n",
              "    }\n",
              "\n",
              "    [theme=dark] .colab-df-convert:hover {\n",
              "      background-color: #434B5C;\n",
              "      box-shadow: 0px 1px 3px 1px rgba(0, 0, 0, 0.15);\n",
              "      filter: drop-shadow(0px 1px 2px rgba(0, 0, 0, 0.3));\n",
              "      fill: #FFFFFF;\n",
              "    }\n",
              "  </style>\n",
              "\n",
              "      <script>\n",
              "        const buttonEl =\n",
              "          document.querySelector('#df-9d2bbfeb-7c74-4291-b931-2a61390c08bf button.colab-df-convert');\n",
              "        buttonEl.style.display =\n",
              "          google.colab.kernel.accessAllowed ? 'block' : 'none';\n",
              "\n",
              "        async function convertToInteractive(key) {\n",
              "          const element = document.querySelector('#df-9d2bbfeb-7c74-4291-b931-2a61390c08bf');\n",
              "          const dataTable =\n",
              "            await google.colab.kernel.invokeFunction('convertToInteractive',\n",
              "                                                     [key], {});\n",
              "          if (!dataTable) return;\n",
              "\n",
              "          const docLinkHtml = 'Like what you see? Visit the ' +\n",
              "            '<a target=\"_blank\" href=https://colab.research.google.com/notebooks/data_table.ipynb>data table notebook</a>'\n",
              "            + ' to learn more about interactive tables.';\n",
              "          element.innerHTML = '';\n",
              "          dataTable['output_type'] = 'display_data';\n",
              "          await google.colab.output.renderOutput(dataTable, element);\n",
              "          const docLink = document.createElement('div');\n",
              "          docLink.innerHTML = docLinkHtml;\n",
              "          element.appendChild(docLink);\n",
              "        }\n",
              "      </script>\n",
              "    </div>\n",
              "  </div>\n",
              "  "
            ]
          },
          "metadata": {},
          "execution_count": 79
        }
      ]
    },
    {
      "cell_type": "code",
      "source": [
        "df.isna().sum()"
      ],
      "metadata": {
        "colab": {
          "base_uri": "https://localhost:8080/"
        },
        "id": "IGCUWHcEBo2t",
        "outputId": "aa9f439d-e1de-428d-d82f-6fd523576c1c"
      },
      "execution_count": 80,
      "outputs": [
        {
          "output_type": "execute_result",
          "data": {
            "text/plain": [
              "Unnamed: 0    0\n",
              "Date          0\n",
              "User          0\n",
              "Tweet         1\n",
              "Likes         2\n",
              "Retweets      2\n",
              "dtype: int64"
            ]
          },
          "metadata": {},
          "execution_count": 80
        }
      ]
    },
    {
      "cell_type": "code",
      "source": [
        "df[\"Date\"].value_counts()"
      ],
      "metadata": {
        "colab": {
          "base_uri": "https://localhost:8080/"
        },
        "id": "tYNX56jdBzbr",
        "outputId": "f4d991f7-ad36-4fb2-f808-58ae40b74ad0"
      },
      "execution_count": 81,
      "outputs": [
        {
          "output_type": "execute_result",
          "data": {
            "text/plain": [
              "2023-03-13 14:01:06+00:00    4\n",
              "2023-03-13 14:01:18+00:00    4\n",
              "2022-11-10 11:20:36+00:00    3\n",
              "2023-03-13 14:00:26+00:00    3\n",
              "2022-12-03 16:38:25+00:00    3\n",
              "                            ..\n",
              "2023-02-10 04:06:38+00:00    1\n",
              "2023-02-10 04:01:33+00:00    1\n",
              "2023-02-10 03:57:55+00:00    1\n",
              "2023-02-10 03:54:43+00:00    1\n",
              "2022-10-15 10:28:05+00:00    1\n",
              "Name: Date, Length: 49822, dtype: int64"
            ]
          },
          "metadata": {},
          "execution_count": 81
        }
      ]
    },
    {
      "cell_type": "code",
      "source": [
        "nltk.download(\"stopwords\")\n",
        "nltk.download(\"wordnet\")\n",
        "nltk.download(\"punkt\")\n",
        "nltk.download(\"omw-1.4\")"
      ],
      "metadata": {
        "colab": {
          "base_uri": "https://localhost:8080/"
        },
        "id": "AqatU5CADr_9",
        "outputId": "26031aad-eba6-48ee-d744-8eb878e5daae"
      },
      "execution_count": 82,
      "outputs": [
        {
          "output_type": "stream",
          "name": "stderr",
          "text": [
            "[nltk_data] Downloading package stopwords to /root/nltk_data...\n",
            "[nltk_data]   Package stopwords is already up-to-date!\n",
            "[nltk_data] Downloading package wordnet to /root/nltk_data...\n",
            "[nltk_data]   Package wordnet is already up-to-date!\n",
            "[nltk_data] Downloading package punkt to /root/nltk_data...\n",
            "[nltk_data]   Package punkt is already up-to-date!\n",
            "[nltk_data] Downloading package omw-1.4 to /root/nltk_data...\n",
            "[nltk_data]   Package omw-1.4 is already up-to-date!\n"
          ]
        },
        {
          "output_type": "execute_result",
          "data": {
            "text/plain": [
              "True"
            ]
          },
          "metadata": {},
          "execution_count": 82
        }
      ]
    },
    {
      "cell_type": "code",
      "source": [
        "print(tweets.head())"
      ],
      "metadata": {
        "colab": {
          "base_uri": "https://localhost:8080/"
        },
        "id": "CcVfKQmeEcKZ",
        "outputId": "79654f0b-c56f-41ec-b3ed-9dc53affef11"
      },
      "execution_count": 83,
      "outputs": [
        {
          "output_type": "stream",
          "name": "stdout",
          "text": [
            "0    vinodkapri rahulgandhi respect indian citizen ...\n",
            "1    respect indian citizen namaskaar origin gandhi...\n",
            "2    1 n meet filmmak prakash jha new jersey talk s...\n",
            "3    mrinalwah whi would politician stop use religi...\n",
            "4    annamalai k narendramodi state level presid kn...\n",
            "Name: Original_Tweet, dtype: object\n"
          ]
        }
      ]
    },
    {
      "cell_type": "code",
      "source": [
        "from nltk.corpus import stopwords\n",
        "from nltk.tokenize import TweetTokenizer\n",
        "from nltk.stem import SnowballStemmer"
      ],
      "metadata": {
        "id": "L7CALSIhDxsw"
      },
      "execution_count": 84,
      "outputs": []
    },
    {
      "cell_type": "code",
      "source": [
        "df['Original_Tweet'] = df['Tweet']\n",
        "df['DateTime'] = df['Date']\n",
        "df = df.drop('Date', axis=1)\n",
        "df['DateTime'] = df['DateTime'].astype(str).apply(lambda x: x.split('+')[0])\n",
        "df['DateTime'] = pd.to_datetime(df['DateTime'], errors='coerce', format='%Y-%m-%d %H:%M:%S').fillna(pd.Timestamp('1900-01-01'))\n",
        "df['date'] = df.DateTime.apply(lambda x: x.date())\n",
        "df['month'] = df.DateTime.apply(lambda x: x.month)\n",
        "df['year'] = df.DateTime.apply(lambda x: x.year)\n",
        "df['hour'] = df.DateTime.apply(lambda x: x.hour)\n"
      ],
      "metadata": {
        "id": "hlRo6UmnD1Hj"
      },
      "execution_count": 85,
      "outputs": []
    },
    {
      "cell_type": "code",
      "source": [
        "tweets = df['Original_Tweet']"
      ],
      "metadata": {
        "id": "g18jMCqOD771"
      },
      "execution_count": 86,
      "outputs": []
    },
    {
      "cell_type": "code",
      "source": [
        "tk = TweetTokenizer()\n",
        "stop = stopwords.words(\"english\")\n",
        "stemmer = SnowballStemmer(\"english\")\n",
        "\n"
      ],
      "metadata": {
        "id": "vQMhWjwuD_jI"
      },
      "execution_count": 87,
      "outputs": []
    },
    {
      "cell_type": "code",
      "source": [
        "# Tokenization\n",
        "tweets = tweets.apply(lambda x: \" \".join(nltk.word_tokenize(str(x))))"
      ],
      "metadata": {
        "id": "ELNO11ndECrW"
      },
      "execution_count": 88,
      "outputs": []
    },
    {
      "cell_type": "code",
      "source": [
        "# Remove special characters\n",
        "tweets = tweets.str.replace(\"[^a-zA-Z0-9]+\", \" \")"
      ],
      "metadata": {
        "colab": {
          "base_uri": "https://localhost:8080/"
        },
        "id": "0sXwwbdxEGBg",
        "outputId": "fd614c83-7531-4aaf-a434-692cb7d53ad1"
      },
      "execution_count": 89,
      "outputs": [
        {
          "output_type": "stream",
          "name": "stderr",
          "text": [
            "<ipython-input-89-8ad812c6b7f5>:2: FutureWarning: The default value of regex will change from True to False in a future version.\n",
            "  tweets = tweets.str.replace(\"[^a-zA-Z0-9]+\", \" \")\n"
          ]
        }
      ]
    },
    {
      "cell_type": "code",
      "source": [
        "# Stemming using Snowball stemmer\n",
        "tweets = tweets.apply(lambda x: [stemmer.stem(i.lower()) for i in tk.tokenize(x)])\n"
      ],
      "metadata": {
        "id": "IZwne5LBFaZd"
      },
      "execution_count": 90,
      "outputs": []
    },
    {
      "cell_type": "code",
      "source": [
        "# Removing stop words\n",
        "tweets = tweets.apply(lambda x: [i for i in x if i not in stop]).apply(lambda x: \" \".join(x))\n",
        "\n"
      ],
      "metadata": {
        "id": "0cdpW_FtFdBZ"
      },
      "execution_count": 91,
      "outputs": []
    },
    {
      "cell_type": "code",
      "source": [
        "#vectorization\n",
        "from sklearn.feature_extraction.text import TfidfVectorizer\n",
        "vec = TfidfVectorizer()\n",
        "train_data = vec.fit_transform(tweets)\n",
        "train_data.shape"
      ],
      "metadata": {
        "colab": {
          "base_uri": "https://localhost:8080/"
        },
        "id": "0YzzXbEvGwa9",
        "outputId": "17313904-bbe6-41ca-c78c-716975967287"
      },
      "execution_count": 92,
      "outputs": [
        {
          "output_type": "execute_result",
          "data": {
            "text/plain": [
              "(50001, 72586)"
            ]
          },
          "metadata": {},
          "execution_count": 92
        }
      ]
    },
    {
      "cell_type": "code",
      "source": [
        "print(df[\"Tweet\"].apply(type).unique())\n",
        "\n"
      ],
      "metadata": {
        "colab": {
          "base_uri": "https://localhost:8080/"
        },
        "id": "DZaMgAFOIQ9N",
        "outputId": "ef6d1696-15fc-4947-edc5-d6f24b8ad05d"
      },
      "execution_count": 93,
      "outputs": [
        {
          "output_type": "stream",
          "name": "stdout",
          "text": [
            "[<class 'str'> <class 'float'>]\n"
          ]
        }
      ]
    },
    {
      "cell_type": "code",
      "source": [
        "df[\"Tweet\"] = pd.to_numeric(df[\"Tweet\"], errors=\"coerce\")\n",
        "df[\"Tweet\"] = df[\"Tweet\"].fillna(-1).astype(int)\n",
        "df[\"Tweet\"] = np.where(df[\"Tweet\"] < 0, np.nan, df[\"Tweet\"])"
      ],
      "metadata": {
        "id": "y5H0Kj_uIubj"
      },
      "execution_count": 94,
      "outputs": []
    },
    {
      "cell_type": "code",
      "source": [
        "print(df[\"Tweet\"].dtype)\n"
      ],
      "metadata": {
        "colab": {
          "base_uri": "https://localhost:8080/"
        },
        "id": "PaYL9AQbIu4T",
        "outputId": "90e230fa-bba8-4ce9-ec13-f0a0b25ef526"
      },
      "execution_count": 95,
      "outputs": [
        {
          "output_type": "stream",
          "name": "stdout",
          "text": [
            "float64\n"
          ]
        }
      ]
    },
    {
      "cell_type": "code",
      "source": [
        "x=train_data\n",
        "y=df[\"Tweet\"]"
      ],
      "metadata": {
        "id": "AIyNDAblI4En"
      },
      "execution_count": 96,
      "outputs": []
    },
    {
      "cell_type": "code",
      "source": [
        "y.dtypes"
      ],
      "metadata": {
        "colab": {
          "base_uri": "https://localhost:8080/"
        },
        "id": "5r2cdGzZJEx3",
        "outputId": "b6a5766a-483d-4047-9562-8629b3c69dd5"
      },
      "execution_count": 97,
      "outputs": [
        {
          "output_type": "execute_result",
          "data": {
            "text/plain": [
              "dtype('float64')"
            ]
          },
          "metadata": {},
          "execution_count": 97
        }
      ]
    },
    {
      "cell_type": "code",
      "source": [
        "y.isna().sum()"
      ],
      "metadata": {
        "colab": {
          "base_uri": "https://localhost:8080/"
        },
        "id": "RRDh8xZQJHbA",
        "outputId": "ba306186-7c5d-4d3c-f5a8-f1720002d534"
      },
      "execution_count": 98,
      "outputs": [
        {
          "output_type": "execute_result",
          "data": {
            "text/plain": [
              "50001"
            ]
          },
          "metadata": {},
          "execution_count": 98
        }
      ]
    },
    {
      "cell_type": "code",
      "source": [
        "df[\"Tweet\"].fillna(pd.Series(range(1, 500002)), inplace=True)\n"
      ],
      "metadata": {
        "id": "VTmXN8BiJKRy"
      },
      "execution_count": 99,
      "outputs": []
    },
    {
      "cell_type": "code",
      "source": [
        "y.isna().sum()"
      ],
      "metadata": {
        "colab": {
          "base_uri": "https://localhost:8080/"
        },
        "id": "kJ12QPFOJl9B",
        "outputId": "eace0862-9145-49af-a48a-da7efd78e1db"
      },
      "execution_count": 100,
      "outputs": [
        {
          "output_type": "execute_result",
          "data": {
            "text/plain": [
              "0"
            ]
          },
          "metadata": {},
          "execution_count": 100
        }
      ]
    },
    {
      "cell_type": "code",
      "source": [
        "#machine learning model\n",
        "from sklearn.model_selection import train_test_split\n",
        "x_train,x_test,y_train,y_test = train_test_split(x,y,test_size=0.30,random_state=42)\n",
        "x_train.shape"
      ],
      "metadata": {
        "colab": {
          "base_uri": "https://localhost:8080/"
        },
        "id": "tWfXYeXbJqyo",
        "outputId": "6b3de340-c446-40e9-872b-35de7eda84ab"
      },
      "execution_count": 103,
      "outputs": [
        {
          "output_type": "execute_result",
          "data": {
            "text/plain": [
              "(35000, 72586)"
            ]
          },
          "metadata": {},
          "execution_count": 103
        }
      ]
    },
    {
      "cell_type": "code",
      "source": [
        "x_test.shape"
      ],
      "metadata": {
        "colab": {
          "base_uri": "https://localhost:8080/"
        },
        "id": "SkXu75P6KIv6",
        "outputId": "7f3ca363-e995-4162-8c78-ec1c47bbe51e"
      },
      "execution_count": 104,
      "outputs": [
        {
          "output_type": "execute_result",
          "data": {
            "text/plain": [
              "(15001, 72586)"
            ]
          },
          "metadata": {},
          "execution_count": 104
        }
      ]
    },
    {
      "cell_type": "code",
      "source": [
        "y_train.shape"
      ],
      "metadata": {
        "colab": {
          "base_uri": "https://localhost:8080/"
        },
        "id": "js1uio2iKbnt",
        "outputId": "4b3f85e1-f955-449b-9c61-457e4faa856b"
      },
      "execution_count": 105,
      "outputs": [
        {
          "output_type": "execute_result",
          "data": {
            "text/plain": [
              "(35000,)"
            ]
          },
          "metadata": {},
          "execution_count": 105
        }
      ]
    },
    {
      "cell_type": "code",
      "source": [
        "y_test.shape"
      ],
      "metadata": {
        "colab": {
          "base_uri": "https://localhost:8080/"
        },
        "id": "i1tBWcw7Kdg-",
        "outputId": "6a14c8fd-4c3b-42a7-bfbf-d751f209c0e5"
      },
      "execution_count": 106,
      "outputs": [
        {
          "output_type": "execute_result",
          "data": {
            "text/plain": [
              "(15001,)"
            ]
          },
          "metadata": {},
          "execution_count": 106
        }
      ]
    },
    {
      "cell_type": "code",
      "source": [
        "from sklearn.ensemble import RandomForestClassifier\n",
        "model = RandomForestClassifier(max_depth=7)\n",
        "model.fit(x_train,y_train)"
      ],
      "metadata": {
        "colab": {
          "base_uri": "https://localhost:8080/",
          "height": 75
        },
        "id": "OH5EYT4lKelC",
        "outputId": "28485fef-8d8d-49d7-c29e-4b9ef117c5a0"
      },
      "execution_count": 107,
      "outputs": [
        {
          "output_type": "execute_result",
          "data": {
            "text/plain": [
              "RandomForestClassifier(max_depth=7)"
            ],
            "text/html": [
              "<style>#sk-container-id-1 {color: black;background-color: white;}#sk-container-id-1 pre{padding: 0;}#sk-container-id-1 div.sk-toggleable {background-color: white;}#sk-container-id-1 label.sk-toggleable__label {cursor: pointer;display: block;width: 100%;margin-bottom: 0;padding: 0.3em;box-sizing: border-box;text-align: center;}#sk-container-id-1 label.sk-toggleable__label-arrow:before {content: \"▸\";float: left;margin-right: 0.25em;color: #696969;}#sk-container-id-1 label.sk-toggleable__label-arrow:hover:before {color: black;}#sk-container-id-1 div.sk-estimator:hover label.sk-toggleable__label-arrow:before {color: black;}#sk-container-id-1 div.sk-toggleable__content {max-height: 0;max-width: 0;overflow: hidden;text-align: left;background-color: #f0f8ff;}#sk-container-id-1 div.sk-toggleable__content pre {margin: 0.2em;color: black;border-radius: 0.25em;background-color: #f0f8ff;}#sk-container-id-1 input.sk-toggleable__control:checked~div.sk-toggleable__content {max-height: 200px;max-width: 100%;overflow: auto;}#sk-container-id-1 input.sk-toggleable__control:checked~label.sk-toggleable__label-arrow:before {content: \"▾\";}#sk-container-id-1 div.sk-estimator input.sk-toggleable__control:checked~label.sk-toggleable__label {background-color: #d4ebff;}#sk-container-id-1 div.sk-label input.sk-toggleable__control:checked~label.sk-toggleable__label {background-color: #d4ebff;}#sk-container-id-1 input.sk-hidden--visually {border: 0;clip: rect(1px 1px 1px 1px);clip: rect(1px, 1px, 1px, 1px);height: 1px;margin: -1px;overflow: hidden;padding: 0;position: absolute;width: 1px;}#sk-container-id-1 div.sk-estimator {font-family: monospace;background-color: #f0f8ff;border: 1px dotted black;border-radius: 0.25em;box-sizing: border-box;margin-bottom: 0.5em;}#sk-container-id-1 div.sk-estimator:hover {background-color: #d4ebff;}#sk-container-id-1 div.sk-parallel-item::after {content: \"\";width: 100%;border-bottom: 1px solid gray;flex-grow: 1;}#sk-container-id-1 div.sk-label:hover label.sk-toggleable__label {background-color: #d4ebff;}#sk-container-id-1 div.sk-serial::before {content: \"\";position: absolute;border-left: 1px solid gray;box-sizing: border-box;top: 0;bottom: 0;left: 50%;z-index: 0;}#sk-container-id-1 div.sk-serial {display: flex;flex-direction: column;align-items: center;background-color: white;padding-right: 0.2em;padding-left: 0.2em;position: relative;}#sk-container-id-1 div.sk-item {position: relative;z-index: 1;}#sk-container-id-1 div.sk-parallel {display: flex;align-items: stretch;justify-content: center;background-color: white;position: relative;}#sk-container-id-1 div.sk-item::before, #sk-container-id-1 div.sk-parallel-item::before {content: \"\";position: absolute;border-left: 1px solid gray;box-sizing: border-box;top: 0;bottom: 0;left: 50%;z-index: -1;}#sk-container-id-1 div.sk-parallel-item {display: flex;flex-direction: column;z-index: 1;position: relative;background-color: white;}#sk-container-id-1 div.sk-parallel-item:first-child::after {align-self: flex-end;width: 50%;}#sk-container-id-1 div.sk-parallel-item:last-child::after {align-self: flex-start;width: 50%;}#sk-container-id-1 div.sk-parallel-item:only-child::after {width: 0;}#sk-container-id-1 div.sk-dashed-wrapped {border: 1px dashed gray;margin: 0 0.4em 0.5em 0.4em;box-sizing: border-box;padding-bottom: 0.4em;background-color: white;}#sk-container-id-1 div.sk-label label {font-family: monospace;font-weight: bold;display: inline-block;line-height: 1.2em;}#sk-container-id-1 div.sk-label-container {text-align: center;}#sk-container-id-1 div.sk-container {/* jupyter's `normalize.less` sets `[hidden] { display: none; }` but bootstrap.min.css set `[hidden] { display: none !important; }` so we also need the `!important` here to be able to override the default hidden behavior on the sphinx rendered scikit-learn.org. See: https://github.com/scikit-learn/scikit-learn/issues/21755 */display: inline-block !important;position: relative;}#sk-container-id-1 div.sk-text-repr-fallback {display: none;}</style><div id=\"sk-container-id-1\" class=\"sk-top-container\"><div class=\"sk-text-repr-fallback\"><pre>RandomForestClassifier(max_depth=7)</pre><b>In a Jupyter environment, please rerun this cell to show the HTML representation or trust the notebook. <br />On GitHub, the HTML representation is unable to render, please try loading this page with nbviewer.org.</b></div><div class=\"sk-container\" hidden><div class=\"sk-item\"><div class=\"sk-estimator sk-toggleable\"><input class=\"sk-toggleable__control sk-hidden--visually\" id=\"sk-estimator-id-1\" type=\"checkbox\" checked><label for=\"sk-estimator-id-1\" class=\"sk-toggleable__label sk-toggleable__label-arrow\">RandomForestClassifier</label><div class=\"sk-toggleable__content\"><pre>RandomForestClassifier(max_depth=7)</pre></div></div></div></div></div>"
            ]
          },
          "metadata": {},
          "execution_count": 107
        }
      ]
    },
    {
      "cell_type": "code",
      "source": [
        "y_pred = model.predict(x_test)\n",
        "y_pred"
      ],
      "metadata": {
        "colab": {
          "base_uri": "https://localhost:8080/"
        },
        "id": "t0JKy6YDKv33",
        "outputId": "6e381f46-e4ea-4619-a37e-458e76b62fe1"
      },
      "execution_count": 108,
      "outputs": [
        {
          "output_type": "execute_result",
          "data": {
            "text/plain": [
              "array([31748., 31748., 31748., ...,  7355., 31748., 31748.])"
            ]
          },
          "metadata": {},
          "execution_count": 108
        }
      ]
    },
    {
      "cell_type": "code",
      "source": [
        "y_test"
      ],
      "metadata": {
        "colab": {
          "base_uri": "https://localhost:8080/"
        },
        "id": "wFDXKR2lK3os",
        "outputId": "0153e0c4-9578-48ec-f8b7-a2f638ae7471"
      },
      "execution_count": 109,
      "outputs": [
        {
          "output_type": "execute_result",
          "data": {
            "text/plain": [
              "33553    33554.0\n",
              "9427      9428.0\n",
              "199        200.0\n",
              "12447    12448.0\n",
              "39489    39490.0\n",
              "          ...   \n",
              "44844    44845.0\n",
              "39317    39318.0\n",
              "42192    42193.0\n",
              "15109    15110.0\n",
              "38094    38095.0\n",
              "Name: Tweet, Length: 15001, dtype: float64"
            ]
          },
          "metadata": {},
          "execution_count": 109
        }
      ]
    },
    {
      "cell_type": "code",
      "source": [
        "#confusion matrix,accuracy score,classification report\n",
        "from sklearn.metrics import confusion_matrix,accuracy_score,classification_report\n",
        "result = confusion_matrix(y_test,y_pred)\n",
        "result"
      ],
      "metadata": {
        "colab": {
          "base_uri": "https://localhost:8080/"
        },
        "id": "_L5wdMfoK6Ff",
        "outputId": "8ec2a8eb-2a3e-4ba4-eb74-3f37f1fa254a"
      },
      "execution_count": 110,
      "outputs": [
        {
          "output_type": "execute_result",
          "data": {
            "text/plain": [
              "array([[0, 0, 0, ..., 0, 0, 0],\n",
              "       [0, 0, 0, ..., 0, 0, 0],\n",
              "       [0, 0, 0, ..., 0, 0, 0],\n",
              "       ...,\n",
              "       [0, 0, 0, ..., 0, 0, 0],\n",
              "       [0, 0, 0, ..., 0, 0, 0],\n",
              "       [0, 0, 0, ..., 0, 0, 0]])"
            ]
          },
          "metadata": {},
          "execution_count": 110
        }
      ]
    },
    {
      "cell_type": "code",
      "source": [
        "score = accuracy_score(y_test,y_pred)\n",
        "score"
      ],
      "metadata": {
        "colab": {
          "base_uri": "https://localhost:8080/"
        },
        "id": "tVwC9SaPLSjr",
        "outputId": "5c92538e-766b-4c4f-bf50-736a60586af6"
      },
      "execution_count": 111,
      "outputs": [
        {
          "output_type": "execute_result",
          "data": {
            "text/plain": [
              "0.0"
            ]
          },
          "metadata": {},
          "execution_count": 111
        }
      ]
    },
    {
      "cell_type": "code",
      "source": [
        "from sklearn.tree import plot_tree\n",
        "clf = RandomForestClassifier(n_estimators=7)\n",
        "clf.fit(x_train, y_train)\n",
        "plot_tree(clf.estimators_[0])"
      ],
      "metadata": {
        "id": "2J64HHgiLZOm"
      },
      "execution_count": null,
      "outputs": []
    },
    {
      "cell_type": "code",
      "source": [
        "report = classification_report(y_pred,y_test)\n",
        "report"
      ],
      "metadata": {
        "id": "BdLH0v8wLzB2"
      },
      "execution_count": null,
      "outputs": []
    },
    {
      "cell_type": "code",
      "source": [
        "ConfusionMatrixDisplay,\n",
        "#plotting confusion matrix display\n",
        "result = confusion_matrix(y_test,y_pred)\n",
        "labels = [1,-1,0]\n",
        "cmd = ConfusionMatrixDisplay(result,display_labels=labels)\n",
        "cmd.plot()"
      ],
      "metadata": {
        "id": "uJEI2O93MKn_"
      },
      "execution_count": null,
      "outputs": []
    }
  ]
}