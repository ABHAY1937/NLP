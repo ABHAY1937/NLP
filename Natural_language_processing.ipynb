{
  "nbformat": 4,
  "nbformat_minor": 0,
  "metadata": {
    "colab": {
      "provenance": [],
      "authorship_tag": "ABX9TyOsvAKUWnZkSSWikUroaVNp",
      "include_colab_link": true
    },
    "kernelspec": {
      "name": "python3",
      "display_name": "Python 3"
    },
    "language_info": {
      "name": "python"
    }
  },
  "cells": [
    {
      "cell_type": "markdown",
      "metadata": {
        "id": "view-in-github",
        "colab_type": "text"
      },
      "source": [
        "<a href=\"https://colab.research.google.com/github/ABHAY1937/NLP/blob/main/Natural_language_processing.ipynb\" target=\"_parent\"><img src=\"https://colab.research.google.com/assets/colab-badge.svg\" alt=\"Open In Colab\"/></a>"
      ]
    },
    {
      "cell_type": "code",
      "execution_count": null,
      "metadata": {
        "id": "hC4nUZY5eeDc"
      },
      "outputs": [],
      "source": [
        "#the library used here is \n",
        "#nltk ===> natural language toolkit\n",
        "import nltk "
      ]
    },
    {
      "cell_type": "code",
      "source": [
        "help(nltk)"
      ],
      "metadata": {
        "colab": {
          "base_uri": "https://localhost:8080/"
        },
        "id": "-uRuKJltfGDt",
        "outputId": "32dcf4ff-660b-4ced-ce9d-ec6c8ccf6530"
      },
      "execution_count": null,
      "outputs": [
        {
          "output_type": "stream",
          "name": "stdout",
          "text": [
            "Help on package nltk:\n",
            "\n",
            "NAME\n",
            "    nltk\n",
            "\n",
            "DESCRIPTION\n",
            "    The Natural Language Toolkit (NLTK) is an open source Python library\n",
            "    for Natural Language Processing.  A free online book is available.\n",
            "    (If you use the library for academic research, please cite the book.)\n",
            "    \n",
            "    Steven Bird, Ewan Klein, and Edward Loper (2009).\n",
            "    Natural Language Processing with Python.  O'Reilly Media Inc.\n",
            "    https://www.nltk.org/book/\n",
            "    \n",
            "    isort:skip_file\n",
            "    \n",
            "    @version: 3.8.1\n",
            "\n",
            "PACKAGE CONTENTS\n",
            "    app (package)\n",
            "    book\n",
            "    ccg (package)\n",
            "    chat (package)\n",
            "    chunk (package)\n",
            "    classify (package)\n",
            "    cli\n",
            "    cluster (package)\n",
            "    collections\n",
            "    collocations\n",
            "    compat\n",
            "    corpus (package)\n",
            "    data\n",
            "    decorators\n",
            "    downloader\n",
            "    draw (package)\n",
            "    featstruct\n",
            "    grammar\n",
            "    help\n",
            "    inference (package)\n",
            "    internals\n",
            "    jsontags\n",
            "    langnames\n",
            "    lazyimport\n",
            "    lm (package)\n",
            "    metrics (package)\n",
            "    misc (package)\n",
            "    parse (package)\n",
            "    probability\n",
            "    sem (package)\n",
            "    sentiment (package)\n",
            "    stem (package)\n",
            "    tag (package)\n",
            "    tbl (package)\n",
            "    test (package)\n",
            "    text\n",
            "    tgrep\n",
            "    tokenize (package)\n",
            "    toolbox\n",
            "    translate (package)\n",
            "    tree (package)\n",
            "    treeprettyprinter\n",
            "    treetransforms\n",
            "    twitter (package)\n",
            "    util\n",
            "    wsd\n",
            "\n",
            "SUBMODULES\n",
            "    agreement\n",
            "    aline\n",
            "    api\n",
            "    arlstem\n",
            "    arlstem2\n",
            "    association\n",
            "    bleu_score\n",
            "    bllip\n",
            "    boxer\n",
            "    brill\n",
            "    brill_trainer\n",
            "    casual\n",
            "    chart\n",
            "    chrf_score\n",
            "    cistem\n",
            "    confusionmatrix\n",
            "    corenlp\n",
            "    crf\n",
            "    decisiontree\n",
            "    dependencygraph\n",
            "    destructive\n",
            "    discourse\n",
            "    distance\n",
            "    drt\n",
            "    earleychart\n",
            "    evaluate\n",
            "    featurechart\n",
            "    gale_church\n",
            "    gdfa\n",
            "    gleu_score\n",
            "    glue\n",
            "    hmm\n",
            "    hunpos\n",
            "    ibm1\n",
            "    ibm2\n",
            "    ibm3\n",
            "    ibm4\n",
            "    ibm5\n",
            "    ibm_model\n",
            "    isri\n",
            "    lancaster\n",
            "    legality_principle\n",
            "    lfg\n",
            "    linearlogic\n",
            "    logic\n",
            "    mace\n",
            "    malt\n",
            "    mapping\n",
            "    maxent\n",
            "    megam\n",
            "    meteor_score\n",
            "    mwe\n",
            "    naivebayes\n",
            "    nist_score\n",
            "    nonprojectivedependencyparser\n",
            "    paice\n",
            "    pchart\n",
            "    perceptron\n",
            "    phrase_based\n",
            "    porter\n",
            "    positivenaivebayes\n",
            "    projectivedependencyparser\n",
            "    prover9\n",
            "    punkt\n",
            "    recursivedescent\n",
            "    regexp\n",
            "    relextract\n",
            "    repp\n",
            "    resolution\n",
            "    ribes_score\n",
            "    rslp\n",
            "    rte_classify\n",
            "    scikitlearn\n",
            "    scores\n",
            "    segmentation\n",
            "    senna\n",
            "    sequential\n",
            "    sexpr\n",
            "    shiftreduce\n",
            "    simple\n",
            "    snowball\n",
            "    sonority_sequencing\n",
            "    spearman\n",
            "    stack_decoder\n",
            "    stanford\n",
            "    stanford_segmenter\n",
            "    tableau\n",
            "    tadm\n",
            "    textcat\n",
            "    texttiling\n",
            "    tnt\n",
            "    toktok\n",
            "    transitionparser\n",
            "    treebank\n",
            "    viterbi\n",
            "    weka\n",
            "    wordnet\n",
            "\n",
            "FUNCTIONS\n",
            "    demo()\n",
            "        # FIXME:  override any accidentally imported demo, see https://github.com/nltk/nltk/issues/2116\n",
            "    \n",
            "    tee(iterable, n=2, /)\n",
            "        Returns a tuple of n independent iterators.\n",
            "\n",
            "DATA\n",
            "    RUS_PICKLE = 'taggers/averaged_perceptron_tagger_ru/averaged_perceptro...\n",
            "    SLASH = *slash*\n",
            "    TYPE = *type*\n",
            "    __author_email__ = 'nltk.team@gmail.com'\n",
            "    __classifiers__ = ['Development Status :: 5 - Production/Stable', 'Int...\n",
            "    __copyright__ = 'Copyright (C) 2001-2023 NLTK Project.\\n\\nDistribut......\n",
            "    __keywords__ = ['NLP', 'CL', 'natural language processing', 'computati...\n",
            "    __license__ = 'Apache License, Version 2.0'\n",
            "    __longdescr__ = 'The Natural Language Toolkit (NLTK) is a Python ...NL...\n",
            "    __maintainer__ = 'NLTK Team'\n",
            "    __maintainer_email__ = 'nltk.team@gmail.com'\n",
            "    __url__ = 'https://www.nltk.org/'\n",
            "    app = <LazyModule 'nltk.app'>\n",
            "    infile = <_io.TextIOWrapper name='/usr/local/lib/python3....packages/n...\n",
            "    json_tags = {'!nltk.tag.BrillTagger': <class 'nltk.tag.brill.BrillTagg...\n",
            "    version_file = '/usr/local/lib/python3.9/dist-packages/nltk/VERSION'\n",
            "\n",
            "VERSION\n",
            "    3.8.1\n",
            "\n",
            "AUTHOR\n",
            "    NLTK Team\n",
            "\n",
            "FILE\n",
            "    /usr/local/lib/python3.9/dist-packages/nltk/__init__.py\n",
            "\n",
            "\n"
          ]
        }
      ]
    },
    {
      "cell_type": "code",
      "source": [
        "#identification of stop words\n",
        "nltk.download('stopwords')\n",
        "from nltk.corpus import stopwords\n",
        "sw=stopwords.words(\"english\")\n",
        "sw\n"
      ],
      "metadata": {
        "colab": {
          "base_uri": "https://localhost:8080/"
        },
        "id": "EWNuvAMufThP",
        "outputId": "7588be51-6bc8-48bd-d9d7-9c7b3a6270ac"
      },
      "execution_count": null,
      "outputs": [
        {
          "output_type": "stream",
          "name": "stderr",
          "text": [
            "[nltk_data] Downloading package stopwords to /root/nltk_data...\n",
            "[nltk_data]   Package stopwords is already up-to-date!\n"
          ]
        },
        {
          "output_type": "execute_result",
          "data": {
            "text/plain": [
              "['i',\n",
              " 'me',\n",
              " 'my',\n",
              " 'myself',\n",
              " 'we',\n",
              " 'our',\n",
              " 'ours',\n",
              " 'ourselves',\n",
              " 'you',\n",
              " \"you're\",\n",
              " \"you've\",\n",
              " \"you'll\",\n",
              " \"you'd\",\n",
              " 'your',\n",
              " 'yours',\n",
              " 'yourself',\n",
              " 'yourselves',\n",
              " 'he',\n",
              " 'him',\n",
              " 'his',\n",
              " 'himself',\n",
              " 'she',\n",
              " \"she's\",\n",
              " 'her',\n",
              " 'hers',\n",
              " 'herself',\n",
              " 'it',\n",
              " \"it's\",\n",
              " 'its',\n",
              " 'itself',\n",
              " 'they',\n",
              " 'them',\n",
              " 'their',\n",
              " 'theirs',\n",
              " 'themselves',\n",
              " 'what',\n",
              " 'which',\n",
              " 'who',\n",
              " 'whom',\n",
              " 'this',\n",
              " 'that',\n",
              " \"that'll\",\n",
              " 'these',\n",
              " 'those',\n",
              " 'am',\n",
              " 'is',\n",
              " 'are',\n",
              " 'was',\n",
              " 'were',\n",
              " 'be',\n",
              " 'been',\n",
              " 'being',\n",
              " 'have',\n",
              " 'has',\n",
              " 'had',\n",
              " 'having',\n",
              " 'do',\n",
              " 'does',\n",
              " 'did',\n",
              " 'doing',\n",
              " 'a',\n",
              " 'an',\n",
              " 'the',\n",
              " 'and',\n",
              " 'but',\n",
              " 'if',\n",
              " 'or',\n",
              " 'because',\n",
              " 'as',\n",
              " 'until',\n",
              " 'while',\n",
              " 'of',\n",
              " 'at',\n",
              " 'by',\n",
              " 'for',\n",
              " 'with',\n",
              " 'about',\n",
              " 'against',\n",
              " 'between',\n",
              " 'into',\n",
              " 'through',\n",
              " 'during',\n",
              " 'before',\n",
              " 'after',\n",
              " 'above',\n",
              " 'below',\n",
              " 'to',\n",
              " 'from',\n",
              " 'up',\n",
              " 'down',\n",
              " 'in',\n",
              " 'out',\n",
              " 'on',\n",
              " 'off',\n",
              " 'over',\n",
              " 'under',\n",
              " 'again',\n",
              " 'further',\n",
              " 'then',\n",
              " 'once',\n",
              " 'here',\n",
              " 'there',\n",
              " 'when',\n",
              " 'where',\n",
              " 'why',\n",
              " 'how',\n",
              " 'all',\n",
              " 'any',\n",
              " 'both',\n",
              " 'each',\n",
              " 'few',\n",
              " 'more',\n",
              " 'most',\n",
              " 'other',\n",
              " 'some',\n",
              " 'such',\n",
              " 'no',\n",
              " 'nor',\n",
              " 'not',\n",
              " 'only',\n",
              " 'own',\n",
              " 'same',\n",
              " 'so',\n",
              " 'than',\n",
              " 'too',\n",
              " 'very',\n",
              " 's',\n",
              " 't',\n",
              " 'can',\n",
              " 'will',\n",
              " 'just',\n",
              " 'don',\n",
              " \"don't\",\n",
              " 'should',\n",
              " \"should've\",\n",
              " 'now',\n",
              " 'd',\n",
              " 'll',\n",
              " 'm',\n",
              " 'o',\n",
              " 're',\n",
              " 've',\n",
              " 'y',\n",
              " 'ain',\n",
              " 'aren',\n",
              " \"aren't\",\n",
              " 'couldn',\n",
              " \"couldn't\",\n",
              " 'didn',\n",
              " \"didn't\",\n",
              " 'doesn',\n",
              " \"doesn't\",\n",
              " 'hadn',\n",
              " \"hadn't\",\n",
              " 'hasn',\n",
              " \"hasn't\",\n",
              " 'haven',\n",
              " \"haven't\",\n",
              " 'isn',\n",
              " \"isn't\",\n",
              " 'ma',\n",
              " 'mightn',\n",
              " \"mightn't\",\n",
              " 'mustn',\n",
              " \"mustn't\",\n",
              " 'needn',\n",
              " \"needn't\",\n",
              " 'shan',\n",
              " \"shan't\",\n",
              " 'shouldn',\n",
              " \"shouldn't\",\n",
              " 'wasn',\n",
              " \"wasn't\",\n",
              " 'weren',\n",
              " \"weren't\",\n",
              " 'won',\n",
              " \"won't\",\n",
              " 'wouldn',\n",
              " \"wouldn't\"]"
            ]
          },
          "metadata": {},
          "execution_count": 54
        }
      ]
    },
    {
      "cell_type": "code",
      "source": [
        "#count\n",
        "print(len(sw))\n"
      ],
      "metadata": {
        "colab": {
          "base_uri": "https://localhost:8080/"
        },
        "id": "Rd1SWvo1gJJU",
        "outputId": "c3f58c29-603b-4ef1-ae82-e66449b77176"
      },
      "execution_count": null,
      "outputs": [
        {
          "output_type": "stream",
          "name": "stdout",
          "text": [
            "179\n"
          ]
        }
      ]
    },
    {
      "cell_type": "code",
      "source": [
        "#tokenization (normal senetence =\"\"), (more than one senternce==\"\"\"....\"\"\")\n",
        "#tweet_tokenize\n",
        "nltk.download('punkt')\n",
        "sentence=\"\"\" There is a man walking around the road for several times also\n",
        "for natural language processing there were a new book is launged yet\"\"\"\n",
        "tokens=nltk.word_tokenize(sentence)\n",
        "print(tokens)"
      ],
      "metadata": {
        "colab": {
          "base_uri": "https://localhost:8080/"
        },
        "id": "XQjkMxdZgyKo",
        "outputId": "d5b70388-1643-4567-8443-f2b47da4484e"
      },
      "execution_count": null,
      "outputs": [
        {
          "output_type": "stream",
          "name": "stdout",
          "text": [
            "['There', 'is', 'a', 'man', 'walking', 'around', 'the', 'road', 'for', 'several', 'times', 'also', 'for', 'natural', 'language', 'processing', 'there', 'were', 'a', 'new', 'book', 'is', 'launged', 'yet']\n"
          ]
        },
        {
          "output_type": "stream",
          "name": "stderr",
          "text": [
            "[nltk_data] Downloading package punkt to /root/nltk_data...\n",
            "[nltk_data]   Package punkt is already up-to-date!\n"
          ]
        }
      ]
    },
    {
      "cell_type": "code",
      "source": [
        "#\n",
        "nltk.download(\"stopwords\")\n",
        "from nltk.corpus import stopwords\n",
        "sw=stopwords.words(\"english\")\n",
        "nltk.download(\"punkt\")\n",
        "sentence=\"\"\"Planet Earth is the only planet out of the eight planets in the Solar system that hosts life. \n",
        "It is able to sustain life due to its atmosphere,\n",
        " which is a blanket of air that prevents the earth from harsh sunrays and environment.\"\"\"\n",
        "tokens=nltk.word_tokenize(sentence)\n",
        "tokens_sw=[i.lower() for i in tokens if i not in sw] #list comprihension\n",
        "print(tokens_sw)"
      ],
      "metadata": {
        "colab": {
          "base_uri": "https://localhost:8080/"
        },
        "id": "JgzKrk9mihtZ",
        "outputId": "7a4311c0-db5d-4cd0-ae12-e507101b8c0c"
      },
      "execution_count": null,
      "outputs": [
        {
          "output_type": "stream",
          "name": "stdout",
          "text": [
            "['planet', 'earth', 'planet', 'eight', 'planets', 'solar', 'system', 'hosts', 'life', '.', 'it', 'able', 'sustain', 'life', 'due', 'atmosphere', ',', 'blanket', 'air', 'prevents', 'earth', 'harsh', 'sunrays', 'environment', '.']\n"
          ]
        },
        {
          "output_type": "stream",
          "name": "stderr",
          "text": [
            "[nltk_data] Downloading package stopwords to /root/nltk_data...\n",
            "[nltk_data]   Package stopwords is already up-to-date!\n",
            "[nltk_data] Downloading package punkt to /root/nltk_data...\n",
            "[nltk_data]   Package punkt is already up-to-date!\n"
          ]
        }
      ]
    },
    {
      "cell_type": "code",
      "source": [
        "#pos_tag\n",
        "nltk.download('averaged_perceptron_tagger')\n",
        "tagged=nltk.pos_tag(tokens)\n",
        "print(tagged)"
      ],
      "metadata": {
        "colab": {
          "base_uri": "https://localhost:8080/"
        },
        "id": "aLNMDlShnISj",
        "outputId": "4629b291-a866-4925-c96f-651d9d554328"
      },
      "execution_count": null,
      "outputs": [
        {
          "output_type": "stream",
          "name": "stdout",
          "text": [
            "[('Planet', 'NNP'), ('Earth', 'NNP'), ('is', 'VBZ'), ('the', 'DT'), ('only', 'JJ'), ('planet', 'NN'), ('out', 'IN'), ('of', 'IN'), ('the', 'DT'), ('eight', 'CD'), ('planets', 'NNS'), ('in', 'IN'), ('the', 'DT'), ('Solar', 'NNP'), ('system', 'NN'), ('that', 'WDT'), ('hosts', 'VBZ'), ('life', 'NN'), ('.', '.'), ('It', 'PRP'), ('is', 'VBZ'), ('able', 'JJ'), ('to', 'TO'), ('sustain', 'VB'), ('life', 'NN'), ('due', 'JJ'), ('to', 'TO'), ('its', 'PRP$'), ('atmosphere', 'NN'), (',', ','), ('which', 'WDT'), ('is', 'VBZ'), ('a', 'DT'), ('blanket', 'NN'), ('of', 'IN'), ('air', 'NN'), ('that', 'WDT'), ('prevents', 'VBZ'), ('the', 'DT'), ('earth', 'NN'), ('from', 'IN'), ('harsh', 'JJ'), ('sunrays', 'NNS'), ('and', 'CC'), ('environment', 'NN'), ('.', '.')]\n"
          ]
        },
        {
          "output_type": "stream",
          "name": "stderr",
          "text": [
            "[nltk_data] Downloading package averaged_perceptron_tagger to\n",
            "[nltk_data]     /root/nltk_data...\n",
            "[nltk_data]   Package averaged_perceptron_tagger is already up-to-\n",
            "[nltk_data]       date!\n"
          ]
        }
      ]
    },
    {
      "cell_type": "code",
      "source": [
        "#n_gram\n",
        "from nltk.util import ngrams\n",
        "sample=\"i am the guy who will join in the google within an year with zero qualification\"\n",
        "ngramobj=ngrams(sequence=nltk.word_tokenize(sample),n=3)\n",
        "for i in ngramobj:\n",
        "  print(i)"
      ],
      "metadata": {
        "colab": {
          "base_uri": "https://localhost:8080/"
        },
        "id": "grbQagOMnoVz",
        "outputId": "22e4e833-fbea-428e-bd60-1b695ae5a0ca"
      },
      "execution_count": null,
      "outputs": [
        {
          "output_type": "stream",
          "name": "stdout",
          "text": [
            "('i', 'am', 'the')\n",
            "('am', 'the', 'guy')\n",
            "('the', 'guy', 'who')\n",
            "('guy', 'who', 'will')\n",
            "('who', 'will', 'join')\n",
            "('will', 'join', 'in')\n",
            "('join', 'in', 'the')\n",
            "('in', 'the', 'google')\n",
            "('the', 'google', 'within')\n",
            "('google', 'within', 'an')\n",
            "('within', 'an', 'year')\n",
            "('an', 'year', 'with')\n",
            "('year', 'with', 'zero')\n",
            "('with', 'zero', 'qualification')\n"
          ]
        }
      ]
    },
    {
      "cell_type": "code",
      "source": [
        "#stemming\n",
        "from nltk.stem import PorterStemmer\n",
        "from nltk.tokenize import word_tokenize\n",
        "ps=PorterStemmer()\n",
        "words=[\"programmes\",\"came\",\"go\",\"when\",\"went\",\"get\",\"outing\",\"king\",\"queens\",\"apple\",\"grape\",\"animal\",\"crow\",\"bag\",\"caring\",\"bikeing\",\"tempo\",\"lorry\",\"further\",\"drunk\"]\n",
        "for i in words:\n",
        "  print(i,\",\",ps.stem(i))"
      ],
      "metadata": {
        "colab": {
          "base_uri": "https://localhost:8080/"
        },
        "id": "hMUggCpPpLVX",
        "outputId": "4e396f3f-31b1-467e-b3d7-5ccab06ca2be"
      },
      "execution_count": null,
      "outputs": [
        {
          "output_type": "stream",
          "name": "stdout",
          "text": [
            "programmes , programm\n",
            "came , came\n",
            "go , go\n",
            "when , when\n",
            "went , went\n",
            "get , get\n",
            "outing , outing\n",
            "king , king\n",
            "queens , queen\n",
            "apple , appl\n",
            "grape , grape\n",
            "animal , anim\n",
            "crow , crow\n",
            "bag , bag\n",
            "caring , care\n",
            "bikeing , bike\n",
            "tempo , tempo\n",
            "lorry , lorri\n",
            "further , further\n",
            "drunk , drunk\n"
          ]
        }
      ]
    },
    {
      "cell_type": "code",
      "source": [
        "#second type of stemmer\n",
        "#snowball stemmer\n",
        "from nltk.stem import SnowballStemmer\n",
        "from nltk.tokenize import word_tokenize\n",
        "ss=SnowballStemmer(\"english\")\n",
        "for i in words:\n",
        "  print(i,\",\",ss.stem(i))"
      ],
      "metadata": {
        "colab": {
          "base_uri": "https://localhost:8080/"
        },
        "id": "kqCJeueCrUGn",
        "outputId": "b024d2f2-c220-4c47-905b-9c706cfdc08a"
      },
      "execution_count": null,
      "outputs": [
        {
          "output_type": "stream",
          "name": "stdout",
          "text": [
            "programmes , programm\n",
            "came , came\n",
            "go , go\n",
            "when , when\n",
            "went , went\n",
            "get , get\n",
            "outing , outing\n",
            "king , king\n",
            "queens , queen\n",
            "apple , appl\n",
            "grape , grape\n",
            "animal , anim\n",
            "crow , crow\n",
            "bag , bag\n",
            "caring , care\n",
            "bikeing , bike\n",
            "tempo , tempo\n",
            "lorry , lorri\n",
            "further , further\n",
            "drunk , drunk\n"
          ]
        }
      ]
    },
    {
      "cell_type": "code",
      "source": [
        "#lematisation\n",
        "nltk.download('wordnet')\n",
        "nltk.download(\"omw-1.4\")\n",
        "from nltk.stem import WordNetLemmatizer\n",
        "lema=WordNetLemmatizer()\n",
        "print('rocks',\",\",lema.lemmatize(\"rocks\"))\n",
        "for i in words:\n",
        "  print(i,\",\",lema.lemmatize(i))"
      ],
      "metadata": {
        "colab": {
          "base_uri": "https://localhost:8080/"
        },
        "id": "8riqCDRKsOvY",
        "outputId": "296b04c1-a58a-48f9-8a62-6391f38b235f"
      },
      "execution_count": null,
      "outputs": [
        {
          "output_type": "stream",
          "name": "stderr",
          "text": [
            "[nltk_data] Downloading package wordnet to /root/nltk_data...\n",
            "[nltk_data] Error loading worldnet: Package 'worldnet' not found in\n",
            "[nltk_data]     index\n",
            "[nltk_data] Downloading package omw-1.4 to /root/nltk_data...\n",
            "[nltk_data]   Package omw-1.4 is already up-to-date!\n"
          ]
        },
        {
          "output_type": "stream",
          "name": "stdout",
          "text": [
            "rocks , rock\n",
            "programmes , programme\n",
            "came , came\n",
            "go , go\n",
            "when , when\n",
            "went , went\n",
            "get , get\n",
            "outing , outing\n",
            "king , king\n",
            "queens , queen\n",
            "apple , apple\n",
            "grape , grape\n",
            "animal , animal\n",
            "crow , crow\n",
            "bag , bag\n",
            "caring , caring\n",
            "bikeing , bikeing\n",
            "tempo , tempo\n",
            "lorry , lorry\n",
            "further , further\n",
            "drunk , drunk\n"
          ]
        }
      ]
    },
    {
      "cell_type": "code",
      "source": [
        "#lematization\n",
        "print(\"beter\",lema.lemmatize(\"better\",pos=\"a\"))"
      ],
      "metadata": {
        "colab": {
          "base_uri": "https://localhost:8080/"
        },
        "id": "H-nVjPpYtbbs",
        "outputId": "c3e7cfb6-d3f2-4e08-bbd9-b1da8b2e6061"
      },
      "execution_count": null,
      "outputs": [
        {
          "output_type": "stream",
          "name": "stdout",
          "text": [
            "beter good\n"
          ]
        }
      ]
    },
    {
      "cell_type": "code",
      "source": [],
      "metadata": {
        "id": "mPJnmq71upAL"
      },
      "execution_count": null,
      "outputs": []
    }
  ]
}