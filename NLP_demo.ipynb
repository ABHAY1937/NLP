{
  "nbformat": 4,
  "nbformat_minor": 0,
  "metadata": {
    "colab": {
      "provenance": [],
      "authorship_tag": "ABX9TyN/tb+n8epvlnfFHM1BZC9F",
      "include_colab_link": true
    },
    "kernelspec": {
      "name": "python3",
      "display_name": "Python 3"
    },
    "language_info": {
      "name": "python"
    }
  },
  "cells": [
    {
      "cell_type": "markdown",
      "metadata": {
        "id": "view-in-github",
        "colab_type": "text"
      },
      "source": [
        "<a href=\"https://colab.research.google.com/github/ABHAY1937/NLP/blob/main/NLP_demo.ipynb\" target=\"_parent\"><img src=\"https://colab.research.google.com/assets/colab-badge.svg\" alt=\"Open In Colab\"/></a>"
      ]
    },
    {
      "cell_type": "code",
      "source": [
        "!pip install nltk"
      ],
      "metadata": {
        "id": "rJoCxJ0XiV7M",
        "colab": {
          "base_uri": "https://localhost:8080/"
        },
        "outputId": "bbeb65e8-6cb7-454d-85f6-e8068eb49b22"
      },
      "execution_count": 3,
      "outputs": [
        {
          "output_type": "stream",
          "name": "stdout",
          "text": [
            "Looking in indexes: https://pypi.org/simple, https://us-python.pkg.dev/colab-wheels/public/simple/\n",
            "Requirement already satisfied: nltk in /usr/local/lib/python3.10/dist-packages (3.8.1)\n",
            "Requirement already satisfied: click in /usr/local/lib/python3.10/dist-packages (from nltk) (8.1.3)\n",
            "Requirement already satisfied: joblib in /usr/local/lib/python3.10/dist-packages (from nltk) (1.2.0)\n",
            "Requirement already satisfied: regex>=2021.8.3 in /usr/local/lib/python3.10/dist-packages (from nltk) (2022.10.31)\n",
            "Requirement already satisfied: tqdm in /usr/local/lib/python3.10/dist-packages (from nltk) (4.65.0)\n"
          ]
        }
      ]
    },
    {
      "cell_type": "code",
      "source": [],
      "metadata": {
        "id": "l-wf3WxOQR3H"
      },
      "execution_count": 3,
      "outputs": []
    },
    {
      "cell_type": "code",
      "source": [
        "paragraph =\"\"\"The 73rd and 74th Amendment Acts introduced the system of panchayati raj in rural areas and Nagar Palikas in urban areas.[26] Article 370 gave special status to the state of Jammu and Kashmir.The Legislature and amendments\n",
        "Main articles: Amendment of the Constitution of India and List of amendments of the Constitution of India\n",
        "Article 368 dictates the procedure for constitutional amendments. Amendments are additions, variations or repeal of any part of the constitution by Parliament.[63] An amendment bill must be passed by each house of Parliament by a two-thirds majority of its total membership when at least two-thirds are present and vote. Certain amendments pertaining to the constitution's federal nature must also be ratified by a majority of state legislatures.\n",
        "\n",
        "Unlike ordinary bills in accordance with Article 245 (except for money bills), there is no provision for a joint session of the Lok Sabha and Rajya Sabha to pass a constitutional amendment. During a parliamentary recess, the president cannot promulgate ordinances under his legislative powers under Article 123, Chapter III.\n",
        "\n",
        "Despite the supermajority requirement for amendments to pass, the Indian constitution is the world's most frequently-amended national governing document.[64] The constitution is so specific in spelling out government powers that many amendments address issues dealt with by statute in other democracies.\n",
        "\n",
        "In 2000, the Justice Manepalli Narayana Rao Venkatachaliah Commission was formed to examine a constitutional update. The commission submitted its report on 31 March 2002. However, the recommendations of this report have not been accepted by the consecutive governments.\n",
        "\n",
        "The government of India establishes term-based law commissions to recommend legal reforms, facilitating the rule of law.\"\"\""
      ],
      "metadata": {
        "id": "Qsmt54WgQGn2"
      },
      "execution_count": 4,
      "outputs": []
    },
    {
      "cell_type": "code",
      "source": [
        "paragraph"
      ],
      "metadata": {
        "colab": {
          "base_uri": "https://localhost:8080/",
          "height": 140
        },
        "id": "570jQYUgQghI",
        "outputId": "50e68c16-b426-4651-ed0c-950c52506c89"
      },
      "execution_count": 5,
      "outputs": [
        {
          "output_type": "execute_result",
          "data": {
            "text/plain": [
              "\"The 73rd and 74th Amendment Acts introduced the system of panchayati raj in rural areas and Nagar Palikas in urban areas.[26] Article 370 gave special status to the state of Jammu and Kashmir.The Legislature and amendments\\nMain articles: Amendment of the Constitution of India and List of amendments of the Constitution of India\\nArticle 368 dictates the procedure for constitutional amendments. Amendments are additions, variations or repeal of any part of the constitution by Parliament.[63] An amendment bill must be passed by each house of Parliament by a two-thirds majority of its total membership when at least two-thirds are present and vote. Certain amendments pertaining to the constitution's federal nature must also be ratified by a majority of state legislatures.\\n\\nUnlike ordinary bills in accordance with Article 245 (except for money bills), there is no provision for a joint session of the Lok Sabha and Rajya Sabha to pass a constitutional amendment. During a parliamentary recess, the president cannot promulgate ordinances under his legislative powers under Article 123, Chapter III.\\n\\nDespite the supermajority requirement for amendments to pass, the Indian constitution is the world's most frequently-amended national governing document.[64] The constitution is so specific in spelling out government powers that many amendments address issues dealt with by statute in other democracies.\\n\\nIn 2000, the Justice Manepalli Narayana Rao Venkatachaliah Commission was formed to examine a constitutional update. The commission submitted its report on 31 March 2002. However, the recommendations of this report have not been accepted by the consecutive governments.\\n\\nThe government of India establishes term-based law commissions to recommend legal reforms, facilitating the rule of law.\""
            ],
            "application/vnd.google.colaboratory.intrinsic+json": {
              "type": "string"
            }
          },
          "metadata": {},
          "execution_count": 5
        }
      ]
    },
    {
      "cell_type": "code",
      "source": [
        "import nltk\n",
        "from nltk.stem import PorterStemmer\n",
        "from nltk.corpus import stopwords"
      ],
      "metadata": {
        "id": "oF9zJnpjQrla"
      },
      "execution_count": 6,
      "outputs": []
    },
    {
      "cell_type": "code",
      "source": [
        "nltk.download('stopwords')\n"
      ],
      "metadata": {
        "colab": {
          "base_uri": "https://localhost:8080/"
        },
        "id": "NQR7mAwVImRs",
        "outputId": "74191316-1eb6-4c15-8326-cd6c1e04370e"
      },
      "execution_count": 7,
      "outputs": [
        {
          "output_type": "stream",
          "name": "stderr",
          "text": [
            "[nltk_data] Downloading package stopwords to /root/nltk_data...\n",
            "[nltk_data]   Unzipping corpora/stopwords.zip.\n"
          ]
        },
        {
          "output_type": "execute_result",
          "data": {
            "text/plain": [
              "True"
            ]
          },
          "metadata": {},
          "execution_count": 7
        }
      ]
    },
    {
      "cell_type": "code",
      "source": [
        "#tokenization --- converts paragraph to words\n",
        "nltk.download('punkt')\n",
        "sentences = nltk.sent_tokenize(paragraph)"
      ],
      "metadata": {
        "colab": {
          "base_uri": "https://localhost:8080/"
        },
        "id": "bWf9TMvYRb5B",
        "outputId": "6dde8a87-3cc6-4b5a-e93d-51199f0cc73f"
      },
      "execution_count": 8,
      "outputs": [
        {
          "output_type": "stream",
          "name": "stderr",
          "text": [
            "[nltk_data] Downloading package punkt to /root/nltk_data...\n",
            "[nltk_data]   Unzipping tokenizers/punkt.zip.\n"
          ]
        }
      ]
    },
    {
      "cell_type": "code",
      "source": [
        "print(sentences)"
      ],
      "metadata": {
        "colab": {
          "base_uri": "https://localhost:8080/"
        },
        "id": "26xf5sAFRwZM",
        "outputId": "a8769e5e-b2ec-413c-8abb-3f13d7b26c7a"
      },
      "execution_count": 9,
      "outputs": [
        {
          "output_type": "stream",
          "name": "stdout",
          "text": [
            "['The 73rd and 74th Amendment Acts introduced the system of panchayati raj in rural areas and Nagar Palikas in urban areas.', '[26] Article 370 gave special status to the state of Jammu and Kashmir.The Legislature and amendments\\nMain articles: Amendment of the Constitution of India and List of amendments of the Constitution of India\\nArticle 368 dictates the procedure for constitutional amendments.', 'Amendments are additions, variations or repeal of any part of the constitution by Parliament.', '[63] An amendment bill must be passed by each house of Parliament by a two-thirds majority of its total membership when at least two-thirds are present and vote.', \"Certain amendments pertaining to the constitution's federal nature must also be ratified by a majority of state legislatures.\", 'Unlike ordinary bills in accordance with Article 245 (except for money bills), there is no provision for a joint session of the Lok Sabha and Rajya Sabha to pass a constitutional amendment.', 'During a parliamentary recess, the president cannot promulgate ordinances under his legislative powers under Article 123, Chapter III.', \"Despite the supermajority requirement for amendments to pass, the Indian constitution is the world's most frequently-amended national governing document.\", '[64] The constitution is so specific in spelling out government powers that many amendments address issues dealt with by statute in other democracies.', 'In 2000, the Justice Manepalli Narayana Rao Venkatachaliah Commission was formed to examine a constitutional update.', 'The commission submitted its report on 31 March 2002.', 'However, the recommendations of this report have not been accepted by the consecutive governments.', 'The government of India establishes term-based law commissions to recommend legal reforms, facilitating the rule of law.']\n"
          ]
        }
      ]
    },
    {
      "cell_type": "code",
      "source": [
        "#applyng stemming  for finding the base root\n",
        "stemmer = PorterStemmer()"
      ],
      "metadata": {
        "id": "VjVxXUvySK6x"
      },
      "execution_count": 10,
      "outputs": []
    },
    {
      "cell_type": "code",
      "source": [
        "stemmer.stem('drinking')"
      ],
      "metadata": {
        "colab": {
          "base_uri": "https://localhost:8080/",
          "height": 35
        },
        "id": "YnUfcpZASl-9",
        "outputId": "b9ea6233-b0dd-47a2-9367-a59f4f33271d"
      },
      "execution_count": 11,
      "outputs": [
        {
          "output_type": "execute_result",
          "data": {
            "text/plain": [
              "'drink'"
            ],
            "application/vnd.google.colaboratory.intrinsic+json": {
              "type": "string"
            }
          },
          "metadata": {},
          "execution_count": 11
        }
      ]
    },
    {
      "cell_type": "code",
      "source": [
        "\n",
        "nltk.download('wordnet')"
      ],
      "metadata": {
        "colab": {
          "base_uri": "https://localhost:8080/"
        },
        "id": "m53N334eUnDT",
        "outputId": "f626f185-9c90-4152-8f94-f948552cbda8"
      },
      "execution_count": 12,
      "outputs": [
        {
          "output_type": "stream",
          "name": "stderr",
          "text": [
            "[nltk_data] Downloading package wordnet to /root/nltk_data...\n"
          ]
        },
        {
          "output_type": "execute_result",
          "data": {
            "text/plain": [
              "True"
            ]
          },
          "metadata": {},
          "execution_count": 12
        }
      ]
    },
    {
      "cell_type": "code",
      "source": [
        "#lematization\n",
        "from nltk.stem import WordNetLemmatizer\n"
      ],
      "metadata": {
        "id": "EuhmF9CSSpPp"
      },
      "execution_count": 13,
      "outputs": []
    },
    {
      "cell_type": "code",
      "source": [
        "lemmatizer = WordNetLemmatizer()\n"
      ],
      "metadata": {
        "id": "xr0a2BR9TPyw"
      },
      "execution_count": 14,
      "outputs": []
    },
    {
      "cell_type": "code",
      "source": [
        "lemmatizer.lemmatize(\"goes\")"
      ],
      "metadata": {
        "colab": {
          "base_uri": "https://localhost:8080/",
          "height": 35
        },
        "id": "9SmSwDwrTWRQ",
        "outputId": "756d788a-892d-4cc0-ae19-f7c793065512"
      },
      "execution_count": 15,
      "outputs": [
        {
          "output_type": "execute_result",
          "data": {
            "text/plain": [
              "'go'"
            ],
            "application/vnd.google.colaboratory.intrinsic+json": {
              "type": "string"
            }
          },
          "metadata": {},
          "execution_count": 15
        }
      ]
    },
    {
      "cell_type": "code",
      "source": [
        "#clean the paragraph\n",
        "import re\n",
        "corpus =[]\n",
        "for i in range(len(sentences)):\n",
        "  review = re.sub('[^a-zA-Z]',\" \",sentences[i])\n",
        "  review = review.lower()\n",
        "  corpus.append(review)"
      ],
      "metadata": {
        "id": "jwJXIswcTj8H"
      },
      "execution_count": 16,
      "outputs": []
    },
    {
      "cell_type": "code",
      "source": [
        "corpus"
      ],
      "metadata": {
        "colab": {
          "base_uri": "https://localhost:8080/"
        },
        "id": "vxUPO4PLVZ6R",
        "outputId": "2bc6501a-fad6-4003-aece-5290487a5956"
      },
      "execution_count": 17,
      "outputs": [
        {
          "output_type": "execute_result",
          "data": {
            "text/plain": [
              "['the   rd and   th amendment acts introduced the system of panchayati raj in rural areas and nagar palikas in urban areas ',\n",
              " '     article     gave special status to the state of jammu and kashmir the legislature and amendments main articles  amendment of the constitution of india and list of amendments of the constitution of india article     dictates the procedure for constitutional amendments ',\n",
              " 'amendments are additions  variations or repeal of any part of the constitution by parliament ',\n",
              " '     an amendment bill must be passed by each house of parliament by a two thirds majority of its total membership when at least two thirds are present and vote ',\n",
              " 'certain amendments pertaining to the constitution s federal nature must also be ratified by a majority of state legislatures ',\n",
              " 'unlike ordinary bills in accordance with article      except for money bills   there is no provision for a joint session of the lok sabha and rajya sabha to pass a constitutional amendment ',\n",
              " 'during a parliamentary recess  the president cannot promulgate ordinances under his legislative powers under article      chapter iii ',\n",
              " 'despite the supermajority requirement for amendments to pass  the indian constitution is the world s most frequently amended national governing document ',\n",
              " '     the constitution is so specific in spelling out government powers that many amendments address issues dealt with by statute in other democracies ',\n",
              " 'in       the justice manepalli narayana rao venkatachaliah commission was formed to examine a constitutional update ',\n",
              " 'the commission submitted its report on    march      ',\n",
              " 'however  the recommendations of this report have not been accepted by the consecutive governments ',\n",
              " 'the government of india establishes term based law commissions to recommend legal reforms  facilitating the rule of law ']"
            ]
          },
          "metadata": {},
          "execution_count": 17
        }
      ]
    },
    {
      "cell_type": "code",
      "source": [
        "#stemming\n",
        "for i in corpus:\n",
        "  for word in i:\n",
        "    stemmer.stem\n",
        "print(i)"
      ],
      "metadata": {
        "colab": {
          "base_uri": "https://localhost:8080/"
        },
        "id": "McXUMh3IVpjS",
        "outputId": "ab7d9e50-6cfc-445d-b6c5-01041cc4b625"
      },
      "execution_count": 18,
      "outputs": [
        {
          "output_type": "stream",
          "name": "stdout",
          "text": [
            "the government of india establishes term based law commissions to recommend legal reforms  facilitating the rule of law \n"
          ]
        }
      ]
    },
    {
      "cell_type": "code",
      "source": [
        "stopwords.words(\"english\")"
      ],
      "metadata": {
        "colab": {
          "base_uri": "https://localhost:8080/"
        },
        "id": "5s_3yxu4YVMV",
        "outputId": "dae05d50-bacc-405a-e5c9-1ea36fe8f27b"
      },
      "execution_count": 19,
      "outputs": [
        {
          "output_type": "execute_result",
          "data": {
            "text/plain": [
              "['i',\n",
              " 'me',\n",
              " 'my',\n",
              " 'myself',\n",
              " 'we',\n",
              " 'our',\n",
              " 'ours',\n",
              " 'ourselves',\n",
              " 'you',\n",
              " \"you're\",\n",
              " \"you've\",\n",
              " \"you'll\",\n",
              " \"you'd\",\n",
              " 'your',\n",
              " 'yours',\n",
              " 'yourself',\n",
              " 'yourselves',\n",
              " 'he',\n",
              " 'him',\n",
              " 'his',\n",
              " 'himself',\n",
              " 'she',\n",
              " \"she's\",\n",
              " 'her',\n",
              " 'hers',\n",
              " 'herself',\n",
              " 'it',\n",
              " \"it's\",\n",
              " 'its',\n",
              " 'itself',\n",
              " 'they',\n",
              " 'them',\n",
              " 'their',\n",
              " 'theirs',\n",
              " 'themselves',\n",
              " 'what',\n",
              " 'which',\n",
              " 'who',\n",
              " 'whom',\n",
              " 'this',\n",
              " 'that',\n",
              " \"that'll\",\n",
              " 'these',\n",
              " 'those',\n",
              " 'am',\n",
              " 'is',\n",
              " 'are',\n",
              " 'was',\n",
              " 'were',\n",
              " 'be',\n",
              " 'been',\n",
              " 'being',\n",
              " 'have',\n",
              " 'has',\n",
              " 'had',\n",
              " 'having',\n",
              " 'do',\n",
              " 'does',\n",
              " 'did',\n",
              " 'doing',\n",
              " 'a',\n",
              " 'an',\n",
              " 'the',\n",
              " 'and',\n",
              " 'but',\n",
              " 'if',\n",
              " 'or',\n",
              " 'because',\n",
              " 'as',\n",
              " 'until',\n",
              " 'while',\n",
              " 'of',\n",
              " 'at',\n",
              " 'by',\n",
              " 'for',\n",
              " 'with',\n",
              " 'about',\n",
              " 'against',\n",
              " 'between',\n",
              " 'into',\n",
              " 'through',\n",
              " 'during',\n",
              " 'before',\n",
              " 'after',\n",
              " 'above',\n",
              " 'below',\n",
              " 'to',\n",
              " 'from',\n",
              " 'up',\n",
              " 'down',\n",
              " 'in',\n",
              " 'out',\n",
              " 'on',\n",
              " 'off',\n",
              " 'over',\n",
              " 'under',\n",
              " 'again',\n",
              " 'further',\n",
              " 'then',\n",
              " 'once',\n",
              " 'here',\n",
              " 'there',\n",
              " 'when',\n",
              " 'where',\n",
              " 'why',\n",
              " 'how',\n",
              " 'all',\n",
              " 'any',\n",
              " 'both',\n",
              " 'each',\n",
              " 'few',\n",
              " 'more',\n",
              " 'most',\n",
              " 'other',\n",
              " 'some',\n",
              " 'such',\n",
              " 'no',\n",
              " 'nor',\n",
              " 'not',\n",
              " 'only',\n",
              " 'own',\n",
              " 'same',\n",
              " 'so',\n",
              " 'than',\n",
              " 'too',\n",
              " 'very',\n",
              " 's',\n",
              " 't',\n",
              " 'can',\n",
              " 'will',\n",
              " 'just',\n",
              " 'don',\n",
              " \"don't\",\n",
              " 'should',\n",
              " \"should've\",\n",
              " 'now',\n",
              " 'd',\n",
              " 'll',\n",
              " 'm',\n",
              " 'o',\n",
              " 're',\n",
              " 've',\n",
              " 'y',\n",
              " 'ain',\n",
              " 'aren',\n",
              " \"aren't\",\n",
              " 'couldn',\n",
              " \"couldn't\",\n",
              " 'didn',\n",
              " \"didn't\",\n",
              " 'doesn',\n",
              " \"doesn't\",\n",
              " 'hadn',\n",
              " \"hadn't\",\n",
              " 'hasn',\n",
              " \"hasn't\",\n",
              " 'haven',\n",
              " \"haven't\",\n",
              " 'isn',\n",
              " \"isn't\",\n",
              " 'ma',\n",
              " 'mightn',\n",
              " \"mightn't\",\n",
              " 'mustn',\n",
              " \"mustn't\",\n",
              " 'needn',\n",
              " \"needn't\",\n",
              " 'shan',\n",
              " \"shan't\",\n",
              " 'shouldn',\n",
              " \"shouldn't\",\n",
              " 'wasn',\n",
              " \"wasn't\",\n",
              " 'weren',\n",
              " \"weren't\",\n",
              " 'won',\n",
              " \"won't\",\n",
              " 'wouldn',\n",
              " \"wouldn't\"]"
            ]
          },
          "metadata": {},
          "execution_count": 19
        }
      ]
    },
    {
      "cell_type": "code",
      "source": [
        "for i in corpus:\n",
        "  words= nltk.word_tokenize(i) #converts sentence to words\n",
        "  for word in words:\n",
        "    if word not in set(stopwords.words(\"english\")):\n",
        "      print(stemmer.stem(word))\n",
        "\n"
      ],
      "metadata": {
        "colab": {
          "base_uri": "https://localhost:8080/"
        },
        "id": "boYTdOcTWBlD",
        "outputId": "4cd3e3b5-d5f4-48a0-c5dd-270c595132c4"
      },
      "execution_count": 20,
      "outputs": [
        {
          "output_type": "stream",
          "name": "stdout",
          "text": [
            "rd\n",
            "th\n",
            "amend\n",
            "act\n",
            "introduc\n",
            "system\n",
            "panchayati\n",
            "raj\n",
            "rural\n",
            "area\n",
            "nagar\n",
            "palika\n",
            "urban\n",
            "area\n",
            "articl\n",
            "gave\n",
            "special\n",
            "statu\n",
            "state\n",
            "jammu\n",
            "kashmir\n",
            "legislatur\n",
            "amend\n",
            "main\n",
            "articl\n",
            "amend\n",
            "constitut\n",
            "india\n",
            "list\n",
            "amend\n",
            "constitut\n",
            "india\n",
            "articl\n",
            "dictat\n",
            "procedur\n",
            "constitut\n",
            "amend\n",
            "amend\n",
            "addit\n",
            "variat\n",
            "repeal\n",
            "part\n",
            "constitut\n",
            "parliament\n",
            "amend\n",
            "bill\n",
            "must\n",
            "pass\n",
            "hous\n",
            "parliament\n",
            "two\n",
            "third\n",
            "major\n",
            "total\n",
            "membership\n",
            "least\n",
            "two\n",
            "third\n",
            "present\n",
            "vote\n",
            "certain\n",
            "amend\n",
            "pertain\n",
            "constitut\n",
            "feder\n",
            "natur\n",
            "must\n",
            "also\n",
            "ratifi\n",
            "major\n",
            "state\n",
            "legislatur\n",
            "unlik\n",
            "ordinari\n",
            "bill\n",
            "accord\n",
            "articl\n",
            "except\n",
            "money\n",
            "bill\n",
            "provis\n",
            "joint\n",
            "session\n",
            "lok\n",
            "sabha\n",
            "rajya\n",
            "sabha\n",
            "pass\n",
            "constitut\n",
            "amend\n",
            "parliamentari\n",
            "recess\n",
            "presid\n",
            "promulg\n",
            "ordin\n",
            "legisl\n",
            "power\n",
            "articl\n",
            "chapter\n",
            "iii\n",
            "despit\n",
            "supermajor\n",
            "requir\n",
            "amend\n",
            "pass\n",
            "indian\n",
            "constitut\n",
            "world\n",
            "frequent\n",
            "amend\n",
            "nation\n",
            "govern\n",
            "document\n",
            "constitut\n",
            "specif\n",
            "spell\n",
            "govern\n",
            "power\n",
            "mani\n",
            "amend\n",
            "address\n",
            "issu\n",
            "dealt\n",
            "statut\n",
            "democraci\n",
            "justic\n",
            "manep\n",
            "narayana\n",
            "rao\n",
            "venkatachaliah\n",
            "commiss\n",
            "form\n",
            "examin\n",
            "constitut\n",
            "updat\n",
            "commiss\n",
            "submit\n",
            "report\n",
            "march\n",
            "howev\n",
            "recommend\n",
            "report\n",
            "accept\n",
            "consecut\n",
            "govern\n",
            "govern\n",
            "india\n",
            "establish\n",
            "term\n",
            "base\n",
            "law\n",
            "commiss\n",
            "recommend\n",
            "legal\n",
            "reform\n",
            "facilit\n",
            "rule\n",
            "law\n"
          ]
        }
      ]
    },
    {
      "cell_type": "code",
      "source": [
        "#lemmatizer\n",
        "for i in corpus:\n",
        "  words = nltk.word_tokenize(i)\n",
        "  for word in words:\n",
        "    if word not in set(stopwords.words('english')):\n",
        "      print(lemmatizer.lemmatize(word))\n"
      ],
      "metadata": {
        "colab": {
          "base_uri": "https://localhost:8080/"
        },
        "id": "tqzAP07hW_I5",
        "outputId": "449b48e3-9e3d-4ea4-cd2c-ab962e824b20"
      },
      "execution_count": 21,
      "outputs": [
        {
          "output_type": "stream",
          "name": "stdout",
          "text": [
            "rd\n",
            "th\n",
            "amendment\n",
            "act\n",
            "introduced\n",
            "system\n",
            "panchayati\n",
            "raj\n",
            "rural\n",
            "area\n",
            "nagar\n",
            "palikas\n",
            "urban\n",
            "area\n",
            "article\n",
            "gave\n",
            "special\n",
            "status\n",
            "state\n",
            "jammu\n",
            "kashmir\n",
            "legislature\n",
            "amendment\n",
            "main\n",
            "article\n",
            "amendment\n",
            "constitution\n",
            "india\n",
            "list\n",
            "amendment\n",
            "constitution\n",
            "india\n",
            "article\n",
            "dictate\n",
            "procedure\n",
            "constitutional\n",
            "amendment\n",
            "amendment\n",
            "addition\n",
            "variation\n",
            "repeal\n",
            "part\n",
            "constitution\n",
            "parliament\n",
            "amendment\n",
            "bill\n",
            "must\n",
            "passed\n",
            "house\n",
            "parliament\n",
            "two\n",
            "third\n",
            "majority\n",
            "total\n",
            "membership\n",
            "least\n",
            "two\n",
            "third\n",
            "present\n",
            "vote\n",
            "certain\n",
            "amendment\n",
            "pertaining\n",
            "constitution\n",
            "federal\n",
            "nature\n",
            "must\n",
            "also\n",
            "ratified\n",
            "majority\n",
            "state\n",
            "legislature\n",
            "unlike\n",
            "ordinary\n",
            "bill\n",
            "accordance\n",
            "article\n",
            "except\n",
            "money\n",
            "bill\n",
            "provision\n",
            "joint\n",
            "session\n",
            "lok\n",
            "sabha\n",
            "rajya\n",
            "sabha\n",
            "pas\n",
            "constitutional\n",
            "amendment\n",
            "parliamentary\n",
            "recess\n",
            "president\n",
            "promulgate\n",
            "ordinance\n",
            "legislative\n",
            "power\n",
            "article\n",
            "chapter\n",
            "iii\n",
            "despite\n",
            "supermajority\n",
            "requirement\n",
            "amendment\n",
            "pas\n",
            "indian\n",
            "constitution\n",
            "world\n",
            "frequently\n",
            "amended\n",
            "national\n",
            "governing\n",
            "document\n",
            "constitution\n",
            "specific\n",
            "spelling\n",
            "government\n",
            "power\n",
            "many\n",
            "amendment\n",
            "address\n",
            "issue\n",
            "dealt\n",
            "statute\n",
            "democracy\n",
            "justice\n",
            "manepalli\n",
            "narayana\n",
            "rao\n",
            "venkatachaliah\n",
            "commission\n",
            "formed\n",
            "examine\n",
            "constitutional\n",
            "update\n",
            "commission\n",
            "submitted\n",
            "report\n",
            "march\n",
            "however\n",
            "recommendation\n",
            "report\n",
            "accepted\n",
            "consecutive\n",
            "government\n",
            "government\n",
            "india\n",
            "establishes\n",
            "term\n",
            "based\n",
            "law\n",
            "commission\n",
            "recommend\n",
            "legal\n",
            "reform\n",
            "facilitating\n",
            "rule\n",
            "law\n"
          ]
        }
      ]
    },
    {
      "cell_type": "code",
      "source": [
        "##apply stopwords.Lemmatize\n",
        "import re\n",
        "corpus=[]\n",
        "for i in range(len(sentences)):\n",
        "   review = re.sub('[^a-zA-Z]',\" \",sentences[i])\n",
        "   review = review.lower()\n",
        "   review = review.split()\n",
        "   review = [lemmatizer.lemmatize(word) for word in review if not word in set(stopwords.words(\"english\"))]\n",
        "   review = \" \".join(review)\n",
        "   corpus.append(review)\n"
      ],
      "metadata": {
        "id": "Swfoj1eWazBX"
      },
      "execution_count": 22,
      "outputs": []
    },
    {
      "cell_type": "code",
      "source": [
        "from nltk.translate.nist_score import ngrams\n",
        "#for bag of words\n",
        "from sklearn.feature_extraction.text import CountVectorizer\n",
        "cv = CountVectorizer(binary=True,ngram_range=(2,3))"
      ],
      "metadata": {
        "id": "8nTEUryGZO1v"
      },
      "execution_count": 32,
      "outputs": []
    },
    {
      "cell_type": "code",
      "source": [
        "x = cv.fit_transform(corpus)"
      ],
      "metadata": {
        "id": "PpKEgL7uZoXN"
      },
      "execution_count": 33,
      "outputs": []
    },
    {
      "cell_type": "code",
      "source": [
        "cv.vocabulary_ #feature number or index"
      ],
      "metadata": {
        "colab": {
          "base_uri": "https://localhost:8080/"
        },
        "id": "6kc8XoI7ZwSw",
        "outputId": "7ef0a3b3-4ed7-4533-a7c9-9cc0e4719f64"
      },
      "execution_count": 34,
      "outputs": [
        {
          "output_type": "execute_result",
          "data": {
            "text/plain": [
              "{'rd th': 208,\n",
              " 'th amendment': 254,\n",
              " 'amendment act': 14,\n",
              " 'act introduced': 4,\n",
              " 'introduced system': 113,\n",
              " 'system panchayati': 250,\n",
              " 'panchayati raj': 171,\n",
              " 'raj rural': 200,\n",
              " 'rural area': 226,\n",
              " 'area nagar': 30,\n",
              " 'nagar palikas': 157,\n",
              " 'palikas urban': 169,\n",
              " 'urban area': 267,\n",
              " 'rd th amendment': 209,\n",
              " 'th amendment act': 255,\n",
              " 'amendment act introduced': 15,\n",
              " 'act introduced system': 5,\n",
              " 'introduced system panchayati': 114,\n",
              " 'system panchayati raj': 251,\n",
              " 'panchayati raj rural': 172,\n",
              " 'raj rural area': 201,\n",
              " 'rural area nagar': 227,\n",
              " 'area nagar palikas': 31,\n",
              " 'nagar palikas urban': 158,\n",
              " 'palikas urban area': 170,\n",
              " 'article gave': 40,\n",
              " 'gave special': 94,\n",
              " 'special status': 234,\n",
              " 'status state': 243,\n",
              " 'state jammu': 240,\n",
              " 'jammu kashmir': 117,\n",
              " 'kashmir legislature': 123,\n",
              " 'legislature amendment': 133,\n",
              " 'amendment main': 24,\n",
              " 'main article': 139,\n",
              " 'article amendment': 32,\n",
              " 'amendment constitution': 22,\n",
              " 'constitution india': 64,\n",
              " 'india list': 109,\n",
              " 'list amendment': 135,\n",
              " 'india article': 105,\n",
              " 'article dictate': 36,\n",
              " 'dictate procedure': 78,\n",
              " 'procedure constitutional': 194,\n",
              " 'constitutional amendment': 72,\n",
              " 'article gave special': 41,\n",
              " 'gave special status': 95,\n",
              " 'special status state': 235,\n",
              " 'status state jammu': 244,\n",
              " 'state jammu kashmir': 241,\n",
              " 'jammu kashmir legislature': 118,\n",
              " 'kashmir legislature amendment': 124,\n",
              " 'legislature amendment main': 134,\n",
              " 'amendment main article': 25,\n",
              " 'main article amendment': 140,\n",
              " 'article amendment constitution': 33,\n",
              " 'amendment constitution india': 23,\n",
              " 'constitution india list': 66,\n",
              " 'india list amendment': 110,\n",
              " 'list amendment constitution': 136,\n",
              " 'constitution india article': 65,\n",
              " 'india article dictate': 106,\n",
              " 'article dictate procedure': 37,\n",
              " 'dictate procedure constitutional': 79,\n",
              " 'procedure constitutional amendment': 195,\n",
              " 'amendment addition': 16,\n",
              " 'addition variation': 6,\n",
              " 'variation repeal': 268,\n",
              " 'repeal part': 218,\n",
              " 'part constitution': 177,\n",
              " 'constitution parliament': 67,\n",
              " 'amendment addition variation': 17,\n",
              " 'addition variation repeal': 7,\n",
              " 'variation repeal part': 269,\n",
              " 'repeal part constitution': 219,\n",
              " 'part constitution parliament': 178,\n",
              " 'amendment bill': 20,\n",
              " 'bill must': 46,\n",
              " 'must passed': 155,\n",
              " 'passed house': 183,\n",
              " 'house parliament': 101,\n",
              " 'parliament two': 173,\n",
              " 'two third': 262,\n",
              " 'third majority': 256,\n",
              " 'majority total': 143,\n",
              " 'total membership': 260,\n",
              " 'membership least': 149,\n",
              " 'least two': 127,\n",
              " 'third present': 258,\n",
              " 'present vote': 191,\n",
              " 'amendment bill must': 21,\n",
              " 'bill must passed': 47,\n",
              " 'must passed house': 156,\n",
              " 'passed house parliament': 184,\n",
              " 'house parliament two': 102,\n",
              " 'parliament two third': 174,\n",
              " 'two third majority': 263,\n",
              " 'third majority total': 257,\n",
              " 'majority total membership': 144,\n",
              " 'total membership least': 261,\n",
              " 'membership least two': 150,\n",
              " 'least two third': 128,\n",
              " 'two third present': 264,\n",
              " 'third present vote': 259,\n",
              " 'certain amendment': 52,\n",
              " 'amendment pertaining': 28,\n",
              " 'pertaining constitution': 185,\n",
              " 'constitution federal': 62,\n",
              " 'federal nature': 88,\n",
              " 'nature must': 163,\n",
              " 'must also': 153,\n",
              " 'also ratified': 10,\n",
              " 'ratified majority': 206,\n",
              " 'majority state': 141,\n",
              " 'state legislature': 242,\n",
              " 'certain amendment pertaining': 53,\n",
              " 'amendment pertaining constitution': 29,\n",
              " 'pertaining constitution federal': 186,\n",
              " 'constitution federal nature': 63,\n",
              " 'federal nature must': 89,\n",
              " 'nature must also': 164,\n",
              " 'must also ratified': 154,\n",
              " 'also ratified majority': 11,\n",
              " 'ratified majority state': 207,\n",
              " 'majority state legislature': 142,\n",
              " 'unlike ordinary': 265,\n",
              " 'ordinary bill': 167,\n",
              " 'bill accordance': 44,\n",
              " 'accordance article': 2,\n",
              " 'article except': 38,\n",
              " 'except money': 84,\n",
              " 'money bill': 151,\n",
              " 'bill provision': 48,\n",
              " 'provision joint': 198,\n",
              " 'joint session': 119,\n",
              " 'session lok': 232,\n",
              " 'lok sabha': 137,\n",
              " 'sabha rajya': 230,\n",
              " 'rajya sabha': 202,\n",
              " 'sabha pas': 228,\n",
              " 'pas constitutional': 179,\n",
              " 'unlike ordinary bill': 266,\n",
              " 'ordinary bill accordance': 168,\n",
              " 'bill accordance article': 45,\n",
              " 'accordance article except': 3,\n",
              " 'article except money': 39,\n",
              " 'except money bill': 85,\n",
              " 'money bill provision': 152,\n",
              " 'bill provision joint': 49,\n",
              " 'provision joint session': 199,\n",
              " 'joint session lok': 120,\n",
              " 'session lok sabha': 233,\n",
              " 'lok sabha rajya': 138,\n",
              " 'sabha rajya sabha': 231,\n",
              " 'rajya sabha pas': 203,\n",
              " 'sabha pas constitutional': 229,\n",
              " 'pas constitutional amendment': 180,\n",
              " 'parliamentary recess': 175,\n",
              " 'recess president': 210,\n",
              " 'president cannot': 192,\n",
              " 'cannot promulgate': 50,\n",
              " 'promulgate ordinance': 196,\n",
              " 'ordinance legislative': 165,\n",
              " 'legislative power': 131,\n",
              " 'power article': 187,\n",
              " 'article chapter': 34,\n",
              " 'chapter iii': 54,\n",
              " 'parliamentary recess president': 176,\n",
              " 'recess president cannot': 211,\n",
              " 'president cannot promulgate': 193,\n",
              " 'cannot promulgate ordinance': 51,\n",
              " 'promulgate ordinance legislative': 197,\n",
              " 'ordinance legislative power': 166,\n",
              " 'legislative power article': 132,\n",
              " 'power article chapter': 188,\n",
              " 'article chapter iii': 35,\n",
              " 'despite supermajority': 76,\n",
              " 'supermajority requirement': 248,\n",
              " 'requirement amendment': 223,\n",
              " 'amendment pas': 26,\n",
              " 'pas indian': 181,\n",
              " 'indian constitution': 111,\n",
              " 'constitution world': 70,\n",
              " 'world frequently': 272,\n",
              " 'frequently amended': 92,\n",
              " 'amended national': 12,\n",
              " 'national governing': 161,\n",
              " 'governing document': 96,\n",
              " 'despite supermajority requirement': 77,\n",
              " 'supermajority requirement amendment': 249,\n",
              " 'requirement amendment pas': 224,\n",
              " 'amendment pas indian': 27,\n",
              " 'pas indian constitution': 182,\n",
              " 'indian constitution world': 112,\n",
              " 'constitution world frequently': 71,\n",
              " 'world frequently amended': 273,\n",
              " 'frequently amended national': 93,\n",
              " 'amended national governing': 13,\n",
              " 'national governing document': 162,\n",
              " 'constitution specific': 68,\n",
              " 'specific spelling': 236,\n",
              " 'spelling government': 238,\n",
              " 'government power': 99,\n",
              " 'power many': 189,\n",
              " 'many amendment': 147,\n",
              " 'amendment address': 18,\n",
              " 'address issue': 8,\n",
              " 'issue dealt': 115,\n",
              " 'dealt statute': 74,\n",
              " 'statute democracy': 245,\n",
              " 'constitution specific spelling': 69,\n",
              " 'specific spelling government': 237,\n",
              " 'spelling government power': 239,\n",
              " 'government power many': 100,\n",
              " 'power many amendment': 190,\n",
              " 'many amendment address': 148,\n",
              " 'amendment address issue': 19,\n",
              " 'address issue dealt': 9,\n",
              " 'issue dealt statute': 116,\n",
              " 'dealt statute democracy': 75,\n",
              " 'justice manepalli': 121,\n",
              " 'manepalli narayana': 145,\n",
              " 'narayana rao': 159,\n",
              " 'rao venkatachaliah': 204,\n",
              " 'venkatachaliah commission': 270,\n",
              " 'commission formed': 55,\n",
              " 'formed examine': 90,\n",
              " 'examine constitutional': 82,\n",
              " 'constitutional update': 73,\n",
              " 'justice manepalli narayana': 122,\n",
              " 'manepalli narayana rao': 146,\n",
              " 'narayana rao venkatachaliah': 160,\n",
              " 'rao venkatachaliah commission': 205,\n",
              " 'venkatachaliah commission formed': 271,\n",
              " 'commission formed examine': 56,\n",
              " 'formed examine constitutional': 91,\n",
              " 'examine constitutional update': 83,\n",
              " 'commission submitted': 59,\n",
              " 'submitted report': 246,\n",
              " 'report march': 222,\n",
              " 'commission submitted report': 60,\n",
              " 'submitted report march': 247,\n",
              " 'however recommendation': 103,\n",
              " 'recommendation report': 214,\n",
              " 'report accepted': 220,\n",
              " 'accepted consecutive': 0,\n",
              " 'consecutive government': 61,\n",
              " 'however recommendation report': 104,\n",
              " 'recommendation report accepted': 215,\n",
              " 'report accepted consecutive': 221,\n",
              " 'accepted consecutive government': 1,\n",
              " 'government india': 97,\n",
              " 'india establishes': 107,\n",
              " 'establishes term': 80,\n",
              " 'term based': 252,\n",
              " 'based law': 42,\n",
              " 'law commission': 125,\n",
              " 'commission recommend': 57,\n",
              " 'recommend legal': 212,\n",
              " 'legal reform': 129,\n",
              " 'reform facilitating': 216,\n",
              " 'facilitating rule': 86,\n",
              " 'rule law': 225,\n",
              " 'government india establishes': 98,\n",
              " 'india establishes term': 108,\n",
              " 'establishes term based': 81,\n",
              " 'term based law': 253,\n",
              " 'based law commission': 43,\n",
              " 'law commission recommend': 126,\n",
              " 'commission recommend legal': 58,\n",
              " 'recommend legal reform': 213,\n",
              " 'legal reform facilitating': 130,\n",
              " 'reform facilitating rule': 217,\n",
              " 'facilitating rule law': 87}"
            ]
          },
          "metadata": {},
          "execution_count": 34
        }
      ]
    },
    {
      "cell_type": "code",
      "source": [
        "corpus[0]"
      ],
      "metadata": {
        "colab": {
          "base_uri": "https://localhost:8080/",
          "height": 35
        },
        "id": "cYuPeOM1Zy_V",
        "outputId": "c9ffdc53-4233-47c3-993f-016cd65fb0b0"
      },
      "execution_count": 36,
      "outputs": [
        {
          "output_type": "execute_result",
          "data": {
            "text/plain": [
              "'rd th amendment act introduced system panchayati raj rural area nagar palikas urban area'"
            ],
            "application/vnd.google.colaboratory.intrinsic+json": {
              "type": "string"
            }
          },
          "metadata": {},
          "execution_count": 36
        }
      ]
    },
    {
      "cell_type": "code",
      "source": [
        "x[0].toarray()"
      ],
      "metadata": {
        "colab": {
          "base_uri": "https://localhost:8080/"
        },
        "id": "uX_KhlwyZ5Xv",
        "outputId": "30125d51-3eba-402f-db7c-8b83153fbf1c"
      },
      "execution_count": 37,
      "outputs": [
        {
          "output_type": "execute_result",
          "data": {
            "text/plain": [
              "array([[0, 0, 0, 0, 1, 1, 0, 0, 0, 0, 0, 0, 0, 0, 1, 1, 0, 0, 0, 0, 0, 0,\n",
              "        0, 0, 0, 0, 0, 0, 0, 0, 1, 1, 0, 0, 0, 0, 0, 0, 0, 0, 0, 0, 0, 0,\n",
              "        0, 0, 0, 0, 0, 0, 0, 0, 0, 0, 0, 0, 0, 0, 0, 0, 0, 0, 0, 0, 0, 0,\n",
              "        0, 0, 0, 0, 0, 0, 0, 0, 0, 0, 0, 0, 0, 0, 0, 0, 0, 0, 0, 0, 0, 0,\n",
              "        0, 0, 0, 0, 0, 0, 0, 0, 0, 0, 0, 0, 0, 0, 0, 0, 0, 0, 0, 0, 0, 0,\n",
              "        0, 0, 0, 1, 1, 0, 0, 0, 0, 0, 0, 0, 0, 0, 0, 0, 0, 0, 0, 0, 0, 0,\n",
              "        0, 0, 0, 0, 0, 0, 0, 0, 0, 0, 0, 0, 0, 0, 0, 0, 0, 0, 0, 0, 0, 0,\n",
              "        0, 0, 0, 1, 1, 0, 0, 0, 0, 0, 0, 0, 0, 0, 0, 1, 1, 1, 1, 0, 0, 0,\n",
              "        0, 0, 0, 0, 0, 0, 0, 0, 0, 0, 0, 0, 0, 0, 0, 0, 0, 0, 0, 0, 0, 0,\n",
              "        0, 0, 1, 1, 0, 0, 0, 0, 0, 0, 1, 1, 0, 0, 0, 0, 0, 0, 0, 0, 0, 0,\n",
              "        0, 0, 0, 0, 0, 0, 1, 1, 0, 0, 0, 0, 0, 0, 0, 0, 0, 0, 0, 0, 0, 0,\n",
              "        0, 0, 0, 0, 0, 0, 0, 0, 1, 1, 0, 0, 1, 1, 0, 0, 0, 0, 0, 0, 0, 0,\n",
              "        0, 0, 0, 1, 0, 0, 0, 0, 0, 0]])"
            ]
          },
          "metadata": {},
          "execution_count": 37
        }
      ]
    },
    {
      "cell_type": "code",
      "source": [
        "x[0].toarray().shape"
      ],
      "metadata": {
        "colab": {
          "base_uri": "https://localhost:8080/"
        },
        "id": "lLvomG27aBgj",
        "outputId": "59ea0dd7-ab9e-4a17-ad46-7882e64ea2eb"
      },
      "execution_count": 38,
      "outputs": [
        {
          "output_type": "execute_result",
          "data": {
            "text/plain": [
              "(1, 274)"
            ]
          },
          "metadata": {},
          "execution_count": 38
        }
      ]
    },
    {
      "cell_type": "code",
      "source": [
        "### TF -IDF\n",
        "from sklearn.feature_extraction.text import TfidfVectorizer\n",
        "cv = TfidfVectorizer(ngram_range =(1,1),max_features=10)\n",
        "x = cv.fit_transform(corpus)\n"
      ],
      "metadata": {
        "id": "Y_Te6isUaLhj"
      },
      "execution_count": 56,
      "outputs": []
    },
    {
      "cell_type": "code",
      "source": [
        "corpus[0]"
      ],
      "metadata": {
        "colab": {
          "base_uri": "https://localhost:8080/",
          "height": 35
        },
        "id": "CJavHZyJKant",
        "outputId": "56086efd-632f-4430-d9c9-3e8ff62d07ff"
      },
      "execution_count": 57,
      "outputs": [
        {
          "output_type": "execute_result",
          "data": {
            "text/plain": [
              "'rd th amendment act introduced system panchayati raj rural area nagar palikas urban area'"
            ],
            "application/vnd.google.colaboratory.intrinsic+json": {
              "type": "string"
            }
          },
          "metadata": {},
          "execution_count": 57
        }
      ]
    },
    {
      "cell_type": "code",
      "source": [
        "x[0].toarray()"
      ],
      "metadata": {
        "colab": {
          "base_uri": "https://localhost:8080/"
        },
        "id": "QmDh46YiKf98",
        "outputId": "6839c82e-965b-48c0-8535-a2e0f57188c2"
      },
      "execution_count": 58,
      "outputs": [
        {
          "output_type": "execute_result",
          "data": {
            "text/plain": [
              "array([[0.23770355, 0.97133775, 0.        , 0.        , 0.        ,\n",
              "        0.        , 0.        , 0.        , 0.        , 0.        ]])"
            ]
          },
          "metadata": {},
          "execution_count": 58
        }
      ]
    },
    {
      "cell_type": "code",
      "source": [],
      "metadata": {
        "id": "T8YvIyadKg_9"
      },
      "execution_count": null,
      "outputs": []
    }
  ]
}