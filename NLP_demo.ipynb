{
  "nbformat": 4,
  "nbformat_minor": 0,
  "metadata": {
    "colab": {
      "provenance": [],
      "authorship_tag": "ABX9TyOFKstgAoM7a8ni7O4/nYpD",
      "include_colab_link": true
    },
    "kernelspec": {
      "name": "python3",
      "display_name": "Python 3"
    },
    "language_info": {
      "name": "python"
    }
  },
  "cells": [
    {
      "cell_type": "markdown",
      "metadata": {
        "id": "view-in-github",
        "colab_type": "text"
      },
      "source": [
        "<a href=\"https://colab.research.google.com/github/ABHAY1937/NLP/blob/main/NLP_demo.ipynb\" target=\"_parent\"><img src=\"https://colab.research.google.com/assets/colab-badge.svg\" alt=\"Open In Colab\"/></a>"
      ]
    },
    {
      "cell_type": "code",
      "source": [
        "!pip install nltk"
      ],
      "metadata": {
        "id": "rJoCxJ0XiV7M",
        "colab": {
          "base_uri": "https://localhost:8080/"
        },
        "outputId": "febe3692-697d-403b-8b37-d896b884a52c"
      },
      "execution_count": 119,
      "outputs": [
        {
          "output_type": "stream",
          "name": "stdout",
          "text": [
            "Looking in indexes: https://pypi.org/simple, https://us-python.pkg.dev/colab-wheels/public/simple/\n",
            "Requirement already satisfied: nltk in /usr/local/lib/python3.10/dist-packages (3.8.1)\n",
            "Requirement already satisfied: click in /usr/local/lib/python3.10/dist-packages (from nltk) (8.1.3)\n",
            "Requirement already satisfied: joblib in /usr/local/lib/python3.10/dist-packages (from nltk) (1.2.0)\n",
            "Requirement already satisfied: regex>=2021.8.3 in /usr/local/lib/python3.10/dist-packages (from nltk) (2022.10.31)\n",
            "Requirement already satisfied: tqdm in /usr/local/lib/python3.10/dist-packages (from nltk) (4.65.0)\n"
          ]
        }
      ]
    },
    {
      "cell_type": "code",
      "source": [
        "nltk.download('stopwords')"
      ],
      "metadata": {
        "colab": {
          "base_uri": "https://localhost:8080/"
        },
        "id": "l-wf3WxOQR3H",
        "outputId": "faa84cdd-6e3c-4d8f-bde2-2991037bafb7"
      },
      "execution_count": 120,
      "outputs": [
        {
          "output_type": "stream",
          "name": "stderr",
          "text": [
            "[nltk_data] Downloading package stopwords to /root/nltk_data...\n",
            "[nltk_data]   Package stopwords is already up-to-date!\n"
          ]
        },
        {
          "output_type": "execute_result",
          "data": {
            "text/plain": [
              "True"
            ]
          },
          "metadata": {},
          "execution_count": 120
        }
      ]
    },
    {
      "cell_type": "code",
      "source": [
        "paragraph =\"\"\"The 73rd and 74th Amendment Acts introduced the system of panchayati raj in rural areas and Nagar Palikas in urban areas.[26] Article 370 gave special status to the state of Jammu and Kashmir.The Legislature and amendments\n",
        "Main articles: Amendment of the Constitution of India and List of amendments of the Constitution of India\n",
        "Article 368 dictates the procedure for constitutional amendments. Amendments are additions, variations or repeal of any part of the constitution by Parliament.[63] An amendment bill must be passed by each house of Parliament by a two-thirds majority of its total membership when at least two-thirds are present and vote. Certain amendments pertaining to the constitution's federal nature must also be ratified by a majority of state legislatures.\n",
        "\n",
        "Unlike ordinary bills in accordance with Article 245 (except for money bills), there is no provision for a joint session of the Lok Sabha and Rajya Sabha to pass a constitutional amendment. During a parliamentary recess, the president cannot promulgate ordinances under his legislative powers under Article 123, Chapter III.\n",
        "\n",
        "Despite the supermajority requirement for amendments to pass, the Indian constitution is the world's most frequently-amended national governing document.[64] The constitution is so specific in spelling out government powers that many amendments address issues dealt with by statute in other democracies.\n",
        "\n",
        "In 2000, the Justice Manepalli Narayana Rao Venkatachaliah Commission was formed to examine a constitutional update. The commission submitted its report on 31 March 2002. However, the recommendations of this report have not been accepted by the consecutive governments.\n",
        "\n",
        "The government of India establishes term-based law commissions to recommend legal reforms, facilitating the rule of law.\"\"\""
      ],
      "metadata": {
        "id": "Qsmt54WgQGn2"
      },
      "execution_count": 121,
      "outputs": []
    },
    {
      "cell_type": "code",
      "source": [
        "paragraph"
      ],
      "metadata": {
        "colab": {
          "base_uri": "https://localhost:8080/",
          "height": 140
        },
        "id": "570jQYUgQghI",
        "outputId": "afe00b9d-19a0-4d5d-e366-ad772f12ecbb"
      },
      "execution_count": 122,
      "outputs": [
        {
          "output_type": "execute_result",
          "data": {
            "text/plain": [
              "\"The 73rd and 74th Amendment Acts introduced the system of panchayati raj in rural areas and Nagar Palikas in urban areas.[26] Article 370 gave special status to the state of Jammu and Kashmir.The Legislature and amendments\\nMain articles: Amendment of the Constitution of India and List of amendments of the Constitution of India\\nArticle 368 dictates the procedure for constitutional amendments. Amendments are additions, variations or repeal of any part of the constitution by Parliament.[63] An amendment bill must be passed by each house of Parliament by a two-thirds majority of its total membership when at least two-thirds are present and vote. Certain amendments pertaining to the constitution's federal nature must also be ratified by a majority of state legislatures.\\n\\nUnlike ordinary bills in accordance with Article 245 (except for money bills), there is no provision for a joint session of the Lok Sabha and Rajya Sabha to pass a constitutional amendment. During a parliamentary recess, the president cannot promulgate ordinances under his legislative powers under Article 123, Chapter III.\\n\\nDespite the supermajority requirement for amendments to pass, the Indian constitution is the world's most frequently-amended national governing document.[64] The constitution is so specific in spelling out government powers that many amendments address issues dealt with by statute in other democracies.\\n\\nIn 2000, the Justice Manepalli Narayana Rao Venkatachaliah Commission was formed to examine a constitutional update. The commission submitted its report on 31 March 2002. However, the recommendations of this report have not been accepted by the consecutive governments.\\n\\nThe government of India establishes term-based law commissions to recommend legal reforms, facilitating the rule of law.\""
            ],
            "application/vnd.google.colaboratory.intrinsic+json": {
              "type": "string"
            }
          },
          "metadata": {},
          "execution_count": 122
        }
      ]
    },
    {
      "cell_type": "code",
      "source": [
        "import nltk\n",
        "from nltk.stem import PorterStemmer\n",
        "from nltk.corpus import stopwords"
      ],
      "metadata": {
        "id": "oF9zJnpjQrla"
      },
      "execution_count": 123,
      "outputs": []
    },
    {
      "cell_type": "code",
      "source": [
        "#tokenization --- converts paragraph to words\n",
        "nltk.download('punkt')\n",
        "sentences = nltk.sent_tokenize(paragraph)"
      ],
      "metadata": {
        "colab": {
          "base_uri": "https://localhost:8080/"
        },
        "id": "bWf9TMvYRb5B",
        "outputId": "843242f8-f1f7-4aa0-a672-9ae1c9ff94b2"
      },
      "execution_count": 124,
      "outputs": [
        {
          "output_type": "stream",
          "name": "stderr",
          "text": [
            "[nltk_data] Downloading package punkt to /root/nltk_data...\n",
            "[nltk_data]   Package punkt is already up-to-date!\n"
          ]
        }
      ]
    },
    {
      "cell_type": "code",
      "source": [
        "print(sentences)"
      ],
      "metadata": {
        "colab": {
          "base_uri": "https://localhost:8080/"
        },
        "id": "26xf5sAFRwZM",
        "outputId": "bc4ac4fe-491b-4b69-afec-72ba2cb138d4"
      },
      "execution_count": 125,
      "outputs": [
        {
          "output_type": "stream",
          "name": "stdout",
          "text": [
            "['The 73rd and 74th Amendment Acts introduced the system of panchayati raj in rural areas and Nagar Palikas in urban areas.', '[26] Article 370 gave special status to the state of Jammu and Kashmir.The Legislature and amendments\\nMain articles: Amendment of the Constitution of India and List of amendments of the Constitution of India\\nArticle 368 dictates the procedure for constitutional amendments.', 'Amendments are additions, variations or repeal of any part of the constitution by Parliament.', '[63] An amendment bill must be passed by each house of Parliament by a two-thirds majority of its total membership when at least two-thirds are present and vote.', \"Certain amendments pertaining to the constitution's federal nature must also be ratified by a majority of state legislatures.\", 'Unlike ordinary bills in accordance with Article 245 (except for money bills), there is no provision for a joint session of the Lok Sabha and Rajya Sabha to pass a constitutional amendment.', 'During a parliamentary recess, the president cannot promulgate ordinances under his legislative powers under Article 123, Chapter III.', \"Despite the supermajority requirement for amendments to pass, the Indian constitution is the world's most frequently-amended national governing document.\", '[64] The constitution is so specific in spelling out government powers that many amendments address issues dealt with by statute in other democracies.', 'In 2000, the Justice Manepalli Narayana Rao Venkatachaliah Commission was formed to examine a constitutional update.', 'The commission submitted its report on 31 March 2002.', 'However, the recommendations of this report have not been accepted by the consecutive governments.', 'The government of India establishes term-based law commissions to recommend legal reforms, facilitating the rule of law.']\n"
          ]
        }
      ]
    },
    {
      "cell_type": "code",
      "source": [
        "#applyng stemming  for finding the base root\n",
        "stemmer = PorterStemmer()"
      ],
      "metadata": {
        "id": "VjVxXUvySK6x"
      },
      "execution_count": 126,
      "outputs": []
    },
    {
      "cell_type": "code",
      "source": [
        "stemmer.stem('drinking')"
      ],
      "metadata": {
        "colab": {
          "base_uri": "https://localhost:8080/",
          "height": 35
        },
        "id": "YnUfcpZASl-9",
        "outputId": "85c334d5-0966-4f4f-f7e3-790d2d07b01b"
      },
      "execution_count": 127,
      "outputs": [
        {
          "output_type": "execute_result",
          "data": {
            "text/plain": [
              "'drink'"
            ],
            "application/vnd.google.colaboratory.intrinsic+json": {
              "type": "string"
            }
          },
          "metadata": {},
          "execution_count": 127
        }
      ]
    },
    {
      "cell_type": "code",
      "source": [
        "\n",
        "nltk.download('wordnet')"
      ],
      "metadata": {
        "colab": {
          "base_uri": "https://localhost:8080/"
        },
        "id": "m53N334eUnDT",
        "outputId": "5016e1b3-c14c-4b0f-d174-6013e44b941f"
      },
      "execution_count": 128,
      "outputs": [
        {
          "output_type": "stream",
          "name": "stderr",
          "text": [
            "[nltk_data] Downloading package wordnet to /root/nltk_data...\n",
            "[nltk_data]   Package wordnet is already up-to-date!\n"
          ]
        },
        {
          "output_type": "execute_result",
          "data": {
            "text/plain": [
              "True"
            ]
          },
          "metadata": {},
          "execution_count": 128
        }
      ]
    },
    {
      "cell_type": "code",
      "source": [
        "#lematization\n",
        "from nltk.stem import WordNetLemmatizer\n"
      ],
      "metadata": {
        "id": "EuhmF9CSSpPp"
      },
      "execution_count": 129,
      "outputs": []
    },
    {
      "cell_type": "code",
      "source": [
        "lemmatizer = WordNetLemmatizer()\n"
      ],
      "metadata": {
        "id": "xr0a2BR9TPyw"
      },
      "execution_count": 130,
      "outputs": []
    },
    {
      "cell_type": "code",
      "source": [
        "lemmatizer.lemmatize(\"goes\")"
      ],
      "metadata": {
        "colab": {
          "base_uri": "https://localhost:8080/",
          "height": 35
        },
        "id": "9SmSwDwrTWRQ",
        "outputId": "6bf6fb40-b06a-42bf-8152-4c30ac22ed94"
      },
      "execution_count": 131,
      "outputs": [
        {
          "output_type": "execute_result",
          "data": {
            "text/plain": [
              "'go'"
            ],
            "application/vnd.google.colaboratory.intrinsic+json": {
              "type": "string"
            }
          },
          "metadata": {},
          "execution_count": 131
        }
      ]
    },
    {
      "cell_type": "code",
      "source": [
        "#clean the paragraph\n",
        "import re\n",
        "corpus =[]\n",
        "for i in range(len(sentences)):\n",
        "  review = re.sub('[^a-zA-Z]',\" \",sentences[i])\n",
        "  review = review.lower()\n",
        "  corpus.append(review)"
      ],
      "metadata": {
        "id": "jwJXIswcTj8H"
      },
      "execution_count": 132,
      "outputs": []
    },
    {
      "cell_type": "code",
      "source": [
        "corpus"
      ],
      "metadata": {
        "colab": {
          "base_uri": "https://localhost:8080/"
        },
        "id": "vxUPO4PLVZ6R",
        "outputId": "b07911c2-8b19-4e88-f916-30b1c30bd41b"
      },
      "execution_count": 133,
      "outputs": [
        {
          "output_type": "execute_result",
          "data": {
            "text/plain": [
              "['the   rd and   th amendment acts introduced the system of panchayati raj in rural areas and nagar palikas in urban areas ',\n",
              " '     article     gave special status to the state of jammu and kashmir the legislature and amendments main articles  amendment of the constitution of india and list of amendments of the constitution of india article     dictates the procedure for constitutional amendments ',\n",
              " 'amendments are additions  variations or repeal of any part of the constitution by parliament ',\n",
              " '     an amendment bill must be passed by each house of parliament by a two thirds majority of its total membership when at least two thirds are present and vote ',\n",
              " 'certain amendments pertaining to the constitution s federal nature must also be ratified by a majority of state legislatures ',\n",
              " 'unlike ordinary bills in accordance with article      except for money bills   there is no provision for a joint session of the lok sabha and rajya sabha to pass a constitutional amendment ',\n",
              " 'during a parliamentary recess  the president cannot promulgate ordinances under his legislative powers under article      chapter iii ',\n",
              " 'despite the supermajority requirement for amendments to pass  the indian constitution is the world s most frequently amended national governing document ',\n",
              " '     the constitution is so specific in spelling out government powers that many amendments address issues dealt with by statute in other democracies ',\n",
              " 'in       the justice manepalli narayana rao venkatachaliah commission was formed to examine a constitutional update ',\n",
              " 'the commission submitted its report on    march      ',\n",
              " 'however  the recommendations of this report have not been accepted by the consecutive governments ',\n",
              " 'the government of india establishes term based law commissions to recommend legal reforms  facilitating the rule of law ']"
            ]
          },
          "metadata": {},
          "execution_count": 133
        }
      ]
    },
    {
      "cell_type": "code",
      "source": [
        "#stemming\n",
        "for i in corpus:\n",
        "  for word in i:\n",
        "    stemmer.stem\n",
        "print(i)"
      ],
      "metadata": {
        "colab": {
          "base_uri": "https://localhost:8080/"
        },
        "id": "McXUMh3IVpjS",
        "outputId": "51b6ecdc-fb14-46d3-9677-6db4f39613e8"
      },
      "execution_count": 134,
      "outputs": [
        {
          "output_type": "stream",
          "name": "stdout",
          "text": [
            "the government of india establishes term based law commissions to recommend legal reforms  facilitating the rule of law \n"
          ]
        }
      ]
    },
    {
      "cell_type": "code",
      "source": [
        "stopwords.words(\"english\")"
      ],
      "metadata": {
        "colab": {
          "base_uri": "https://localhost:8080/"
        },
        "id": "5s_3yxu4YVMV",
        "outputId": "39974207-0ed7-4ebc-bcb2-a43a109f3b30"
      },
      "execution_count": 135,
      "outputs": [
        {
          "output_type": "execute_result",
          "data": {
            "text/plain": [
              "['i',\n",
              " 'me',\n",
              " 'my',\n",
              " 'myself',\n",
              " 'we',\n",
              " 'our',\n",
              " 'ours',\n",
              " 'ourselves',\n",
              " 'you',\n",
              " \"you're\",\n",
              " \"you've\",\n",
              " \"you'll\",\n",
              " \"you'd\",\n",
              " 'your',\n",
              " 'yours',\n",
              " 'yourself',\n",
              " 'yourselves',\n",
              " 'he',\n",
              " 'him',\n",
              " 'his',\n",
              " 'himself',\n",
              " 'she',\n",
              " \"she's\",\n",
              " 'her',\n",
              " 'hers',\n",
              " 'herself',\n",
              " 'it',\n",
              " \"it's\",\n",
              " 'its',\n",
              " 'itself',\n",
              " 'they',\n",
              " 'them',\n",
              " 'their',\n",
              " 'theirs',\n",
              " 'themselves',\n",
              " 'what',\n",
              " 'which',\n",
              " 'who',\n",
              " 'whom',\n",
              " 'this',\n",
              " 'that',\n",
              " \"that'll\",\n",
              " 'these',\n",
              " 'those',\n",
              " 'am',\n",
              " 'is',\n",
              " 'are',\n",
              " 'was',\n",
              " 'were',\n",
              " 'be',\n",
              " 'been',\n",
              " 'being',\n",
              " 'have',\n",
              " 'has',\n",
              " 'had',\n",
              " 'having',\n",
              " 'do',\n",
              " 'does',\n",
              " 'did',\n",
              " 'doing',\n",
              " 'a',\n",
              " 'an',\n",
              " 'the',\n",
              " 'and',\n",
              " 'but',\n",
              " 'if',\n",
              " 'or',\n",
              " 'because',\n",
              " 'as',\n",
              " 'until',\n",
              " 'while',\n",
              " 'of',\n",
              " 'at',\n",
              " 'by',\n",
              " 'for',\n",
              " 'with',\n",
              " 'about',\n",
              " 'against',\n",
              " 'between',\n",
              " 'into',\n",
              " 'through',\n",
              " 'during',\n",
              " 'before',\n",
              " 'after',\n",
              " 'above',\n",
              " 'below',\n",
              " 'to',\n",
              " 'from',\n",
              " 'up',\n",
              " 'down',\n",
              " 'in',\n",
              " 'out',\n",
              " 'on',\n",
              " 'off',\n",
              " 'over',\n",
              " 'under',\n",
              " 'again',\n",
              " 'further',\n",
              " 'then',\n",
              " 'once',\n",
              " 'here',\n",
              " 'there',\n",
              " 'when',\n",
              " 'where',\n",
              " 'why',\n",
              " 'how',\n",
              " 'all',\n",
              " 'any',\n",
              " 'both',\n",
              " 'each',\n",
              " 'few',\n",
              " 'more',\n",
              " 'most',\n",
              " 'other',\n",
              " 'some',\n",
              " 'such',\n",
              " 'no',\n",
              " 'nor',\n",
              " 'not',\n",
              " 'only',\n",
              " 'own',\n",
              " 'same',\n",
              " 'so',\n",
              " 'than',\n",
              " 'too',\n",
              " 'very',\n",
              " 's',\n",
              " 't',\n",
              " 'can',\n",
              " 'will',\n",
              " 'just',\n",
              " 'don',\n",
              " \"don't\",\n",
              " 'should',\n",
              " \"should've\",\n",
              " 'now',\n",
              " 'd',\n",
              " 'll',\n",
              " 'm',\n",
              " 'o',\n",
              " 're',\n",
              " 've',\n",
              " 'y',\n",
              " 'ain',\n",
              " 'aren',\n",
              " \"aren't\",\n",
              " 'couldn',\n",
              " \"couldn't\",\n",
              " 'didn',\n",
              " \"didn't\",\n",
              " 'doesn',\n",
              " \"doesn't\",\n",
              " 'hadn',\n",
              " \"hadn't\",\n",
              " 'hasn',\n",
              " \"hasn't\",\n",
              " 'haven',\n",
              " \"haven't\",\n",
              " 'isn',\n",
              " \"isn't\",\n",
              " 'ma',\n",
              " 'mightn',\n",
              " \"mightn't\",\n",
              " 'mustn',\n",
              " \"mustn't\",\n",
              " 'needn',\n",
              " \"needn't\",\n",
              " 'shan',\n",
              " \"shan't\",\n",
              " 'shouldn',\n",
              " \"shouldn't\",\n",
              " 'wasn',\n",
              " \"wasn't\",\n",
              " 'weren',\n",
              " \"weren't\",\n",
              " 'won',\n",
              " \"won't\",\n",
              " 'wouldn',\n",
              " \"wouldn't\"]"
            ]
          },
          "metadata": {},
          "execution_count": 135
        }
      ]
    },
    {
      "cell_type": "code",
      "source": [
        "for i in corpus:\n",
        "  words= nltk.word_tokenize(i) #converts sentence to words\n",
        "  for word in words:\n",
        "    if word not in set(stopwords.words(\"english\")):\n",
        "      print(stemmer.stem(word))\n",
        "\n"
      ],
      "metadata": {
        "colab": {
          "base_uri": "https://localhost:8080/"
        },
        "id": "boYTdOcTWBlD",
        "outputId": "e9a17f56-5112-450c-f082-4b8a4608dc75"
      },
      "execution_count": 136,
      "outputs": [
        {
          "output_type": "stream",
          "name": "stdout",
          "text": [
            "rd\n",
            "th\n",
            "amend\n",
            "act\n",
            "introduc\n",
            "system\n",
            "panchayati\n",
            "raj\n",
            "rural\n",
            "area\n",
            "nagar\n",
            "palika\n",
            "urban\n",
            "area\n",
            "articl\n",
            "gave\n",
            "special\n",
            "statu\n",
            "state\n",
            "jammu\n",
            "kashmir\n",
            "legislatur\n",
            "amend\n",
            "main\n",
            "articl\n",
            "amend\n",
            "constitut\n",
            "india\n",
            "list\n",
            "amend\n",
            "constitut\n",
            "india\n",
            "articl\n",
            "dictat\n",
            "procedur\n",
            "constitut\n",
            "amend\n",
            "amend\n",
            "addit\n",
            "variat\n",
            "repeal\n",
            "part\n",
            "constitut\n",
            "parliament\n",
            "amend\n",
            "bill\n",
            "must\n",
            "pass\n",
            "hous\n",
            "parliament\n",
            "two\n",
            "third\n",
            "major\n",
            "total\n",
            "membership\n",
            "least\n",
            "two\n",
            "third\n",
            "present\n",
            "vote\n",
            "certain\n",
            "amend\n",
            "pertain\n",
            "constitut\n",
            "feder\n",
            "natur\n",
            "must\n",
            "also\n",
            "ratifi\n",
            "major\n",
            "state\n",
            "legislatur\n",
            "unlik\n",
            "ordinari\n",
            "bill\n",
            "accord\n",
            "articl\n",
            "except\n",
            "money\n",
            "bill\n",
            "provis\n",
            "joint\n",
            "session\n",
            "lok\n",
            "sabha\n",
            "rajya\n",
            "sabha\n",
            "pass\n",
            "constitut\n",
            "amend\n",
            "parliamentari\n",
            "recess\n",
            "presid\n",
            "promulg\n",
            "ordin\n",
            "legisl\n",
            "power\n",
            "articl\n",
            "chapter\n",
            "iii\n",
            "despit\n",
            "supermajor\n",
            "requir\n",
            "amend\n",
            "pass\n",
            "indian\n",
            "constitut\n",
            "world\n",
            "frequent\n",
            "amend\n",
            "nation\n",
            "govern\n",
            "document\n",
            "constitut\n",
            "specif\n",
            "spell\n",
            "govern\n",
            "power\n",
            "mani\n",
            "amend\n",
            "address\n",
            "issu\n",
            "dealt\n",
            "statut\n",
            "democraci\n",
            "justic\n",
            "manep\n",
            "narayana\n",
            "rao\n",
            "venkatachaliah\n",
            "commiss\n",
            "form\n",
            "examin\n",
            "constitut\n",
            "updat\n",
            "commiss\n",
            "submit\n",
            "report\n",
            "march\n",
            "howev\n",
            "recommend\n",
            "report\n",
            "accept\n",
            "consecut\n",
            "govern\n",
            "govern\n",
            "india\n",
            "establish\n",
            "term\n",
            "base\n",
            "law\n",
            "commiss\n",
            "recommend\n",
            "legal\n",
            "reform\n",
            "facilit\n",
            "rule\n",
            "law\n"
          ]
        }
      ]
    },
    {
      "cell_type": "code",
      "source": [
        "#lemmatizer\n",
        "for i in corpus:\n",
        "  words = nltk.word_tokenize(i)\n",
        "  for word in words:\n",
        "    if word not in set(stopwords.words('english')):\n",
        "      print(lemmatizer.lemmatize(word))\n"
      ],
      "metadata": {
        "colab": {
          "base_uri": "https://localhost:8080/"
        },
        "id": "tqzAP07hW_I5",
        "outputId": "b0f3da8c-bc9d-463c-82be-0fe452f61842"
      },
      "execution_count": 137,
      "outputs": [
        {
          "output_type": "stream",
          "name": "stdout",
          "text": [
            "rd\n",
            "th\n",
            "amendment\n",
            "act\n",
            "introduced\n",
            "system\n",
            "panchayati\n",
            "raj\n",
            "rural\n",
            "area\n",
            "nagar\n",
            "palikas\n",
            "urban\n",
            "area\n",
            "article\n",
            "gave\n",
            "special\n",
            "status\n",
            "state\n",
            "jammu\n",
            "kashmir\n",
            "legislature\n",
            "amendment\n",
            "main\n",
            "article\n",
            "amendment\n",
            "constitution\n",
            "india\n",
            "list\n",
            "amendment\n",
            "constitution\n",
            "india\n",
            "article\n",
            "dictate\n",
            "procedure\n",
            "constitutional\n",
            "amendment\n",
            "amendment\n",
            "addition\n",
            "variation\n",
            "repeal\n",
            "part\n",
            "constitution\n",
            "parliament\n",
            "amendment\n",
            "bill\n",
            "must\n",
            "passed\n",
            "house\n",
            "parliament\n",
            "two\n",
            "third\n",
            "majority\n",
            "total\n",
            "membership\n",
            "least\n",
            "two\n",
            "third\n",
            "present\n",
            "vote\n",
            "certain\n",
            "amendment\n",
            "pertaining\n",
            "constitution\n",
            "federal\n",
            "nature\n",
            "must\n",
            "also\n",
            "ratified\n",
            "majority\n",
            "state\n",
            "legislature\n",
            "unlike\n",
            "ordinary\n",
            "bill\n",
            "accordance\n",
            "article\n",
            "except\n",
            "money\n",
            "bill\n",
            "provision\n",
            "joint\n",
            "session\n",
            "lok\n",
            "sabha\n",
            "rajya\n",
            "sabha\n",
            "pas\n",
            "constitutional\n",
            "amendment\n",
            "parliamentary\n",
            "recess\n",
            "president\n",
            "promulgate\n",
            "ordinance\n",
            "legislative\n",
            "power\n",
            "article\n",
            "chapter\n",
            "iii\n",
            "despite\n",
            "supermajority\n",
            "requirement\n",
            "amendment\n",
            "pas\n",
            "indian\n",
            "constitution\n",
            "world\n",
            "frequently\n",
            "amended\n",
            "national\n",
            "governing\n",
            "document\n",
            "constitution\n",
            "specific\n",
            "spelling\n",
            "government\n",
            "power\n",
            "many\n",
            "amendment\n",
            "address\n",
            "issue\n",
            "dealt\n",
            "statute\n",
            "democracy\n",
            "justice\n",
            "manepalli\n",
            "narayana\n",
            "rao\n",
            "venkatachaliah\n",
            "commission\n",
            "formed\n",
            "examine\n",
            "constitutional\n",
            "update\n",
            "commission\n",
            "submitted\n",
            "report\n",
            "march\n",
            "however\n",
            "recommendation\n",
            "report\n",
            "accepted\n",
            "consecutive\n",
            "government\n",
            "government\n",
            "india\n",
            "establishes\n",
            "term\n",
            "based\n",
            "law\n",
            "commission\n",
            "recommend\n",
            "legal\n",
            "reform\n",
            "facilitating\n",
            "rule\n",
            "law\n"
          ]
        }
      ]
    },
    {
      "cell_type": "code",
      "source": [
        "##apply stopwords.Lemmatize\n",
        "import re\n",
        "corpus=[]\n",
        "for i in range(len(sentences)):\n",
        "   review = re.sub('[^a-zA-Z]',\" \",sentences[i])\n",
        "   review = review.lower()\n",
        "   review = review.split()\n",
        "   review = [lemmatizer.lemmatize(word) for word in review if not word in set(stopwords.words(\"english\"))]\n",
        "   review = \" \".join(review)\n",
        "   corpus.append(review)\n"
      ],
      "metadata": {
        "id": "Swfoj1eWazBX"
      },
      "execution_count": 138,
      "outputs": []
    },
    {
      "cell_type": "code",
      "source": [
        "#for bag of words\n",
        "from sklearn.feature_extraction.text import CountVectorizer\n",
        "cv = CountVectorizer(binary=True)"
      ],
      "metadata": {
        "id": "8nTEUryGZO1v"
      },
      "execution_count": 139,
      "outputs": []
    },
    {
      "cell_type": "code",
      "source": [
        "x = cv.fit_transform(corpus)"
      ],
      "metadata": {
        "id": "PpKEgL7uZoXN"
      },
      "execution_count": 140,
      "outputs": []
    },
    {
      "cell_type": "code",
      "source": [
        "cv.vocabulary_ #feature number or index"
      ],
      "metadata": {
        "colab": {
          "base_uri": "https://localhost:8080/"
        },
        "id": "6kc8XoI7ZwSw",
        "outputId": "3b8bde90-8421-443c-9bcf-3fefbaf576ff"
      },
      "execution_count": 141,
      "outputs": [
        {
          "output_type": "execute_result",
          "data": {
            "text/plain": [
              "{'rd': 84,\n",
              " 'th': 106,\n",
              " 'amendment': 7,\n",
              " 'act': 2,\n",
              " 'introduced': 39,\n",
              " 'system': 104,\n",
              " 'panchayati': 67,\n",
              " 'raj': 80,\n",
              " 'rural': 93,\n",
              " 'area': 8,\n",
              " 'nagar': 60,\n",
              " 'palikas': 66,\n",
              " 'urban': 112,\n",
              " 'article': 9,\n",
              " 'gave': 31,\n",
              " 'special': 96,\n",
              " 'status': 100,\n",
              " 'state': 99,\n",
              " 'jammu': 41,\n",
              " 'kashmir': 44,\n",
              " 'legislature': 49,\n",
              " 'main': 52,\n",
              " 'constitution': 17,\n",
              " 'india': 37,\n",
              " 'list': 50,\n",
              " 'dictate': 22,\n",
              " 'procedure': 77,\n",
              " 'constitutional': 18,\n",
              " 'addition': 3,\n",
              " 'variation': 113,\n",
              " 'repeal': 89,\n",
              " 'part': 70,\n",
              " 'parliament': 68,\n",
              " 'bill': 11,\n",
              " 'must': 59,\n",
              " 'passed': 72,\n",
              " 'house': 34,\n",
              " 'two': 109,\n",
              " 'third': 107,\n",
              " 'majority': 53,\n",
              " 'total': 108,\n",
              " 'membership': 57,\n",
              " 'least': 46,\n",
              " 'present': 75,\n",
              " 'vote': 115,\n",
              " 'certain': 13,\n",
              " 'pertaining': 73,\n",
              " 'federal': 28,\n",
              " 'nature': 63,\n",
              " 'also': 5,\n",
              " 'ratified': 83,\n",
              " 'unlike': 110,\n",
              " 'ordinary': 65,\n",
              " 'accordance': 1,\n",
              " 'except': 26,\n",
              " 'money': 58,\n",
              " 'provision': 79,\n",
              " 'joint': 42,\n",
              " 'session': 95,\n",
              " 'lok': 51,\n",
              " 'sabha': 94,\n",
              " 'rajya': 81,\n",
              " 'pas': 71,\n",
              " 'parliamentary': 69,\n",
              " 'recess': 85,\n",
              " 'president': 76,\n",
              " 'cannot': 12,\n",
              " 'promulgate': 78,\n",
              " 'ordinance': 64,\n",
              " 'legislative': 48,\n",
              " 'power': 74,\n",
              " 'chapter': 14,\n",
              " 'iii': 36,\n",
              " 'despite': 21,\n",
              " 'supermajority': 103,\n",
              " 'requirement': 91,\n",
              " 'indian': 38,\n",
              " 'world': 116,\n",
              " 'frequently': 30,\n",
              " 'amended': 6,\n",
              " 'national': 62,\n",
              " 'governing': 32,\n",
              " 'document': 23,\n",
              " 'specific': 97,\n",
              " 'spelling': 98,\n",
              " 'government': 33,\n",
              " 'many': 55,\n",
              " 'address': 4,\n",
              " 'issue': 40,\n",
              " 'dealt': 19,\n",
              " 'statute': 101,\n",
              " 'democracy': 20,\n",
              " 'justice': 43,\n",
              " 'manepalli': 54,\n",
              " 'narayana': 61,\n",
              " 'rao': 82,\n",
              " 'venkatachaliah': 114,\n",
              " 'commission': 15,\n",
              " 'formed': 29,\n",
              " 'examine': 25,\n",
              " 'update': 111,\n",
              " 'submitted': 102,\n",
              " 'report': 90,\n",
              " 'march': 56,\n",
              " 'however': 35,\n",
              " 'recommendation': 87,\n",
              " 'accepted': 0,\n",
              " 'consecutive': 16,\n",
              " 'establishes': 24,\n",
              " 'term': 105,\n",
              " 'based': 10,\n",
              " 'law': 45,\n",
              " 'recommend': 86,\n",
              " 'legal': 47,\n",
              " 'reform': 88,\n",
              " 'facilitating': 27,\n",
              " 'rule': 92}"
            ]
          },
          "metadata": {},
          "execution_count": 141
        }
      ]
    },
    {
      "cell_type": "code",
      "source": [
        "corpus[0]"
      ],
      "metadata": {
        "colab": {
          "base_uri": "https://localhost:8080/",
          "height": 35
        },
        "id": "cYuPeOM1Zy_V",
        "outputId": "2a2cfe53-763a-4cf8-9f51-e8a60bdd5f2d"
      },
      "execution_count": 142,
      "outputs": [
        {
          "output_type": "execute_result",
          "data": {
            "text/plain": [
              "'rd th amendment act introduced system panchayati raj rural area nagar palikas urban area'"
            ],
            "application/vnd.google.colaboratory.intrinsic+json": {
              "type": "string"
            }
          },
          "metadata": {},
          "execution_count": 142
        }
      ]
    },
    {
      "cell_type": "code",
      "source": [
        "x[0].toarray()"
      ],
      "metadata": {
        "colab": {
          "base_uri": "https://localhost:8080/"
        },
        "id": "uX_KhlwyZ5Xv",
        "outputId": "a1cc69c9-0d21-415a-92c6-1dbb29eeb6cc"
      },
      "execution_count": 143,
      "outputs": [
        {
          "output_type": "execute_result",
          "data": {
            "text/plain": [
              "array([[0, 0, 1, 0, 0, 0, 0, 1, 1, 0, 0, 0, 0, 0, 0, 0, 0, 0, 0, 0, 0, 0,\n",
              "        0, 0, 0, 0, 0, 0, 0, 0, 0, 0, 0, 0, 0, 0, 0, 0, 0, 1, 0, 0, 0, 0,\n",
              "        0, 0, 0, 0, 0, 0, 0, 0, 0, 0, 0, 0, 0, 0, 0, 0, 1, 0, 0, 0, 0, 0,\n",
              "        1, 1, 0, 0, 0, 0, 0, 0, 0, 0, 0, 0, 0, 0, 1, 0, 0, 0, 1, 0, 0, 0,\n",
              "        0, 0, 0, 0, 0, 1, 0, 0, 0, 0, 0, 0, 0, 0, 0, 0, 1, 0, 1, 0, 0, 0,\n",
              "        0, 0, 1, 0, 0, 0, 0]])"
            ]
          },
          "metadata": {},
          "execution_count": 143
        }
      ]
    },
    {
      "cell_type": "code",
      "source": [
        "x[0].toarray().shape"
      ],
      "metadata": {
        "colab": {
          "base_uri": "https://localhost:8080/"
        },
        "id": "lLvomG27aBgj",
        "outputId": "56ce3e6d-5581-4d81-b8c5-8f0217ffd82b"
      },
      "execution_count": 144,
      "outputs": [
        {
          "output_type": "execute_result",
          "data": {
            "text/plain": [
              "(1, 117)"
            ]
          },
          "metadata": {},
          "execution_count": 144
        }
      ]
    },
    {
      "cell_type": "code",
      "source": [],
      "metadata": {
        "id": "Y_Te6isUaLhj"
      },
      "execution_count": 144,
      "outputs": []
    }
  ]
}