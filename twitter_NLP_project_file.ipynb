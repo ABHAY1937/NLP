{
  "nbformat": 4,
  "nbformat_minor": 0,
  "metadata": {
    "colab": {
      "provenance": [],
      "authorship_tag": "ABX9TyNVcNU/bf+j0TGH6jWzqXZM",
      "include_colab_link": true
    },
    "kernelspec": {
      "name": "python3",
      "display_name": "Python 3"
    },
    "language_info": {
      "name": "python"
    }
  },
  "cells": [
    {
      "cell_type": "markdown",
      "metadata": {
        "id": "view-in-github",
        "colab_type": "text"
      },
      "source": [
        "<a href=\"https://colab.research.google.com/github/ABHAY1937/NLP/blob/main/twitter_NLP_project_file.ipynb\" target=\"_parent\"><img src=\"https://colab.research.google.com/assets/colab-badge.svg\" alt=\"Open In Colab\"/></a>"
      ]
    },
    {
      "cell_type": "code",
      "execution_count": null,
      "metadata": {
        "id": "Jx1lf0m-w5jv"
      },
      "outputs": [],
      "source": [
        "#re regular expression\n",
        "import re \n",
        "import numpy as np\n",
        "import pandas as pd\n",
        "import matplotlib.pyplot as plt\n",
        "import seaborn as sns\n",
        "import nltk"
      ]
    },
    {
      "cell_type": "code",
      "source": [
        "df=pd.read_csv(\"/content/twitter_validation.csv\",encoding=\"ISO-8859-1\",header=None)\n",
        "df.columns=[\"id\",\"location\",\"target\",\"text\"]\n",
        "df.head(10)"
      ],
      "metadata": {
        "colab": {
          "base_uri": "https://localhost:8080/",
          "height": 363
        },
        "id": "J7LZTH7iyCsD",
        "outputId": "87e7a6ec-1bce-4daf-b90f-117c13ffc163"
      },
      "execution_count": null,
      "outputs": [
        {
          "output_type": "execute_result",
          "data": {
            "text/plain": [
              "      id              location      target  \\\n",
              "0   3364              Facebook  Irrelevant   \n",
              "1    352                Amazon     Neutral   \n",
              "2   8312             Microsoft    Negative   \n",
              "3   4371                 CS-GO    Negative   \n",
              "4   4433                Google     Neutral   \n",
              "5   6273                  FIFA    Negative   \n",
              "6   7925             MaddenNFL    Positive   \n",
              "7  11332  TomClancysRainbowSix    Positive   \n",
              "8   1107        AssassinsCreed    Positive   \n",
              "9   2069            CallOfDuty    Negative   \n",
              "\n",
              "                                                text  \n",
              "0  I mentioned on Facebook that I was struggling ...  \n",
              "1  BBC News - Amazon boss Jeff Bezos rejects clai...  \n",
              "2  @Microsoft Why do I pay for WORD when it funct...  \n",
              "3  CSGO matchmaking is so full of closet hacking,...  \n",
              "4  Now the President is slapping Americans in the...  \n",
              "5  Hi @EAHelp Iâve had Madeleine McCann in my c...  \n",
              "6  Thank you @EAMaddenNFL!! \\n\\nNew TE Austin Hoo...  \n",
              "7  Rocket League, Sea of Thieves or Rainbow Six: ...  \n",
              "8  my ass still knee-deep in Assassins Creed Odys...  \n",
              "9  FIX IT JESUS ! Please FIX IT ! What In the wor...  "
            ],
            "text/html": [
              "\n",
              "  <div id=\"df-164fff1f-22fc-498a-9fbf-81cf7b0f403e\">\n",
              "    <div class=\"colab-df-container\">\n",
              "      <div>\n",
              "<style scoped>\n",
              "    .dataframe tbody tr th:only-of-type {\n",
              "        vertical-align: middle;\n",
              "    }\n",
              "\n",
              "    .dataframe tbody tr th {\n",
              "        vertical-align: top;\n",
              "    }\n",
              "\n",
              "    .dataframe thead th {\n",
              "        text-align: right;\n",
              "    }\n",
              "</style>\n",
              "<table border=\"1\" class=\"dataframe\">\n",
              "  <thead>\n",
              "    <tr style=\"text-align: right;\">\n",
              "      <th></th>\n",
              "      <th>id</th>\n",
              "      <th>location</th>\n",
              "      <th>target</th>\n",
              "      <th>text</th>\n",
              "    </tr>\n",
              "  </thead>\n",
              "  <tbody>\n",
              "    <tr>\n",
              "      <th>0</th>\n",
              "      <td>3364</td>\n",
              "      <td>Facebook</td>\n",
              "      <td>Irrelevant</td>\n",
              "      <td>I mentioned on Facebook that I was struggling ...</td>\n",
              "    </tr>\n",
              "    <tr>\n",
              "      <th>1</th>\n",
              "      <td>352</td>\n",
              "      <td>Amazon</td>\n",
              "      <td>Neutral</td>\n",
              "      <td>BBC News - Amazon boss Jeff Bezos rejects clai...</td>\n",
              "    </tr>\n",
              "    <tr>\n",
              "      <th>2</th>\n",
              "      <td>8312</td>\n",
              "      <td>Microsoft</td>\n",
              "      <td>Negative</td>\n",
              "      <td>@Microsoft Why do I pay for WORD when it funct...</td>\n",
              "    </tr>\n",
              "    <tr>\n",
              "      <th>3</th>\n",
              "      <td>4371</td>\n",
              "      <td>CS-GO</td>\n",
              "      <td>Negative</td>\n",
              "      <td>CSGO matchmaking is so full of closet hacking,...</td>\n",
              "    </tr>\n",
              "    <tr>\n",
              "      <th>4</th>\n",
              "      <td>4433</td>\n",
              "      <td>Google</td>\n",
              "      <td>Neutral</td>\n",
              "      <td>Now the President is slapping Americans in the...</td>\n",
              "    </tr>\n",
              "    <tr>\n",
              "      <th>5</th>\n",
              "      <td>6273</td>\n",
              "      <td>FIFA</td>\n",
              "      <td>Negative</td>\n",
              "      <td>Hi @EAHelp Iâve had Madeleine McCann in my c...</td>\n",
              "    </tr>\n",
              "    <tr>\n",
              "      <th>6</th>\n",
              "      <td>7925</td>\n",
              "      <td>MaddenNFL</td>\n",
              "      <td>Positive</td>\n",
              "      <td>Thank you @EAMaddenNFL!! \\n\\nNew TE Austin Hoo...</td>\n",
              "    </tr>\n",
              "    <tr>\n",
              "      <th>7</th>\n",
              "      <td>11332</td>\n",
              "      <td>TomClancysRainbowSix</td>\n",
              "      <td>Positive</td>\n",
              "      <td>Rocket League, Sea of Thieves or Rainbow Six: ...</td>\n",
              "    </tr>\n",
              "    <tr>\n",
              "      <th>8</th>\n",
              "      <td>1107</td>\n",
              "      <td>AssassinsCreed</td>\n",
              "      <td>Positive</td>\n",
              "      <td>my ass still knee-deep in Assassins Creed Odys...</td>\n",
              "    </tr>\n",
              "    <tr>\n",
              "      <th>9</th>\n",
              "      <td>2069</td>\n",
              "      <td>CallOfDuty</td>\n",
              "      <td>Negative</td>\n",
              "      <td>FIX IT JESUS ! Please FIX IT ! What In the wor...</td>\n",
              "    </tr>\n",
              "  </tbody>\n",
              "</table>\n",
              "</div>\n",
              "      <button class=\"colab-df-convert\" onclick=\"convertToInteractive('df-164fff1f-22fc-498a-9fbf-81cf7b0f403e')\"\n",
              "              title=\"Convert this dataframe to an interactive table.\"\n",
              "              style=\"display:none;\">\n",
              "        \n",
              "  <svg xmlns=\"http://www.w3.org/2000/svg\" height=\"24px\"viewBox=\"0 0 24 24\"\n",
              "       width=\"24px\">\n",
              "    <path d=\"M0 0h24v24H0V0z\" fill=\"none\"/>\n",
              "    <path d=\"M18.56 5.44l.94 2.06.94-2.06 2.06-.94-2.06-.94-.94-2.06-.94 2.06-2.06.94zm-11 1L8.5 8.5l.94-2.06 2.06-.94-2.06-.94L8.5 2.5l-.94 2.06-2.06.94zm10 10l.94 2.06.94-2.06 2.06-.94-2.06-.94-.94-2.06-.94 2.06-2.06.94z\"/><path d=\"M17.41 7.96l-1.37-1.37c-.4-.4-.92-.59-1.43-.59-.52 0-1.04.2-1.43.59L10.3 9.45l-7.72 7.72c-.78.78-.78 2.05 0 2.83L4 21.41c.39.39.9.59 1.41.59.51 0 1.02-.2 1.41-.59l7.78-7.78 2.81-2.81c.8-.78.8-2.07 0-2.86zM5.41 20L4 18.59l7.72-7.72 1.47 1.35L5.41 20z\"/>\n",
              "  </svg>\n",
              "      </button>\n",
              "      \n",
              "  <style>\n",
              "    .colab-df-container {\n",
              "      display:flex;\n",
              "      flex-wrap:wrap;\n",
              "      gap: 12px;\n",
              "    }\n",
              "\n",
              "    .colab-df-convert {\n",
              "      background-color: #E8F0FE;\n",
              "      border: none;\n",
              "      border-radius: 50%;\n",
              "      cursor: pointer;\n",
              "      display: none;\n",
              "      fill: #1967D2;\n",
              "      height: 32px;\n",
              "      padding: 0 0 0 0;\n",
              "      width: 32px;\n",
              "    }\n",
              "\n",
              "    .colab-df-convert:hover {\n",
              "      background-color: #E2EBFA;\n",
              "      box-shadow: 0px 1px 2px rgba(60, 64, 67, 0.3), 0px 1px 3px 1px rgba(60, 64, 67, 0.15);\n",
              "      fill: #174EA6;\n",
              "    }\n",
              "\n",
              "    [theme=dark] .colab-df-convert {\n",
              "      background-color: #3B4455;\n",
              "      fill: #D2E3FC;\n",
              "    }\n",
              "\n",
              "    [theme=dark] .colab-df-convert:hover {\n",
              "      background-color: #434B5C;\n",
              "      box-shadow: 0px 1px 3px 1px rgba(0, 0, 0, 0.15);\n",
              "      filter: drop-shadow(0px 1px 2px rgba(0, 0, 0, 0.3));\n",
              "      fill: #FFFFFF;\n",
              "    }\n",
              "  </style>\n",
              "\n",
              "      <script>\n",
              "        const buttonEl =\n",
              "          document.querySelector('#df-164fff1f-22fc-498a-9fbf-81cf7b0f403e button.colab-df-convert');\n",
              "        buttonEl.style.display =\n",
              "          google.colab.kernel.accessAllowed ? 'block' : 'none';\n",
              "\n",
              "        async function convertToInteractive(key) {\n",
              "          const element = document.querySelector('#df-164fff1f-22fc-498a-9fbf-81cf7b0f403e');\n",
              "          const dataTable =\n",
              "            await google.colab.kernel.invokeFunction('convertToInteractive',\n",
              "                                                     [key], {});\n",
              "          if (!dataTable) return;\n",
              "\n",
              "          const docLinkHtml = 'Like what you see? Visit the ' +\n",
              "            '<a target=\"_blank\" href=https://colab.research.google.com/notebooks/data_table.ipynb>data table notebook</a>'\n",
              "            + ' to learn more about interactive tables.';\n",
              "          element.innerHTML = '';\n",
              "          dataTable['output_type'] = 'display_data';\n",
              "          await google.colab.output.renderOutput(dataTable, element);\n",
              "          const docLink = document.createElement('div');\n",
              "          docLink.innerHTML = docLinkHtml;\n",
              "          element.appendChild(docLink);\n",
              "        }\n",
              "      </script>\n",
              "    </div>\n",
              "  </div>\n",
              "  "
            ]
          },
          "metadata": {},
          "execution_count": 184
        }
      ]
    },
    {
      "cell_type": "code",
      "source": [
        "df.isna().sum()"
      ],
      "metadata": {
        "colab": {
          "base_uri": "https://localhost:8080/"
        },
        "id": "9B1UUc0RySZS",
        "outputId": "12740e17-39c0-4d34-97c8-c2d570dfba0d"
      },
      "execution_count": null,
      "outputs": [
        {
          "output_type": "execute_result",
          "data": {
            "text/plain": [
              "id          0\n",
              "location    0\n",
              "target      0\n",
              "text        0\n",
              "dtype: int64"
            ]
          },
          "metadata": {},
          "execution_count": 185
        }
      ]
    },
    {
      "cell_type": "code",
      "source": [
        "df[\"location\"].value_counts()"
      ],
      "metadata": {
        "colab": {
          "base_uri": "https://localhost:8080/"
        },
        "id": "tpHEm6cN0HYE",
        "outputId": "2ce792f6-235d-49db-d375-03fa2a34167b"
      },
      "execution_count": null,
      "outputs": [
        {
          "output_type": "execute_result",
          "data": {
            "text/plain": [
              "RedDeadRedemption(RDR)               40\n",
              "johnson&johnson                      39\n",
              "FIFA                                 38\n",
              "PlayerUnknownsBattlegrounds(PUBG)    38\n",
              "LeagueOfLegends                      37\n",
              "ApexLegends                          36\n",
              "TomClancysRainbowSix                 35\n",
              "Nvidia                               35\n",
              "GrandTheftAuto(GTA)                  35\n",
              "Amazon                               34\n",
              "Fortnite                             34\n",
              "Facebook                             33\n",
              "PlayStation5(PS5)                    33\n",
              "AssassinsCreed                       33\n",
              "Borderlands                          33\n",
              "Overwatch                            32\n",
              "Hearthstone                          32\n",
              "Verizon                              32\n",
              "CS-GO                                32\n",
              "CallOfDuty                           31\n",
              "Cyberpunk2077                        30\n",
              "WorldOfCraft                         30\n",
              "MaddenNFL                            29\n",
              "Microsoft                            28\n",
              "Dota2                                27\n",
              "CallOfDutyBlackopsColdWar            27\n",
              "Xbox(Xseries)                        26\n",
              "Battlefield                          26\n",
              "Google                               24\n",
              "TomClancysGhostRecon                 22\n",
              "NBA2K                                21\n",
              "HomeDepot                            18\n",
              "Name: location, dtype: int64"
            ]
          },
          "metadata": {},
          "execution_count": 186
        }
      ]
    },
    {
      "cell_type": "code",
      "source": [
        "t=df[\"target\"].value_counts()\n",
        "t\n"
      ],
      "metadata": {
        "colab": {
          "base_uri": "https://localhost:8080/"
        },
        "id": "8HygK9XR0Pl9",
        "outputId": "29bafb51-16be-4ef6-c2d1-a4bca9fbfde1"
      },
      "execution_count": null,
      "outputs": [
        {
          "output_type": "execute_result",
          "data": {
            "text/plain": [
              "Neutral       285\n",
              "Positive      277\n",
              "Negative      266\n",
              "Irrelevant    172\n",
              "Name: target, dtype: int64"
            ]
          },
          "metadata": {},
          "execution_count": 187
        }
      ]
    },
    {
      "cell_type": "code",
      "source": [
        "sns.countplot(x=\"target\",data=df)"
      ],
      "metadata": {
        "colab": {
          "base_uri": "https://localhost:8080/",
          "height": 467
        },
        "id": "YfPdUwpTzLIS",
        "outputId": "3d1d2059-f1f2-4247-f938-e7d7ad872e1a"
      },
      "execution_count": null,
      "outputs": [
        {
          "output_type": "execute_result",
          "data": {
            "text/plain": [
              "<Axes: xlabel='target', ylabel='count'>"
            ]
          },
          "metadata": {},
          "execution_count": 188
        },
        {
          "output_type": "display_data",
          "data": {
            "text/plain": [
              "<Figure size 640x480 with 1 Axes>"
            ],
            "image/png": "[encoded data removed]"
          },
          "metadata": {}
        }
      ]
    },
    {
      "cell_type": "code",
      "source": [
        "#dropping the values from the column irrelevant \n",
        "df.drop(df.index[(df[\"target\"]==\"Irrelevant\")],axis=0,inplace=True)\n",
        "df"
      ],
      "metadata": {
        "id": "bE4iSWk_zzNd",
        "colab": {
          "base_uri": "https://localhost:8080/",
          "height": 423
        },
        "outputId": "f384ae26-1746-4bd0-8d5e-ba5dc51341cd"
      },
      "execution_count": null,
      "outputs": [
        {
          "output_type": "execute_result",
          "data": {
            "text/plain": [
              "       id           location    target  \\\n",
              "1     352             Amazon   Neutral   \n",
              "2    8312          Microsoft  Negative   \n",
              "3    4371              CS-GO  Negative   \n",
              "4    4433             Google   Neutral   \n",
              "5    6273               FIFA  Negative   \n",
              "..    ...                ...       ...   \n",
              "993   314             Amazon  Negative   \n",
              "994  9701  PlayStation5(PS5)  Positive   \n",
              "997  2652        Borderlands  Positive   \n",
              "998  8069          Microsoft  Positive   \n",
              "999  6960    johnson&johnson   Neutral   \n",
              "\n",
              "                                                  text  \n",
              "1    BBC News - Amazon boss Jeff Bezos rejects clai...  \n",
              "2    @Microsoft Why do I pay for WORD when it funct...  \n",
              "3    CSGO matchmaking is so full of closet hacking,...  \n",
              "4    Now the President is slapping Americans in the...  \n",
              "5    Hi @EAHelp Iâve had Madeleine McCann in my c...  \n",
              "..                                                 ...  \n",
              "993  Please explain how this is possible! How can t...  \n",
              "994  Good on Sony. As much as I want to see the new...  \n",
              "997  Today sucked so itâs time to drink wine n pl...  \n",
              "998  Bought a fraction of Microsoft today. Small wins.  \n",
              "999  Johnson & Johnson to stop selling talc baby po...  \n",
              "\n",
              "[828 rows x 4 columns]"
            ],
            "text/html": [
              "\n",
              "  <div id=\"df-93d629ca-d1f2-4246-92b9-e51ec7fe7399\">\n",
              "    <div class=\"colab-df-container\">\n",
              "      <div>\n",
              "<style scoped>\n",
              "    .dataframe tbody tr th:only-of-type {\n",
              "        vertical-align: middle;\n",
              "    }\n",
              "\n",
              "    .dataframe tbody tr th {\n",
              "        vertical-align: top;\n",
              "    }\n",
              "\n",
              "    .dataframe thead th {\n",
              "        text-align: right;\n",
              "    }\n",
              "</style>\n",
              "<table border=\"1\" class=\"dataframe\">\n",
              "  <thead>\n",
              "    <tr style=\"text-align: right;\">\n",
              "      <th></th>\n",
              "      <th>id</th>\n",
              "      <th>location</th>\n",
              "      <th>target</th>\n",
              "      <th>text</th>\n",
              "    </tr>\n",
              "  </thead>\n",
              "  <tbody>\n",
              "    <tr>\n",
              "      <th>1</th>\n",
              "      <td>352</td>\n",
              "      <td>Amazon</td>\n",
              "      <td>Neutral</td>\n",
              "      <td>BBC News - Amazon boss Jeff Bezos rejects clai...</td>\n",
              "    </tr>\n",
              "    <tr>\n",
              "      <th>2</th>\n",
              "      <td>8312</td>\n",
              "      <td>Microsoft</td>\n",
              "      <td>Negative</td>\n",
              "      <td>@Microsoft Why do I pay for WORD when it funct...</td>\n",
              "    </tr>\n",
              "    <tr>\n",
              "      <th>3</th>\n",
              "      <td>4371</td>\n",
              "      <td>CS-GO</td>\n",
              "      <td>Negative</td>\n",
              "      <td>CSGO matchmaking is so full of closet hacking,...</td>\n",
              "    </tr>\n",
              "    <tr>\n",
              "      <th>4</th>\n",
              "      <td>4433</td>\n",
              "      <td>Google</td>\n",
              "      <td>Neutral</td>\n",
              "      <td>Now the President is slapping Americans in the...</td>\n",
              "    </tr>\n",
              "    <tr>\n",
              "      <th>5</th>\n",
              "      <td>6273</td>\n",
              "      <td>FIFA</td>\n",
              "      <td>Negative</td>\n",
              "      <td>Hi @EAHelp Iâve had Madeleine McCann in my c...</td>\n",
              "    </tr>\n",
              "    <tr>\n",
              "      <th>...</th>\n",
              "      <td>...</td>\n",
              "      <td>...</td>\n",
              "      <td>...</td>\n",
              "      <td>...</td>\n",
              "    </tr>\n",
              "    <tr>\n",
              "      <th>993</th>\n",
              "      <td>314</td>\n",
              "      <td>Amazon</td>\n",
              "      <td>Negative</td>\n",
              "      <td>Please explain how this is possible! How can t...</td>\n",
              "    </tr>\n",
              "    <tr>\n",
              "      <th>994</th>\n",
              "      <td>9701</td>\n",
              "      <td>PlayStation5(PS5)</td>\n",
              "      <td>Positive</td>\n",
              "      <td>Good on Sony. As much as I want to see the new...</td>\n",
              "    </tr>\n",
              "    <tr>\n",
              "      <th>997</th>\n",
              "      <td>2652</td>\n",
              "      <td>Borderlands</td>\n",
              "      <td>Positive</td>\n",
              "      <td>Today sucked so itâs time to drink wine n pl...</td>\n",
              "    </tr>\n",
              "    <tr>\n",
              "      <th>998</th>\n",
              "      <td>8069</td>\n",
              "      <td>Microsoft</td>\n",
              "      <td>Positive</td>\n",
              "      <td>Bought a fraction of Microsoft today. Small wins.</td>\n",
              "    </tr>\n",
              "    <tr>\n",
              "      <th>999</th>\n",
              "      <td>6960</td>\n",
              "      <td>johnson&amp;johnson</td>\n",
              "      <td>Neutral</td>\n",
              "      <td>Johnson &amp; Johnson to stop selling talc baby po...</td>\n",
              "    </tr>\n",
              "  </tbody>\n",
              "</table>\n",
              "<p>828 rows × 4 columns</p>\n",
              "</div>\n",
              "      <button class=\"colab-df-convert\" onclick=\"convertToInteractive('df-93d629ca-d1f2-4246-92b9-e51ec7fe7399')\"\n",
              "              title=\"Convert this dataframe to an interactive table.\"\n",
              "              style=\"display:none;\">\n",
              "        \n",
              "  <svg xmlns=\"http://www.w3.org/2000/svg\" height=\"24px\"viewBox=\"0 0 24 24\"\n",
              "       width=\"24px\">\n",
              "    <path d=\"M0 0h24v24H0V0z\" fill=\"none\"/>\n",
              "    <path d=\"M18.56 5.44l.94 2.06.94-2.06 2.06-.94-2.06-.94-.94-2.06-.94 2.06-2.06.94zm-11 1L8.5 8.5l.94-2.06 2.06-.94-2.06-.94L8.5 2.5l-.94 2.06-2.06.94zm10 10l.94 2.06.94-2.06 2.06-.94-2.06-.94-.94-2.06-.94 2.06-2.06.94z\"/><path d=\"M17.41 7.96l-1.37-1.37c-.4-.4-.92-.59-1.43-.59-.52 0-1.04.2-1.43.59L10.3 9.45l-7.72 7.72c-.78.78-.78 2.05 0 2.83L4 21.41c.39.39.9.59 1.41.59.51 0 1.02-.2 1.41-.59l7.78-7.78 2.81-2.81c.8-.78.8-2.07 0-2.86zM5.41 20L4 18.59l7.72-7.72 1.47 1.35L5.41 20z\"/>\n",
              "  </svg>\n",
              "      </button>\n",
              "      \n",
              "  <style>\n",
              "    .colab-df-container {\n",
              "      display:flex;\n",
              "      flex-wrap:wrap;\n",
              "      gap: 12px;\n",
              "    }\n",
              "\n",
              "    .colab-df-convert {\n",
              "      background-color: #E8F0FE;\n",
              "      border: none;\n",
              "      border-radius: 50%;\n",
              "      cursor: pointer;\n",
              "      display: none;\n",
              "      fill: #1967D2;\n",
              "      height: 32px;\n",
              "      padding: 0 0 0 0;\n",
              "      width: 32px;\n",
              "    }\n",
              "\n",
              "    .colab-df-convert:hover {\n",
              "      background-color: #E2EBFA;\n",
              "      box-shadow: 0px 1px 2px rgba(60, 64, 67, 0.3), 0px 1px 3px 1px rgba(60, 64, 67, 0.15);\n",
              "      fill: #174EA6;\n",
              "    }\n",
              "\n",
              "    [theme=dark] .colab-df-convert {\n",
              "      background-color: #3B4455;\n",
              "      fill: #D2E3FC;\n",
              "    }\n",
              "\n",
              "    [theme=dark] .colab-df-convert:hover {\n",
              "      background-color: #434B5C;\n",
              "      box-shadow: 0px 1px 3px 1px rgba(0, 0, 0, 0.15);\n",
              "      filter: drop-shadow(0px 1px 2px rgba(0, 0, 0, 0.3));\n",
              "      fill: #FFFFFF;\n",
              "    }\n",
              "  </style>\n",
              "\n",
              "      <script>\n",
              "        const buttonEl =\n",
              "          document.querySelector('#df-93d629ca-d1f2-4246-92b9-e51ec7fe7399 button.colab-df-convert');\n",
              "        buttonEl.style.display =\n",
              "          google.colab.kernel.accessAllowed ? 'block' : 'none';\n",
              "\n",
              "        async function convertToInteractive(key) {\n",
              "          const element = document.querySelector('#df-93d629ca-d1f2-4246-92b9-e51ec7fe7399');\n",
              "          const dataTable =\n",
              "            await google.colab.kernel.invokeFunction('convertToInteractive',\n",
              "                                                     [key], {});\n",
              "          if (!dataTable) return;\n",
              "\n",
              "          const docLinkHtml = 'Like what you see? Visit the ' +\n",
              "            '<a target=\"_blank\" href=https://colab.research.google.com/notebooks/data_table.ipynb>data table notebook</a>'\n",
              "            + ' to learn more about interactive tables.';\n",
              "          element.innerHTML = '';\n",
              "          dataTable['output_type'] = 'display_data';\n",
              "          await google.colab.output.renderOutput(dataTable, element);\n",
              "          const docLink = document.createElement('div');\n",
              "          docLink.innerHTML = docLinkHtml;\n",
              "          element.appendChild(docLink);\n",
              "        }\n",
              "      </script>\n",
              "    </div>\n",
              "  </div>\n",
              "  "
            ]
          },
          "metadata": {},
          "execution_count": 189
        }
      ]
    },
    {
      "cell_type": "code",
      "source": [
        "df[\"target\"].value_counts()"
      ],
      "metadata": {
        "id": "sWjQnlr2Xfeh",
        "colab": {
          "base_uri": "https://localhost:8080/"
        },
        "outputId": "f9221e93-9be2-417c-b6e4-522f12489607"
      },
      "execution_count": null,
      "outputs": [
        {
          "output_type": "execute_result",
          "data": {
            "text/plain": [
              "Neutral     285\n",
              "Positive    277\n",
              "Negative    266\n",
              "Name: target, dtype: int64"
            ]
          },
          "metadata": {},
          "execution_count": 190
        }
      ]
    },
    {
      "cell_type": "code",
      "source": [
        "#resetting the index after the dropping part\n",
        "df.reset_index(drop=True,inplace=True)\n",
        "df"
      ],
      "metadata": {
        "colab": {
          "base_uri": "https://localhost:8080/",
          "height": 423
        },
        "id": "b8L2YrY4YHO7",
        "outputId": "090b3e00-a64d-43ff-f3f4-025f6f73d872"
      },
      "execution_count": null,
      "outputs": [
        {
          "output_type": "execute_result",
          "data": {
            "text/plain": [
              "       id           location    target  \\\n",
              "0     352             Amazon   Neutral   \n",
              "1    8312          Microsoft  Negative   \n",
              "2    4371              CS-GO  Negative   \n",
              "3    4433             Google   Neutral   \n",
              "4    6273               FIFA  Negative   \n",
              "..    ...                ...       ...   \n",
              "823   314             Amazon  Negative   \n",
              "824  9701  PlayStation5(PS5)  Positive   \n",
              "825  2652        Borderlands  Positive   \n",
              "826  8069          Microsoft  Positive   \n",
              "827  6960    johnson&johnson   Neutral   \n",
              "\n",
              "                                                  text  \n",
              "0    BBC News - Amazon boss Jeff Bezos rejects clai...  \n",
              "1    @Microsoft Why do I pay for WORD when it funct...  \n",
              "2    CSGO matchmaking is so full of closet hacking,...  \n",
              "3    Now the President is slapping Americans in the...  \n",
              "4    Hi @EAHelp Iâve had Madeleine McCann in my c...  \n",
              "..                                                 ...  \n",
              "823  Please explain how this is possible! How can t...  \n",
              "824  Good on Sony. As much as I want to see the new...  \n",
              "825  Today sucked so itâs time to drink wine n pl...  \n",
              "826  Bought a fraction of Microsoft today. Small wins.  \n",
              "827  Johnson & Johnson to stop selling talc baby po...  \n",
              "\n",
              "[828 rows x 4 columns]"
            ],
            "text/html": [
              "\n",
              "  <div id=\"df-842eaef1-9af1-435e-9136-ed2ea307bf36\">\n",
              "    <div class=\"colab-df-container\">\n",
              "      <div>\n",
              "<style scoped>\n",
              "    .dataframe tbody tr th:only-of-type {\n",
              "        vertical-align: middle;\n",
              "    }\n",
              "\n",
              "    .dataframe tbody tr th {\n",
              "        vertical-align: top;\n",
              "    }\n",
              "\n",
              "    .dataframe thead th {\n",
              "        text-align: right;\n",
              "    }\n",
              "</style>\n",
              "<table border=\"1\" class=\"dataframe\">\n",
              "  <thead>\n",
              "    <tr style=\"text-align: right;\">\n",
              "      <th></th>\n",
              "      <th>id</th>\n",
              "      <th>location</th>\n",
              "      <th>target</th>\n",
              "      <th>text</th>\n",
              "    </tr>\n",
              "  </thead>\n",
              "  <tbody>\n",
              "    <tr>\n",
              "      <th>0</th>\n",
              "      <td>352</td>\n",
              "      <td>Amazon</td>\n",
              "      <td>Neutral</td>\n",
              "      <td>BBC News - Amazon boss Jeff Bezos rejects clai...</td>\n",
              "    </tr>\n",
              "    <tr>\n",
              "      <th>1</th>\n",
              "      <td>8312</td>\n",
              "      <td>Microsoft</td>\n",
              "      <td>Negative</td>\n",
              "      <td>@Microsoft Why do I pay for WORD when it funct...</td>\n",
              "    </tr>\n",
              "    <tr>\n",
              "      <th>2</th>\n",
              "      <td>4371</td>\n",
              "      <td>CS-GO</td>\n",
              "      <td>Negative</td>\n",
              "      <td>CSGO matchmaking is so full of closet hacking,...</td>\n",
              "    </tr>\n",
              "    <tr>\n",
              "      <th>3</th>\n",
              "      <td>4433</td>\n",
              "      <td>Google</td>\n",
              "      <td>Neutral</td>\n",
              "      <td>Now the President is slapping Americans in the...</td>\n",
              "    </tr>\n",
              "    <tr>\n",
              "      <th>4</th>\n",
              "      <td>6273</td>\n",
              "      <td>FIFA</td>\n",
              "      <td>Negative</td>\n",
              "      <td>Hi @EAHelp Iâve had Madeleine McCann in my c...</td>\n",
              "    </tr>\n",
              "    <tr>\n",
              "      <th>...</th>\n",
              "      <td>...</td>\n",
              "      <td>...</td>\n",
              "      <td>...</td>\n",
              "      <td>...</td>\n",
              "    </tr>\n",
              "    <tr>\n",
              "      <th>823</th>\n",
              "      <td>314</td>\n",
              "      <td>Amazon</td>\n",
              "      <td>Negative</td>\n",
              "      <td>Please explain how this is possible! How can t...</td>\n",
              "    </tr>\n",
              "    <tr>\n",
              "      <th>824</th>\n",
              "      <td>9701</td>\n",
              "      <td>PlayStation5(PS5)</td>\n",
              "      <td>Positive</td>\n",
              "      <td>Good on Sony. As much as I want to see the new...</td>\n",
              "    </tr>\n",
              "    <tr>\n",
              "      <th>825</th>\n",
              "      <td>2652</td>\n",
              "      <td>Borderlands</td>\n",
              "      <td>Positive</td>\n",
              "      <td>Today sucked so itâs time to drink wine n pl...</td>\n",
              "    </tr>\n",
              "    <tr>\n",
              "      <th>826</th>\n",
              "      <td>8069</td>\n",
              "      <td>Microsoft</td>\n",
              "      <td>Positive</td>\n",
              "      <td>Bought a fraction of Microsoft today. Small wins.</td>\n",
              "    </tr>\n",
              "    <tr>\n",
              "      <th>827</th>\n",
              "      <td>6960</td>\n",
              "      <td>johnson&amp;johnson</td>\n",
              "      <td>Neutral</td>\n",
              "      <td>Johnson &amp; Johnson to stop selling talc baby po...</td>\n",
              "    </tr>\n",
              "  </tbody>\n",
              "</table>\n",
              "<p>828 rows × 4 columns</p>\n",
              "</div>\n",
              "      <button class=\"colab-df-convert\" onclick=\"convertToInteractive('df-842eaef1-9af1-435e-9136-ed2ea307bf36')\"\n",
              "              title=\"Convert this dataframe to an interactive table.\"\n",
              "              style=\"display:none;\">\n",
              "        \n",
              "  <svg xmlns=\"http://www.w3.org/2000/svg\" height=\"24px\"viewBox=\"0 0 24 24\"\n",
              "       width=\"24px\">\n",
              "    <path d=\"M0 0h24v24H0V0z\" fill=\"none\"/>\n",
              "    <path d=\"M18.56 5.44l.94 2.06.94-2.06 2.06-.94-2.06-.94-.94-2.06-.94 2.06-2.06.94zm-11 1L8.5 8.5l.94-2.06 2.06-.94-2.06-.94L8.5 2.5l-.94 2.06-2.06.94zm10 10l.94 2.06.94-2.06 2.06-.94-2.06-.94-.94-2.06-.94 2.06-2.06.94z\"/><path d=\"M17.41 7.96l-1.37-1.37c-.4-.4-.92-.59-1.43-.59-.52 0-1.04.2-1.43.59L10.3 9.45l-7.72 7.72c-.78.78-.78 2.05 0 2.83L4 21.41c.39.39.9.59 1.41.59.51 0 1.02-.2 1.41-.59l7.78-7.78 2.81-2.81c.8-.78.8-2.07 0-2.86zM5.41 20L4 18.59l7.72-7.72 1.47 1.35L5.41 20z\"/>\n",
              "  </svg>\n",
              "      </button>\n",
              "      \n",
              "  <style>\n",
              "    .colab-df-container {\n",
              "      display:flex;\n",
              "      flex-wrap:wrap;\n",
              "      gap: 12px;\n",
              "    }\n",
              "\n",
              "    .colab-df-convert {\n",
              "      background-color: #E8F0FE;\n",
              "      border: none;\n",
              "      border-radius: 50%;\n",
              "      cursor: pointer;\n",
              "      display: none;\n",
              "      fill: #1967D2;\n",
              "      height: 32px;\n",
              "      padding: 0 0 0 0;\n",
              "      width: 32px;\n",
              "    }\n",
              "\n",
              "    .colab-df-convert:hover {\n",
              "      background-color: #E2EBFA;\n",
              "      box-shadow: 0px 1px 2px rgba(60, 64, 67, 0.3), 0px 1px 3px 1px rgba(60, 64, 67, 0.15);\n",
              "      fill: #174EA6;\n",
              "    }\n",
              "\n",
              "    [theme=dark] .colab-df-convert {\n",
              "      background-color: #3B4455;\n",
              "      fill: #D2E3FC;\n",
              "    }\n",
              "\n",
              "    [theme=dark] .colab-df-convert:hover {\n",
              "      background-color: #434B5C;\n",
              "      box-shadow: 0px 1px 3px 1px rgba(0, 0, 0, 0.15);\n",
              "      filter: drop-shadow(0px 1px 2px rgba(0, 0, 0, 0.3));\n",
              "      fill: #FFFFFF;\n",
              "    }\n",
              "  </style>\n",
              "\n",
              "      <script>\n",
              "        const buttonEl =\n",
              "          document.querySelector('#df-842eaef1-9af1-435e-9136-ed2ea307bf36 button.colab-df-convert');\n",
              "        buttonEl.style.display =\n",
              "          google.colab.kernel.accessAllowed ? 'block' : 'none';\n",
              "\n",
              "        async function convertToInteractive(key) {\n",
              "          const element = document.querySelector('#df-842eaef1-9af1-435e-9136-ed2ea307bf36');\n",
              "          const dataTable =\n",
              "            await google.colab.kernel.invokeFunction('convertToInteractive',\n",
              "                                                     [key], {});\n",
              "          if (!dataTable) return;\n",
              "\n",
              "          const docLinkHtml = 'Like what you see? Visit the ' +\n",
              "            '<a target=\"_blank\" href=https://colab.research.google.com/notebooks/data_table.ipynb>data table notebook</a>'\n",
              "            + ' to learn more about interactive tables.';\n",
              "          element.innerHTML = '';\n",
              "          dataTable['output_type'] = 'display_data';\n",
              "          await google.colab.output.renderOutput(dataTable, element);\n",
              "          const docLink = document.createElement('div');\n",
              "          docLink.innerHTML = docLinkHtml;\n",
              "          element.appendChild(docLink);\n",
              "        }\n",
              "      </script>\n",
              "    </div>\n",
              "  </div>\n",
              "  "
            ]
          },
          "metadata": {},
          "execution_count": 191
        }
      ]
    },
    {
      "cell_type": "code",
      "source": [
        "#dropping id , and location ,here only needed the text and target\n",
        "df.drop([\"id\",\"location\"],axis=1,inplace=True)\n",
        "df"
      ],
      "metadata": {
        "colab": {
          "base_uri": "https://localhost:8080/",
          "height": 423
        },
        "id": "ACeQ455MYmYf",
        "outputId": "5befc066-7c66-4eac-a470-912fd524ad09"
      },
      "execution_count": null,
      "outputs": [
        {
          "output_type": "execute_result",
          "data": {
            "text/plain": [
              "       target                                               text\n",
              "0     Neutral  BBC News - Amazon boss Jeff Bezos rejects clai...\n",
              "1    Negative  @Microsoft Why do I pay for WORD when it funct...\n",
              "2    Negative  CSGO matchmaking is so full of closet hacking,...\n",
              "3     Neutral  Now the President is slapping Americans in the...\n",
              "4    Negative  Hi @EAHelp Iâve had Madeleine McCann in my c...\n",
              "..        ...                                                ...\n",
              "823  Negative  Please explain how this is possible! How can t...\n",
              "824  Positive  Good on Sony. As much as I want to see the new...\n",
              "825  Positive  Today sucked so itâs time to drink wine n pl...\n",
              "826  Positive  Bought a fraction of Microsoft today. Small wins.\n",
              "827   Neutral  Johnson & Johnson to stop selling talc baby po...\n",
              "\n",
              "[828 rows x 2 columns]"
            ],
            "text/html": [
              "\n",
              "  <div id=\"df-0810d866-7449-4873-8fef-0adcca3965fa\">\n",
              "    <div class=\"colab-df-container\">\n",
              "      <div>\n",
              "<style scoped>\n",
              "    .dataframe tbody tr th:only-of-type {\n",
              "        vertical-align: middle;\n",
              "    }\n",
              "\n",
              "    .dataframe tbody tr th {\n",
              "        vertical-align: top;\n",
              "    }\n",
              "\n",
              "    .dataframe thead th {\n",
              "        text-align: right;\n",
              "    }\n",
              "</style>\n",
              "<table border=\"1\" class=\"dataframe\">\n",
              "  <thead>\n",
              "    <tr style=\"text-align: right;\">\n",
              "      <th></th>\n",
              "      <th>target</th>\n",
              "      <th>text</th>\n",
              "    </tr>\n",
              "  </thead>\n",
              "  <tbody>\n",
              "    <tr>\n",
              "      <th>0</th>\n",
              "      <td>Neutral</td>\n",
              "      <td>BBC News - Amazon boss Jeff Bezos rejects clai...</td>\n",
              "    </tr>\n",
              "    <tr>\n",
              "      <th>1</th>\n",
              "      <td>Negative</td>\n",
              "      <td>@Microsoft Why do I pay for WORD when it funct...</td>\n",
              "    </tr>\n",
              "    <tr>\n",
              "      <th>2</th>\n",
              "      <td>Negative</td>\n",
              "      <td>CSGO matchmaking is so full of closet hacking,...</td>\n",
              "    </tr>\n",
              "    <tr>\n",
              "      <th>3</th>\n",
              "      <td>Neutral</td>\n",
              "      <td>Now the President is slapping Americans in the...</td>\n",
              "    </tr>\n",
              "    <tr>\n",
              "      <th>4</th>\n",
              "      <td>Negative</td>\n",
              "      <td>Hi @EAHelp Iâve had Madeleine McCann in my c...</td>\n",
              "    </tr>\n",
              "    <tr>\n",
              "      <th>...</th>\n",
              "      <td>...</td>\n",
              "      <td>...</td>\n",
              "    </tr>\n",
              "    <tr>\n",
              "      <th>823</th>\n",
              "      <td>Negative</td>\n",
              "      <td>Please explain how this is possible! How can t...</td>\n",
              "    </tr>\n",
              "    <tr>\n",
              "      <th>824</th>\n",
              "      <td>Positive</td>\n",
              "      <td>Good on Sony. As much as I want to see the new...</td>\n",
              "    </tr>\n",
              "    <tr>\n",
              "      <th>825</th>\n",
              "      <td>Positive</td>\n",
              "      <td>Today sucked so itâs time to drink wine n pl...</td>\n",
              "    </tr>\n",
              "    <tr>\n",
              "      <th>826</th>\n",
              "      <td>Positive</td>\n",
              "      <td>Bought a fraction of Microsoft today. Small wins.</td>\n",
              "    </tr>\n",
              "    <tr>\n",
              "      <th>827</th>\n",
              "      <td>Neutral</td>\n",
              "      <td>Johnson &amp; Johnson to stop selling talc baby po...</td>\n",
              "    </tr>\n",
              "  </tbody>\n",
              "</table>\n",
              "<p>828 rows × 2 columns</p>\n",
              "</div>\n",
              "      <button class=\"colab-df-convert\" onclick=\"convertToInteractive('df-0810d866-7449-4873-8fef-0adcca3965fa')\"\n",
              "              title=\"Convert this dataframe to an interactive table.\"\n",
              "              style=\"display:none;\">\n",
              "        \n",
              "  <svg xmlns=\"http://www.w3.org/2000/svg\" height=\"24px\"viewBox=\"0 0 24 24\"\n",
              "       width=\"24px\">\n",
              "    <path d=\"M0 0h24v24H0V0z\" fill=\"none\"/>\n",
              "    <path d=\"M18.56 5.44l.94 2.06.94-2.06 2.06-.94-2.06-.94-.94-2.06-.94 2.06-2.06.94zm-11 1L8.5 8.5l.94-2.06 2.06-.94-2.06-.94L8.5 2.5l-.94 2.06-2.06.94zm10 10l.94 2.06.94-2.06 2.06-.94-2.06-.94-.94-2.06-.94 2.06-2.06.94z\"/><path d=\"M17.41 7.96l-1.37-1.37c-.4-.4-.92-.59-1.43-.59-.52 0-1.04.2-1.43.59L10.3 9.45l-7.72 7.72c-.78.78-.78 2.05 0 2.83L4 21.41c.39.39.9.59 1.41.59.51 0 1.02-.2 1.41-.59l7.78-7.78 2.81-2.81c.8-.78.8-2.07 0-2.86zM5.41 20L4 18.59l7.72-7.72 1.47 1.35L5.41 20z\"/>\n",
              "  </svg>\n",
              "      </button>\n",
              "      \n",
              "  <style>\n",
              "    .colab-df-container {\n",
              "      display:flex;\n",
              "      flex-wrap:wrap;\n",
              "      gap: 12px;\n",
              "    }\n",
              "\n",
              "    .colab-df-convert {\n",
              "      background-color: #E8F0FE;\n",
              "      border: none;\n",
              "      border-radius: 50%;\n",
              "      cursor: pointer;\n",
              "      display: none;\n",
              "      fill: #1967D2;\n",
              "      height: 32px;\n",
              "      padding: 0 0 0 0;\n",
              "      width: 32px;\n",
              "    }\n",
              "\n",
              "    .colab-df-convert:hover {\n",
              "      background-color: #E2EBFA;\n",
              "      box-shadow: 0px 1px 2px rgba(60, 64, 67, 0.3), 0px 1px 3px 1px rgba(60, 64, 67, 0.15);\n",
              "      fill: #174EA6;\n",
              "    }\n",
              "\n",
              "    [theme=dark] .colab-df-convert {\n",
              "      background-color: #3B4455;\n",
              "      fill: #D2E3FC;\n",
              "    }\n",
              "\n",
              "    [theme=dark] .colab-df-convert:hover {\n",
              "      background-color: #434B5C;\n",
              "      box-shadow: 0px 1px 3px 1px rgba(0, 0, 0, 0.15);\n",
              "      filter: drop-shadow(0px 1px 2px rgba(0, 0, 0, 0.3));\n",
              "      fill: #FFFFFF;\n",
              "    }\n",
              "  </style>\n",
              "\n",
              "      <script>\n",
              "        const buttonEl =\n",
              "          document.querySelector('#df-0810d866-7449-4873-8fef-0adcca3965fa button.colab-df-convert');\n",
              "        buttonEl.style.display =\n",
              "          google.colab.kernel.accessAllowed ? 'block' : 'none';\n",
              "\n",
              "        async function convertToInteractive(key) {\n",
              "          const element = document.querySelector('#df-0810d866-7449-4873-8fef-0adcca3965fa');\n",
              "          const dataTable =\n",
              "            await google.colab.kernel.invokeFunction('convertToInteractive',\n",
              "                                                     [key], {});\n",
              "          if (!dataTable) return;\n",
              "\n",
              "          const docLinkHtml = 'Like what you see? Visit the ' +\n",
              "            '<a target=\"_blank\" href=https://colab.research.google.com/notebooks/data_table.ipynb>data table notebook</a>'\n",
              "            + ' to learn more about interactive tables.';\n",
              "          element.innerHTML = '';\n",
              "          dataTable['output_type'] = 'display_data';\n",
              "          await google.colab.output.renderOutput(dataTable, element);\n",
              "          const docLink = document.createElement('div');\n",
              "          docLink.innerHTML = docLinkHtml;\n",
              "          element.appendChild(docLink);\n",
              "        }\n",
              "      </script>\n",
              "    </div>\n",
              "  </div>\n",
              "  "
            ]
          },
          "metadata": {},
          "execution_count": 192
        }
      ]
    },
    {
      "cell_type": "code",
      "source": [
        "df[\"target\"]=df[\"target\"].map({\"Positive\":1,\"Negative\":-1,\"Neutral\":0})\n",
        "df"
      ],
      "metadata": {
        "colab": {
          "base_uri": "https://localhost:8080/",
          "height": 423
        },
        "id": "BxSNZxnnZNxv",
        "outputId": "8806aff3-ed32-4a4a-dc16-bb6a7fbbe0db"
      },
      "execution_count": null,
      "outputs": [
        {
          "output_type": "execute_result",
          "data": {
            "text/plain": [
              "     target                                               text\n",
              "0         0  BBC News - Amazon boss Jeff Bezos rejects clai...\n",
              "1        -1  @Microsoft Why do I pay for WORD when it funct...\n",
              "2        -1  CSGO matchmaking is so full of closet hacking,...\n",
              "3         0  Now the President is slapping Americans in the...\n",
              "4        -1  Hi @EAHelp Iâve had Madeleine McCann in my c...\n",
              "..      ...                                                ...\n",
              "823      -1  Please explain how this is possible! How can t...\n",
              "824       1  Good on Sony. As much as I want to see the new...\n",
              "825       1  Today sucked so itâs time to drink wine n pl...\n",
              "826       1  Bought a fraction of Microsoft today. Small wins.\n",
              "827       0  Johnson & Johnson to stop selling talc baby po...\n",
              "\n",
              "[828 rows x 2 columns]"
            ],
            "text/html": [
              "\n",
              "  <div id=\"df-ec925b50-acc7-4789-9624-773e09462b28\">\n",
              "    <div class=\"colab-df-container\">\n",
              "      <div>\n",
              "<style scoped>\n",
              "    .dataframe tbody tr th:only-of-type {\n",
              "        vertical-align: middle;\n",
              "    }\n",
              "\n",
              "    .dataframe tbody tr th {\n",
              "        vertical-align: top;\n",
              "    }\n",
              "\n",
              "    .dataframe thead th {\n",
              "        text-align: right;\n",
              "    }\n",
              "</style>\n",
              "<table border=\"1\" class=\"dataframe\">\n",
              "  <thead>\n",
              "    <tr style=\"text-align: right;\">\n",
              "      <th></th>\n",
              "      <th>target</th>\n",
              "      <th>text</th>\n",
              "    </tr>\n",
              "  </thead>\n",
              "  <tbody>\n",
              "    <tr>\n",
              "      <th>0</th>\n",
              "      <td>0</td>\n",
              "      <td>BBC News - Amazon boss Jeff Bezos rejects clai...</td>\n",
              "    </tr>\n",
              "    <tr>\n",
              "      <th>1</th>\n",
              "      <td>-1</td>\n",
              "      <td>@Microsoft Why do I pay for WORD when it funct...</td>\n",
              "    </tr>\n",
              "    <tr>\n",
              "      <th>2</th>\n",
              "      <td>-1</td>\n",
              "      <td>CSGO matchmaking is so full of closet hacking,...</td>\n",
              "    </tr>\n",
              "    <tr>\n",
              "      <th>3</th>\n",
              "      <td>0</td>\n",
              "      <td>Now the President is slapping Americans in the...</td>\n",
              "    </tr>\n",
              "    <tr>\n",
              "      <th>4</th>\n",
              "      <td>-1</td>\n",
              "      <td>Hi @EAHelp Iâve had Madeleine McCann in my c...</td>\n",
              "    </tr>\n",
              "    <tr>\n",
              "      <th>...</th>\n",
              "      <td>...</td>\n",
              "      <td>...</td>\n",
              "    </tr>\n",
              "    <tr>\n",
              "      <th>823</th>\n",
              "      <td>-1</td>\n",
              "      <td>Please explain how this is possible! How can t...</td>\n",
              "    </tr>\n",
              "    <tr>\n",
              "      <th>824</th>\n",
              "      <td>1</td>\n",
              "      <td>Good on Sony. As much as I want to see the new...</td>\n",
              "    </tr>\n",
              "    <tr>\n",
              "      <th>825</th>\n",
              "      <td>1</td>\n",
              "      <td>Today sucked so itâs time to drink wine n pl...</td>\n",
              "    </tr>\n",
              "    <tr>\n",
              "      <th>826</th>\n",
              "      <td>1</td>\n",
              "      <td>Bought a fraction of Microsoft today. Small wins.</td>\n",
              "    </tr>\n",
              "    <tr>\n",
              "      <th>827</th>\n",
              "      <td>0</td>\n",
              "      <td>Johnson &amp; Johnson to stop selling talc baby po...</td>\n",
              "    </tr>\n",
              "  </tbody>\n",
              "</table>\n",
              "<p>828 rows × 2 columns</p>\n",
              "</div>\n",
              "      <button class=\"colab-df-convert\" onclick=\"convertToInteractive('df-ec925b50-acc7-4789-9624-773e09462b28')\"\n",
              "              title=\"Convert this dataframe to an interactive table.\"\n",
              "              style=\"display:none;\">\n",
              "        \n",
              "  <svg xmlns=\"http://www.w3.org/2000/svg\" height=\"24px\"viewBox=\"0 0 24 24\"\n",
              "       width=\"24px\">\n",
              "    <path d=\"M0 0h24v24H0V0z\" fill=\"none\"/>\n",
              "    <path d=\"M18.56 5.44l.94 2.06.94-2.06 2.06-.94-2.06-.94-.94-2.06-.94 2.06-2.06.94zm-11 1L8.5 8.5l.94-2.06 2.06-.94-2.06-.94L8.5 2.5l-.94 2.06-2.06.94zm10 10l.94 2.06.94-2.06 2.06-.94-2.06-.94-.94-2.06-.94 2.06-2.06.94z\"/><path d=\"M17.41 7.96l-1.37-1.37c-.4-.4-.92-.59-1.43-.59-.52 0-1.04.2-1.43.59L10.3 9.45l-7.72 7.72c-.78.78-.78 2.05 0 2.83L4 21.41c.39.39.9.59 1.41.59.51 0 1.02-.2 1.41-.59l7.78-7.78 2.81-2.81c.8-.78.8-2.07 0-2.86zM5.41 20L4 18.59l7.72-7.72 1.47 1.35L5.41 20z\"/>\n",
              "  </svg>\n",
              "      </button>\n",
              "      \n",
              "  <style>\n",
              "    .colab-df-container {\n",
              "      display:flex;\n",
              "      flex-wrap:wrap;\n",
              "      gap: 12px;\n",
              "    }\n",
              "\n",
              "    .colab-df-convert {\n",
              "      background-color: #E8F0FE;\n",
              "      border: none;\n",
              "      border-radius: 50%;\n",
              "      cursor: pointer;\n",
              "      display: none;\n",
              "      fill: #1967D2;\n",
              "      height: 32px;\n",
              "      padding: 0 0 0 0;\n",
              "      width: 32px;\n",
              "    }\n",
              "\n",
              "    .colab-df-convert:hover {\n",
              "      background-color: #E2EBFA;\n",
              "      box-shadow: 0px 1px 2px rgba(60, 64, 67, 0.3), 0px 1px 3px 1px rgba(60, 64, 67, 0.15);\n",
              "      fill: #174EA6;\n",
              "    }\n",
              "\n",
              "    [theme=dark] .colab-df-convert {\n",
              "      background-color: #3B4455;\n",
              "      fill: #D2E3FC;\n",
              "    }\n",
              "\n",
              "    [theme=dark] .colab-df-convert:hover {\n",
              "      background-color: #434B5C;\n",
              "      box-shadow: 0px 1px 3px 1px rgba(0, 0, 0, 0.15);\n",
              "      filter: drop-shadow(0px 1px 2px rgba(0, 0, 0, 0.3));\n",
              "      fill: #FFFFFF;\n",
              "    }\n",
              "  </style>\n",
              "\n",
              "      <script>\n",
              "        const buttonEl =\n",
              "          document.querySelector('#df-ec925b50-acc7-4789-9624-773e09462b28 button.colab-df-convert');\n",
              "        buttonEl.style.display =\n",
              "          google.colab.kernel.accessAllowed ? 'block' : 'none';\n",
              "\n",
              "        async function convertToInteractive(key) {\n",
              "          const element = document.querySelector('#df-ec925b50-acc7-4789-9624-773e09462b28');\n",
              "          const dataTable =\n",
              "            await google.colab.kernel.invokeFunction('convertToInteractive',\n",
              "                                                     [key], {});\n",
              "          if (!dataTable) return;\n",
              "\n",
              "          const docLinkHtml = 'Like what you see? Visit the ' +\n",
              "            '<a target=\"_blank\" href=https://colab.research.google.com/notebooks/data_table.ipynb>data table notebook</a>'\n",
              "            + ' to learn more about interactive tables.';\n",
              "          element.innerHTML = '';\n",
              "          dataTable['output_type'] = 'display_data';\n",
              "          await google.colab.output.renderOutput(dataTable, element);\n",
              "          const docLink = document.createElement('div');\n",
              "          docLink.innerHTML = docLinkHtml;\n",
              "          element.appendChild(docLink);\n",
              "        }\n",
              "      </script>\n",
              "    </div>\n",
              "  </div>\n",
              "  "
            ]
          },
          "metadata": {},
          "execution_count": 193
        }
      ]
    },
    {
      "cell_type": "code",
      "source": [
        "#implimenting NLP\n",
        "import nltk\n",
        "nltk.download(\"stopwords\")\n",
        "nltk.download(\"wordnet\")\n",
        "nltk.download(\"punkt\")\n",
        "nltk.download(\"omw-1.4\")"
      ],
      "metadata": {
        "colab": {
          "base_uri": "https://localhost:8080/"
        },
        "id": "MCdmWHywbZRm",
        "outputId": "f3332c0e-dadb-4bd2-d6b2-4cf44b428112"
      },
      "execution_count": null,
      "outputs": [
        {
          "output_type": "stream",
          "name": "stderr",
          "text": [
            "[nltk_data] Downloading package stopwords to /root/nltk_data...\n",
            "[nltk_data]   Package stopwords is already up-to-date!\n",
            "[nltk_data] Downloading package wordnet to /root/nltk_data...\n",
            "[nltk_data]   Package wordnet is already up-to-date!\n",
            "[nltk_data] Downloading package punkt to /root/nltk_data...\n",
            "[nltk_data]   Package punkt is already up-to-date!\n",
            "[nltk_data] Downloading package omw-1.4 to /root/nltk_data...\n",
            "[nltk_data]   Package omw-1.4 is already up-to-date!\n"
          ]
        },
        {
          "output_type": "execute_result",
          "data": {
            "text/plain": [
              "True"
            ]
          },
          "metadata": {},
          "execution_count": 194
        }
      ]
    },
    {
      "cell_type": "code",
      "source": [
        "tweets=df.text\n",
        "tweets"
      ],
      "metadata": {
        "colab": {
          "base_uri": "https://localhost:8080/"
        },
        "id": "Y8rt3VlldJOj",
        "outputId": "e33b304f-b868-46c5-ce49-3ae77d870dd1"
      },
      "execution_count": null,
      "outputs": [
        {
          "output_type": "execute_result",
          "data": {
            "text/plain": [
              "0      BBC News - Amazon boss Jeff Bezos rejects clai...\n",
              "1      @Microsoft Why do I pay for WORD when it funct...\n",
              "2      CSGO matchmaking is so full of closet hacking,...\n",
              "3      Now the President is slapping Americans in the...\n",
              "4      Hi @EAHelp Iâve had Madeleine McCann in my c...\n",
              "                             ...                        \n",
              "823    Please explain how this is possible! How can t...\n",
              "824    Good on Sony. As much as I want to see the new...\n",
              "825    Today sucked so itâs time to drink wine n pl...\n",
              "826    Bought a fraction of Microsoft today. Small wins.\n",
              "827    Johnson & Johnson to stop selling talc baby po...\n",
              "Name: text, Length: 828, dtype: object"
            ]
          },
          "metadata": {},
          "execution_count": 195
        }
      ]
    },
    {
      "cell_type": "code",
      "source": [
        "#tokenization\n",
        "from nltk import TweetTokenizer\n",
        "tk=TweetTokenizer()\n",
        "tweets=tweets.apply(lambda x:tk.tokenize(x)).apply(lambda x:\" \".join(x))\n",
        "tweets"
      ],
      "metadata": {
        "colab": {
          "base_uri": "https://localhost:8080/"
        },
        "id": "HfM7ek3_dVLf",
        "outputId": "f1ffa4ce-1771-4274-88e7-f196aaf2e87f"
      },
      "execution_count": null,
      "outputs": [
        {
          "output_type": "execute_result",
          "data": {
            "text/plain": [
              "0      BBC News - Amazon boss Jeff Bezos rejects clai...\n",
              "1      @Microsoft Why do I pay for WORD when it funct...\n",
              "2      CSGO matchmaking is so full of closet hacking ...\n",
              "3      Now the President is slapping Americans in the...\n",
              "4      Hi @EAHelp Iâ   ve had Madeleine McCann in m...\n",
              "                             ...                        \n",
              "823    Please explain how this is possible ! How can ...\n",
              "824    Good on Sony . As much as I want to see the ne...\n",
              "825    Today sucked so itâ   s time to drink wine n...\n",
              "826    Bought a fraction of Microsoft today . Small w...\n",
              "827    Johnson & Johnson to stop selling talc baby po...\n",
              "Name: text, Length: 828, dtype: object"
            ]
          },
          "metadata": {},
          "execution_count": 196
        }
      ]
    },
    {
      "cell_type": "code",
      "source": [
        "#Remove special character (using regular expression)\n",
        "tweets=tweets.str.replace(\"[^a-zA-Z0-9]+\",\" \")\n",
        "tweets"
      ],
      "metadata": {
        "colab": {
          "base_uri": "https://localhost:8080/"
        },
        "id": "3i3K0juGppLL",
        "outputId": "1ea089da-813c-462b-9fbd-40bc60af204e"
      },
      "execution_count": null,
      "outputs": [
        {
          "output_type": "stream",
          "name": "stderr",
          "text": [
            "<ipython-input-197-29e64d233626>:2: FutureWarning: The default value of regex will change from True to False in a future version.\n",
            "  tweets=tweets.str.replace(\"[^a-zA-Z0-9]+\",\" \")\n"
          ]
        },
        {
          "output_type": "execute_result",
          "data": {
            "text/plain": [
              "0      BBC News Amazon boss Jeff Bezos rejects claims...\n",
              "1       Microsoft Why do I pay for WORD when it funct...\n",
              "2      CSGO matchmaking is so full of closet hacking ...\n",
              "3      Now the President is slapping Americans in the...\n",
              "4      Hi EAHelp I ve had Madeleine McCann in my cell...\n",
              "                             ...                        \n",
              "823    Please explain how this is possible How can th...\n",
              "824    Good on Sony As much as I want to see the new ...\n",
              "825    Today sucked so it s time to drink wine n play...\n",
              "826     Bought a fraction of Microsoft today Small wins \n",
              "827    Johnson Johnson to stop selling talc baby powd...\n",
              "Name: text, Length: 828, dtype: object"
            ]
          },
          "metadata": {},
          "execution_count": 197
        }
      ]
    },
    {
      "cell_type": "code",
      "source": [
        "#replacing startergy \n",
        "str1=\"Wonderful @#$%peacock 1234 !!\"\n",
        "str2=re.sub(\"[^a-zA-Z0-9]\",\" \",str1)\n",
        "str2 # [0-9] [A-Z] [a-z]      # ^ it means its necessory\n",
        "#+ helps to remove the special charactor like combination of charactors (##########$$$$$$$$$$@@@@@@@@@@@@)"
      ],
      "metadata": {
        "colab": {
          "base_uri": "https://localhost:8080/",
          "height": 36
        },
        "id": "E-bdOYwirVfd",
        "outputId": "9ad9a4ec-88d1-4d43-8d2d-258096e62c80"
      },
      "execution_count": null,
      "outputs": [
        {
          "output_type": "execute_result",
          "data": {
            "text/plain": [
              "'Wonderful     peacock 1234   '"
            ],
            "application/vnd.google.colaboratory.intrinsic+json": {
              "type": "string"
            }
          },
          "metadata": {},
          "execution_count": 198
        }
      ]
    },
    {
      "cell_type": "code",
      "source": [
        "#stemming (snowball stemmer) ==> converting to smmal letters\n",
        "from nltk.stem import SnowballStemmer\n",
        "stemmer=SnowballStemmer(\"english\")\n",
        "tweets=tweets .apply(lambda x:[stemmer.stem(i.lower())for i in tk.tokenize(x)]).apply(lambda x : \" \".join(x))\n",
        "tweets"
      ],
      "metadata": {
        "colab": {
          "base_uri": "https://localhost:8080/"
        },
        "id": "KgnhcMbCrojg",
        "outputId": "d6f4d7e4-bcd0-4038-8030-63d7b84e439b"
      },
      "execution_count": null,
      "outputs": [
        {
          "output_type": "execute_result",
          "data": {
            "text/plain": [
              "0      bbc news amazon boss jeff bezo reject claim co...\n",
              "1      microsoft whi do i pay for word when it functi...\n",
              "2      csgo matchmak is so full of closet hack it s a...\n",
              "3      now the presid is slap american in the face th...\n",
              "4      hi eahelp i ve had madelein mccann in my cella...\n",
              "                             ...                        \n",
              "823    pleas explain how this is possibl how can they...\n",
              "824    good on soni as much as i want to see the new ...\n",
              "825    today suck so it s time to drink wine n play b...\n",
              "826       bought a fraction of microsoft today small win\n",
              "827    johnson johnson to stop sell talc babi powder ...\n",
              "Name: text, Length: 828, dtype: object"
            ]
          },
          "metadata": {},
          "execution_count": 199
        }
      ]
    },
    {
      "cell_type": "code",
      "source": [
        "#removing of stop words \n",
        "from nltk.corpus import stopwords\n",
        "stop=stopwords.words(\"english\")\n",
        "tweets=tweets.apply(lambda x :[i for i in tk.tokenize(x) if i not in stop]).apply(lambda x:\" \".join(x))\n",
        "tweets"
      ],
      "metadata": {
        "colab": {
          "base_uri": "https://localhost:8080/"
        },
        "id": "t21iZBn4vM15",
        "outputId": "ab6bd807-e606-4998-ef59-d87532f446f0"
      },
      "execution_count": null,
      "outputs": [
        {
          "output_type": "execute_result",
          "data": {
            "text/plain": [
              "0      bbc news amazon boss jeff bezo reject claim co...\n",
              "1      microsoft whi pay word function poor samsungus...\n",
              "2           csgo matchmak full closet hack truli aw game\n",
              "3      presid slap american face realli commit unlaw ...\n",
              "4      hi eahelp madelein mccann cellar past 13 year ...\n",
              "                             ...                        \n",
              "823    pleas explain possibl let compani overcharg sc...\n",
              "824    good soni much want see new ps5 go right much ...\n",
              "825    today suck time drink wine n play borderland s...\n",
              "826            bought fraction microsoft today small win\n",
              "827    johnson johnson stop sell talc babi powder u c...\n",
              "Name: text, Length: 828, dtype: object"
            ]
          },
          "metadata": {},
          "execution_count": 200
        }
      ]
    },
    {
      "cell_type": "code",
      "source": [
        "#vectorization\n",
        "from sklearn.feature_extraction.text import TfidfVectorizer\n",
        "vec=TfidfVectorizer()\n",
        "train_data=vec.fit_transform(tweets)\n",
        "train_data.shape"
      ],
      "metadata": {
        "colab": {
          "base_uri": "https://localhost:8080/"
        },
        "id": "9Y6mXnVOw8pe",
        "outputId": "d50610a8-3969-41e1-86c4-df821aaacf0e"
      },
      "execution_count": null,
      "outputs": [
        {
          "output_type": "execute_result",
          "data": {
            "text/plain": [
              "(828, 3929)"
            ]
          },
          "metadata": {},
          "execution_count": 201
        }
      ]
    },
    {
      "cell_type": "code",
      "source": [
        "x=train_data\n",
        "y=df[\"target\"]"
      ],
      "metadata": {
        "id": "zIZ8iDTeAYO1"
      },
      "execution_count": null,
      "outputs": []
    },
    {
      "cell_type": "code",
      "source": [
        "y.dtypes"
      ],
      "metadata": {
        "colab": {
          "base_uri": "https://localhost:8080/"
        },
        "id": "ORYrZSMEz8Zy",
        "outputId": "1e8bbc62-6d4b-446d-c12d-6e09bbbec2e1"
      },
      "execution_count": null,
      "outputs": [
        {
          "output_type": "execute_result",
          "data": {
            "text/plain": [
              "dtype('int64')"
            ]
          },
          "metadata": {},
          "execution_count": 203
        }
      ]
    },
    {
      "cell_type": "code",
      "source": [
        "y.isna().sum()"
      ],
      "metadata": {
        "colab": {
          "base_uri": "https://localhost:8080/"
        },
        "id": "KcNWdEgR0F1l",
        "outputId": "3731b922-7a68-43a1-bcde-338b5b59504d"
      },
      "execution_count": null,
      "outputs": [
        {
          "output_type": "execute_result",
          "data": {
            "text/plain": [
              "0"
            ]
          },
          "metadata": {},
          "execution_count": 204
        }
      ]
    },
    {
      "cell_type": "code",
      "source": [
        "#machine learning model\n",
        "from sklearn.model_selection import train_test_split\n",
        "x_train,x_test,y_train,y_test=train_test_split(x,y,test_size=0.30,random_state=0)\n",
        "y_train"
      ],
      "metadata": {
        "colab": {
          "base_uri": "https://localhost:8080/"
        },
        "id": "joE6uw6MyMxq",
        "outputId": "9fe81fc2-1c8c-4e8c-b97c-76de4c96fcfc"
      },
      "execution_count": null,
      "outputs": [
        {
          "output_type": "execute_result",
          "data": {
            "text/plain": [
              "127    1\n",
              "452   -1\n",
              "823   -1\n",
              "818    0\n",
              "453   -1\n",
              "      ..\n",
              "763    1\n",
              "192   -1\n",
              "629    0\n",
              "559    0\n",
              "684   -1\n",
              "Name: target, Length: 579, dtype: int64"
            ]
          },
          "metadata": {},
          "execution_count": 205
        }
      ]
    },
    {
      "cell_type": "code",
      "source": [
        "x_train"
      ],
      "metadata": {
        "colab": {
          "base_uri": "https://localhost:8080/"
        },
        "id": "AYNBikPxAvsy",
        "outputId": "1aa67b19-979f-466e-bc9d-3e734c9f6049"
      },
      "execution_count": null,
      "outputs": [
        {
          "output_type": "execute_result",
          "data": {
            "text/plain": [
              "<579x3929 sparse matrix of type '<class 'numpy.float64'>'\n",
              "\twith 7662 stored elements in Compressed Sparse Row format>"
            ]
          },
          "metadata": {},
          "execution_count": 206
        }
      ]
    },
    {
      "cell_type": "code",
      "source": [
        "x_test"
      ],
      "metadata": {
        "colab": {
          "base_uri": "https://localhost:8080/"
        },
        "id": "E7tNk5M1BUpC",
        "outputId": "8b43f03f-b50a-49fe-da5f-3c5732b0ede7"
      },
      "execution_count": null,
      "outputs": [
        {
          "output_type": "execute_result",
          "data": {
            "text/plain": [
              "<249x3929 sparse matrix of type '<class 'numpy.float64'>'\n",
              "\twith 3345 stored elements in Compressed Sparse Row format>"
            ]
          },
          "metadata": {},
          "execution_count": 207
        }
      ]
    },
    {
      "cell_type": "code",
      "source": [
        "y_test"
      ],
      "metadata": {
        "colab": {
          "base_uri": "https://localhost:8080/"
        },
        "id": "nAknN-kQBXoT",
        "outputId": "3fc6c343-0118-47ab-8a73-88690923f11b"
      },
      "execution_count": null,
      "outputs": [
        {
          "output_type": "execute_result",
          "data": {
            "text/plain": [
              "628    1\n",
              "103    0\n",
              "8     -1\n",
              "258    1\n",
              "626    0\n",
              "      ..\n",
              "320    0\n",
              "140    0\n",
              "198    1\n",
              "418    0\n",
              "590    1\n",
              "Name: target, Length: 249, dtype: int64"
            ]
          },
          "metadata": {},
          "execution_count": 208
        }
      ]
    },
    {
      "cell_type": "code",
      "source": [
        "from sklearn.preprocessing import StandardScaler\n",
        "scalar=StandardScaler(with_mean=False)\n",
        "scalar.fit(x_train)\n",
        "x_train=scalar.fit_transform(x_train)\n",
        "x_test=scalar.fit_transform(x_test)\n"
      ],
      "metadata": {
        "id": "0AEb1kkFBZR6"
      },
      "execution_count": null,
      "outputs": []
    },
    {
      "cell_type": "code",
      "source": [
        "#model creation\n",
        "from sklearn.ensemble import RandomForestClassifier\n",
        "model=RandomForestClassifier(max_depth=5)\n",
        "model.fit(x_train,y_train)"
      ],
      "metadata": {
        "colab": {
          "base_uri": "https://localhost:8080/",
          "height": 75
        },
        "id": "DOnaIZQmC9Rn",
        "outputId": "2ecaada1-6c24-423d-ae3a-c8a477b4ba05"
      },
      "execution_count": null,
      "outputs": [
        {
          "output_type": "execute_result",
          "data": {
            "text/plain": [
              "RandomForestClassifier(max_depth=5)"
            ],
            "text/html": [
              "<style>#sk-container-id-3 {color: black;background-color: white;}#sk-container-id-3 pre{padding: 0;}#sk-container-id-3 div.sk-toggleable {background-color: white;}#sk-container-id-3 label.sk-toggleable__label {cursor: pointer;display: block;width: 100%;margin-bottom: 0;padding: 0.3em;box-sizing: border-box;text-align: center;}#sk-container-id-3 label.sk-toggleable__label-arrow:before {content: \"▸\";float: left;margin-right: 0.25em;color: #696969;}#sk-container-id-3 label.sk-toggleable__label-arrow:hover:before {color: black;}#sk-container-id-3 div.sk-estimator:hover label.sk-toggleable__label-arrow:before {color: black;}#sk-container-id-3 div.sk-toggleable__content {max-height: 0;max-width: 0;overflow: hidden;text-align: left;background-color: #f0f8ff;}#sk-container-id-3 div.sk-toggleable__content pre {margin: 0.2em;color: black;border-radius: 0.25em;background-color: #f0f8ff;}#sk-container-id-3 input.sk-toggleable__control:checked~div.sk-toggleable__content {max-height: 200px;max-width: 100%;overflow: auto;}#sk-container-id-3 input.sk-toggleable__control:checked~label.sk-toggleable__label-arrow:before {content: \"▾\";}#sk-container-id-3 div.sk-estimator input.sk-toggleable__control:checked~label.sk-toggleable__label {background-color: #d4ebff;}#sk-container-id-3 div.sk-label input.sk-toggleable__control:checked~label.sk-toggleable__label {background-color: #d4ebff;}#sk-container-id-3 input.sk-hidden--visually {border: 0;clip: rect(1px 1px 1px 1px);clip: rect(1px, 1px, 1px, 1px);height: 1px;margin: -1px;overflow: hidden;padding: 0;position: absolute;width: 1px;}#sk-container-id-3 div.sk-estimator {font-family: monospace;background-color: #f0f8ff;border: 1px dotted black;border-radius: 0.25em;box-sizing: border-box;margin-bottom: 0.5em;}#sk-container-id-3 div.sk-estimator:hover {background-color: #d4ebff;}#sk-container-id-3 div.sk-parallel-item::after {content: \"\";width: 100%;border-bottom: 1px solid gray;flex-grow: 1;}#sk-container-id-3 div.sk-label:hover label.sk-toggleable__label {background-color: #d4ebff;}#sk-container-id-3 div.sk-serial::before {content: \"\";position: absolute;border-left: 1px solid gray;box-sizing: border-box;top: 0;bottom: 0;left: 50%;z-index: 0;}#sk-container-id-3 div.sk-serial {display: flex;flex-direction: column;align-items: center;background-color: white;padding-right: 0.2em;padding-left: 0.2em;position: relative;}#sk-container-id-3 div.sk-item {position: relative;z-index: 1;}#sk-container-id-3 div.sk-parallel {display: flex;align-items: stretch;justify-content: center;background-color: white;position: relative;}#sk-container-id-3 div.sk-item::before, #sk-container-id-3 div.sk-parallel-item::before {content: \"\";position: absolute;border-left: 1px solid gray;box-sizing: border-box;top: 0;bottom: 0;left: 50%;z-index: -1;}#sk-container-id-3 div.sk-parallel-item {display: flex;flex-direction: column;z-index: 1;position: relative;background-color: white;}#sk-container-id-3 div.sk-parallel-item:first-child::after {align-self: flex-end;width: 50%;}#sk-container-id-3 div.sk-parallel-item:last-child::after {align-self: flex-start;width: 50%;}#sk-container-id-3 div.sk-parallel-item:only-child::after {width: 0;}#sk-container-id-3 div.sk-dashed-wrapped {border: 1px dashed gray;margin: 0 0.4em 0.5em 0.4em;box-sizing: border-box;padding-bottom: 0.4em;background-color: white;}#sk-container-id-3 div.sk-label label {font-family: monospace;font-weight: bold;display: inline-block;line-height: 1.2em;}#sk-container-id-3 div.sk-label-container {text-align: center;}#sk-container-id-3 div.sk-container {/* jupyter's `normalize.less` sets `[hidden] { display: none; }` but bootstrap.min.css set `[hidden] { display: none !important; }` so we also need the `!important` here to be able to override the default hidden behavior on the sphinx rendered scikit-learn.org. See: https://github.com/scikit-learn/scikit-learn/issues/21755 */display: inline-block !important;position: relative;}#sk-container-id-3 div.sk-text-repr-fallback {display: none;}</style><div id=\"sk-container-id-3\" class=\"sk-top-container\"><div class=\"sk-text-repr-fallback\"><pre>RandomForestClassifier(max_depth=5)</pre><b>In a Jupyter environment, please rerun this cell to show the HTML representation or trust the notebook. <br />On GitHub, the HTML representation is unable to render, please try loading this page with nbviewer.org.</b></div><div class=\"sk-container\" hidden><div class=\"sk-item\"><div class=\"sk-estimator sk-toggleable\"><input class=\"sk-toggleable__control sk-hidden--visually\" id=\"sk-estimator-id-3\" type=\"checkbox\" checked><label for=\"sk-estimator-id-3\" class=\"sk-toggleable__label sk-toggleable__label-arrow\">RandomForestClassifier</label><div class=\"sk-toggleable__content\"><pre>RandomForestClassifier(max_depth=5)</pre></div></div></div></div></div>"
            ]
          },
          "metadata": {},
          "execution_count": 210
        }
      ]
    },
    {
      "cell_type": "code",
      "source": [
        "y_pred=model.predict(x_test)\n",
        "y_pred"
      ],
      "metadata": {
        "colab": {
          "base_uri": "https://localhost:8080/"
        },
        "id": "5Heyt9-0C9pK",
        "outputId": "1f62f0de-36a2-4229-e5df-e5e28cf617f8"
      },
      "execution_count": null,
      "outputs": [
        {
          "output_type": "execute_result",
          "data": {
            "text/plain": [
              "array([ 0, -1, -1,  0,  1,  0, -1,  0,  0, -1,  0, -1, -1, -1,  1,  1, -1,\n",
              "        0,  0,  0,  0,  1,  0,  1,  0,  0,  1,  0, -1, -1, -1, -1,  0,  0,\n",
              "       -1, -1, -1,  0, -1,  0,  0,  0,  1, -1,  0,  0, -1,  0, -1, -1,  0,\n",
              "        1, -1,  1,  0, -1,  1, -1,  1,  0,  1,  1, -1, -1, -1,  1,  0, -1,\n",
              "        0, -1,  0, -1,  0,  0,  0,  0, -1,  0,  0,  0,  0,  1,  0,  0,  0,\n",
              "        0,  0,  0,  0, -1,  0,  0,  0,  1, -1,  1,  0,  0, -1, -1,  0,  0,\n",
              "       -1,  1, -1,  0,  0,  0,  0,  0,  0,  0,  1,  1,  0,  0,  0,  1, -1,\n",
              "        0,  0,  0,  0,  0,  0,  1,  1,  0, -1,  0,  0,  1,  1,  0,  0,  1,\n",
              "        0,  0,  0, -1,  1, -1,  0,  0,  0,  1,  0,  1,  0, -1,  1,  0, -1,\n",
              "        0,  0,  1,  0,  1, -1,  0,  0, -1, -1,  0, -1,  0,  0, -1,  1,  0,\n",
              "        0,  1, -1,  0,  1,  0,  1,  1,  1,  0, -1, -1,  1,  0, -1, -1,  0,\n",
              "        0,  1, -1,  0,  1,  0,  0, -1,  0, -1,  0,  0,  0,  0, -1,  0,  0,\n",
              "        1,  1,  0,  0, -1, -1, -1,  0,  0,  0,  0,  0, -1, -1, -1,  0,  0,\n",
              "        0,  0, -1,  0,  0, -1,  1, -1, -1,  0,  0, -1,  0,  0,  0, -1,  1,\n",
              "        0,  0,  0,  1, -1,  0,  0,  0,  0,  0,  1])"
            ]
          },
          "metadata": {},
          "execution_count": 211
        }
      ]
    },
    {
      "cell_type": "code",
      "source": [
        "y_test"
      ],
      "metadata": {
        "colab": {
          "base_uri": "https://localhost:8080/"
        },
        "id": "altZGpRZDICc",
        "outputId": "cb58c395-1daa-4f55-fab2-be48cf8bcfbf"
      },
      "execution_count": null,
      "outputs": [
        {
          "output_type": "execute_result",
          "data": {
            "text/plain": [
              "628    1\n",
              "103    0\n",
              "8     -1\n",
              "258    1\n",
              "626    0\n",
              "      ..\n",
              "320    0\n",
              "140    0\n",
              "198    1\n",
              "418    0\n",
              "590    1\n",
              "Name: target, Length: 249, dtype: int64"
            ]
          },
          "metadata": {},
          "execution_count": 212
        }
      ]
    },
    {
      "cell_type": "code",
      "source": [
        "#confusion matrix , accuracy score , classificaton report\n",
        "from sklearn.metrics import confusion_matrix,accuracy_score,classification_report,ConfusionMatrixDisplay\n",
        "result=confusion_matrix(y_test,y_pred)\n",
        "result"
      ],
      "metadata": {
        "colab": {
          "base_uri": "https://localhost:8080/"
        },
        "id": "K9HY6qe6DL-H",
        "outputId": "b087c346-9854-47ee-99fb-a7c2bd3ceaf0"
      },
      "execution_count": null,
      "outputs": [
        {
          "output_type": "execute_result",
          "data": {
            "text/plain": [
              "array([[39, 24, 12],\n",
              "       [20, 57,  7],\n",
              "       [10, 52, 28]])"
            ]
          },
          "metadata": {},
          "execution_count": 213
        }
      ]
    },
    {
      "cell_type": "code",
      "source": [
        "score=accuracy_score(y_test,y_pred)\n",
        "score"
      ],
      "metadata": {
        "colab": {
          "base_uri": "https://localhost:8080/"
        },
        "id": "vgW90tTZDP7l",
        "outputId": "1d11ac25-12f4-43da-c6b5-8074c8a0eaa3"
      },
      "execution_count": null,
      "outputs": [
        {
          "output_type": "execute_result",
          "data": {
            "text/plain": [
              "0.4979919678714859"
            ]
          },
          "metadata": {},
          "execution_count": 214
        }
      ]
    },
    {
      "cell_type": "code",
      "source": [
        "from sklearn.tree import plot_tree\n",
        "\n",
        "# create a random forest classifier\n",
        "clf = RandomForestClassifier(n_estimators=6)\n",
        "# train the classifier on the dataset\n",
        "clf.fit(x_train, y_train)\n",
        "\n",
        "# plot a single decision tree from the random forest\n",
        "plot_tree(clf.estimators_[0])"
      ],
      "metadata": {
        "colab": {
          "base_uri": "https://localhost:8080/",
          "height": 1000
        },
        "id": "DXeb8ps4DS29",
        "outputId": "f7dc9951-34b8-4045-85ce-07ec25da661c"
      },
      "execution_count": null,
      "outputs": [
        {
          "output_type": "execute_result",
          "data": {
            "text/plain": [
              "[Text(0.963179758308157, 0.9962121212121212, 'x[3579] <= 1.345\\ngini = 0.666\\nsamples = 374\\nvalue = [206, 190, 183]'),\n",
              " Text(0.9384441087613293, 0.9886363636363636, 'x[3778] <= 3.304\\ngini = 0.665\\nsamples = 365\\nvalue = [206, 176, 182]'),\n",
              " Text(0.9324018126888217, 0.9810606060606061, 'x[1538] <= 2.819\\ngini = 0.666\\nsamples = 359\\nvalue = [199, 176, 182]'),\n",
              " Text(0.9010574018126888, 0.9734848484848485, 'x[3685] <= 6.333\\ngini = 0.665\\nsamples = 337\\nvalue = [191, 172, 159]'),\n",
              " Text(0.8950151057401813, 0.9659090909090909, 'x[3425] <= 12.042\\ngini = 0.664\\nsamples = 332\\nvalue = [191, 163, 159]'),\n",
              " Text(0.8889728096676737, 0.9583333333333334, 'x[1402] <= 2.539\\ngini = 0.665\\nsamples = 331\\nvalue = [184, 163, 159]'),\n",
              " Text(0.8829305135951662, 0.9507575757575758, 'x[3084] <= 4.194\\ngini = 0.666\\nsamples = 325\\nvalue = [176, 163, 159]'),\n",
              " Text(0.8768882175226587, 0.9431818181818182, 'x[1274] <= 5.025\\ngini = 0.666\\nsamples = 322\\nvalue = [170, 163, 159]'),\n",
              " Text(0.870845921450151, 0.9356060606060606, 'x[1763] <= 2.246\\ngini = 0.666\\nsamples = 317\\nvalue = [170, 156, 159]'),\n",
              " Text(0.8444108761329305, 0.928030303030303, 'x[1182] <= 4.101\\ngini = 0.661\\nsamples = 287\\nvalue = [163, 118, 153]'),\n",
              " Text(0.8383685800604229, 0.9204545454545454, 'x[555] <= 5.909\\ngini = 0.661\\nsamples = 284\\nvalue = [159, 118, 153]'),\n",
              " Text(0.8262839879154078, 0.9128787878787878, 'x[3505] <= 12.042\\ngini = 0.663\\nsamples = 278\\nvalue = [147, 118, 152]'),\n",
              " Text(0.8202416918429003, 0.9053030303030303, 'x[2666] <= 12.042\\ngini = 0.662\\nsamples = 277\\nvalue = [147, 115, 152]'),\n",
              " Text(0.8141993957703928, 0.8977272727272727, 'x[2964] <= 4.814\\ngini = 0.661\\nsamples = 276\\nvalue = [147, 112, 152]'),\n",
              " Text(0.8021148036253777, 0.8901515151515151, 'x[2479] <= 9.139\\ngini = 0.662\\nsamples = 273\\nvalue = [139, 112, 151]'),\n",
              " Text(0.7960725075528701, 0.8825757575757576, 'x[2630] <= 7.668\\ngini = 0.662\\nsamples = 271\\nvalue = [139, 112, 147]'),\n",
              " Text(0.7900302114803626, 0.875, 'x[2302] <= 5.329\\ngini = 0.663\\nsamples = 269\\nvalue = [135, 112, 147]'),\n",
              " Text(0.783987915407855, 0.8674242424242424, 'x[891] <= 1.082\\ngini = 0.663\\nsamples = 267\\nvalue = [132, 112, 147]'),\n",
              " Text(0.7552870090634441, 0.8598484848484849, 'x[2063] <= 7.528\\ngini = 0.642\\nsamples = 192\\nvalue = [115, 58, 107]'),\n",
              " Text(0.7492447129909365, 0.8522727272727273, 'x[1054] <= 9.346\\ngini = 0.644\\nsamples = 190\\nvalue = [110, 58, 107]'),\n",
              " Text(0.743202416918429, 0.8446969696969697, 'x[484] <= 10.475\\ngini = 0.641\\nsamples = 188\\nvalue = [110, 55, 107]'),\n",
              " Text(0.7371601208459214, 0.8371212121212122, 'x[1301] <= 11.034\\ngini = 0.642\\nsamples = 186\\nvalue = [106, 55, 107]'),\n",
              " Text(0.7311178247734139, 0.8295454545454546, 'x[2136] <= 0.643\\ngini = 0.643\\nsamples = 185\\nvalue = [106, 55, 104]'),\n",
              " Text(0.7250755287009063, 0.821969696969697, 'x[555] <= 2.514\\ngini = 0.645\\nsamples = 171\\nvalue = [106, 55, 85]'),\n",
              " Text(0.7190332326283988, 0.8143939393939394, 'x[2857] <= 1.498\\ngini = 0.645\\nsamples = 170\\nvalue = [106, 55, 82]'),\n",
              " Text(0.6978851963746223, 0.8068181818181818, 'x[1204] <= 2.949\\ngini = 0.631\\nsamples = 160\\nvalue = [106, 46, 74]'),\n",
              " Text(0.6918429003021148, 0.7992424242424242, 'x[1096] <= 11.333\\ngini = 0.636\\nsamples = 157\\nvalue = [101, 46, 74]'),\n",
              " Text(0.6858006042296072, 0.7916666666666666, 'x[3341] <= 5.754\\ngini = 0.634\\nsamples = 156\\nvalue = [101, 45, 74]'),\n",
              " Text(0.6797583081570997, 0.7840909090909091, 'x[2795] <= 6.949\\ngini = 0.633\\nsamples = 154\\nvalue = [101, 45, 71]'),\n",
              " Text(0.6737160120845922, 0.7765151515151515, 'x[702] <= 8.25\\ngini = 0.629\\nsamples = 152\\nvalue = [101, 42, 71]'),\n",
              " Text(0.6616314199395771, 0.7689393939393939, 'x[2443] <= 1.405\\ngini = 0.625\\nsamples = 150\\nvalue = [101, 40, 70]'),\n",
              " Text(0.6555891238670695, 0.7613636363636364, 'x[1589] <= 12.042\\ngini = 0.631\\nsamples = 145\\nvalue = [95, 40, 70]'),\n",
              " Text(0.649546827794562, 0.7537878787878788, 'x[3836] <= 2.761\\ngini = 0.63\\nsamples = 144\\nvalue = [95, 40, 67]'),\n",
              " Text(0.6435045317220544, 0.7462121212121212, 'x[1310] <= 12.042\\ngini = 0.633\\nsamples = 142\\nvalue = [91, 40, 67]'),\n",
              " Text(0.6374622356495468, 0.7386363636363636, 'x[1968] <= 11.406\\ngini = 0.63\\nsamples = 141\\nvalue = [91, 38, 67]'),\n",
              " Text(0.6314199395770392, 0.7310606060606061, 'x[1583] <= 2.712\\ngini = 0.629\\nsamples = 140\\nvalue = [91, 38, 64]'),\n",
              " Text(0.6253776435045317, 0.7234848484848485, 'x[2386] <= 4.479\\ngini = 0.625\\nsamples = 135\\nvalue = [91, 38, 57]'),\n",
              " Text(0.6193353474320241, 0.7159090909090909, 'x[1330] <= 5.667\\ngini = 0.632\\nsamples = 130\\nvalue = [85, 38, 57]'),\n",
              " Text(0.6132930513595166, 0.7083333333333334, 'x[470] <= 16.811\\ngini = 0.627\\nsamples = 128\\nvalue = [85, 35, 57]'),\n",
              " Text(0.6072507552870091, 0.7007575757575758, 'x[412] <= 1.473\\ngini = 0.625\\nsamples = 127\\nvalue = [85, 35, 55]'),\n",
              " Text(0.595166163141994, 0.6931818181818182, 'x[2481] <= 12.042\\ngini = 0.616\\nsamples = 121\\nvalue = [85, 32, 51]'),\n",
              " Text(0.5891238670694864, 0.6856060606060606, 'x[3348] <= 6.392\\ngini = 0.612\\nsamples = 120\\nvalue = [85, 32, 48]'),\n",
              " Text(0.5830815709969789, 0.678030303030303, 'x[635] <= 12.042\\ngini = 0.617\\nsamples = 118\\nvalue = [82, 32, 48]'),\n",
              " Text(0.5770392749244713, 0.6704545454545454, 'x[1933] <= 12.042\\ngini = 0.607\\nsamples = 117\\nvalue = [82, 28, 48]'),\n",
              " Text(0.5709969788519638, 0.6628787878787878, 'x[1214] <= 12.042\\ngini = 0.601\\nsamples = 116\\nvalue = [82, 26, 48]'),\n",
              " Text(0.5649546827794562, 0.6553030303030303, 'x[3136] <= 12.042\\ngini = 0.599\\nsamples = 115\\nvalue = [82, 26, 46]'),\n",
              " Text(0.5589123867069486, 0.6477272727272727, 'x[983] <= 2.397\\ngini = 0.596\\nsamples = 114\\nvalue = [82, 26, 44]'),\n",
              " Text(0.552870090634441, 0.6401515151515151, 'x[2544] <= 12.042\\ngini = 0.593\\nsamples = 112\\nvalue = [82, 26, 42]'),\n",
              " Text(0.5468277945619335, 0.6325757575757576, 'x[1718] <= 12.042\\ngini = 0.586\\nsamples = 111\\nvalue = [82, 24, 42]'),\n",
              " Text(0.540785498489426, 0.625, 'x[3195] <= 8.088\\ngini = 0.58\\nsamples = 110\\nvalue = [82, 24, 39]'),\n",
              " Text(0.5347432024169184, 0.6174242424242424, 'x[1429] <= 5.649\\ngini = 0.574\\nsamples = 108\\nvalue = [82, 24, 36]'),\n",
              " Text(0.5287009063444109, 0.6098484848484849, 'x[584] <= 2.949\\ngini = 0.562\\nsamples = 106\\nvalue = [82, 21, 36]'),\n",
              " Text(0.5166163141993958, 0.6022727272727273, 'x[1167] <= 12.042\\ngini = 0.556\\nsamples = 103\\nvalue = [81, 19, 36]'),\n",
              " Text(0.5105740181268882, 0.5946969696969697, 'x[2953] <= 12.042\\ngini = 0.551\\nsamples = 102\\nvalue = [81, 18, 36]'),\n",
              " Text(0.5045317220543807, 0.5871212121212122, 'x[1627] <= 5.582\\ngini = 0.545\\nsamples = 101\\nvalue = [81, 18, 34]'),\n",
              " Text(0.4984894259818731, 0.5795454545454546, 'x[1399] <= 1.824\\ngini = 0.541\\nsamples = 100\\nvalue = [81, 17, 34]'),\n",
              " Text(0.4773413897280967, 0.571969696969697, 'x[1552] <= 2.43\\ngini = 0.533\\nsamples = 96\\nvalue = [80, 17, 31]'),\n",
              " Text(0.47129909365558914, 0.5643939393939394, 'x[1468] <= 2.192\\ngini = 0.522\\nsamples = 94\\nvalue = [80, 15, 31]'),\n",
              " Text(0.459214501510574, 0.5568181818181818, 'x[1045] <= 11.203\\ngini = 0.508\\nsamples = 91\\nvalue = [80, 14, 29]'),\n",
              " Text(0.45317220543806647, 0.5492424242424242, 'x[2391] <= 3.327\\ngini = 0.504\\nsamples = 90\\nvalue = [80, 14, 28]'),\n",
              " Text(0.4471299093655589, 0.5416666666666666, 'x[806] <= 7.138\\ngini = 0.495\\nsamples = 88\\nvalue = [80, 14, 26]'),\n",
              " Text(0.44108761329305135, 0.5340909090909091, 'x[3206] <= 10.57\\ngini = 0.488\\nsamples = 87\\nvalue = [80, 13, 26]'),\n",
              " Text(0.4350453172205438, 0.5265151515151515, 'x[1570] <= 4.28\\ngini = 0.481\\nsamples = 86\\nvalue = [80, 12, 26]'),\n",
              " Text(0.4229607250755287, 0.5189393939393939, 'x[1714] <= 12.042\\ngini = 0.45\\nsamples = 83\\nvalue = [80, 10, 23]'),\n",
              " Text(0.4169184290030212, 0.5113636363636364, 'x[3476] <= 7.927\\ngini = 0.443\\nsamples = 82\\nvalue = [80, 10, 22]'),\n",
              " Text(0.4108761329305136, 0.5037878787878788, 'x[1248] <= 5.907\\ngini = 0.435\\nsamples = 81\\nvalue = [80, 9, 22]'),\n",
              " Text(0.40483383685800606, 0.4962121212121212, 'x[1304] <= 2.225\\ngini = 0.426\\nsamples = 80\\nvalue = [80, 8, 22]'),\n",
              " Text(0.3987915407854985, 0.48863636363636365, 'x[2054] <= 8.052\\ngini = 0.416\\nsamples = 79\\nvalue = [80, 7, 22]'),\n",
              " Text(0.39274924471299094, 0.4810606060606061, 'x[801] <= 12.042\\ngini = 0.407\\nsamples = 78\\nvalue = [80, 6, 22]'),\n",
              " Text(0.3867069486404834, 0.4734848484848485, 'x[2616] <= 10.908\\ngini = 0.399\\nsamples = 77\\nvalue = [80, 6, 21]'),\n",
              " Text(0.3806646525679758, 0.4659090909090909, 'x[2645] <= 6.539\\ngini = 0.392\\nsamples = 76\\nvalue = [80, 6, 20]'),\n",
              " Text(0.37462235649546827, 0.4583333333333333, 'x[2320] <= 12.042\\ngini = 0.383\\nsamples = 75\\nvalue = [80, 6, 19]'),\n",
              " Text(0.3685800604229607, 0.45075757575757575, 'x[3822] <= 2.733\\ngini = 0.366\\nsamples = 74\\nvalue = [80, 6, 17]'),\n",
              " Text(0.3564954682779456, 0.4431818181818182, 'x[1842] <= 7.016\\ngini = 0.345\\nsamples = 71\\nvalue = [79, 4, 17]'),\n",
              " Text(0.3504531722054381, 0.4356060606060606, 'x[114] <= 1.384\\ngini = 0.333\\nsamples = 70\\nvalue = [79, 3, 17]'),\n",
              " Text(0.34441087613293053, 0.42803030303030304, 'x[3804] <= 12.042\\ngini = 0.374\\nsamples = 63\\nvalue = [65, 3, 17]'),\n",
              " Text(0.338368580060423, 0.42045454545454547, 'x[2735] <= 7.88\\ngini = 0.364\\nsamples = 62\\nvalue = [65, 3, 16]'),\n",
              " Text(0.3323262839879154, 0.4128787878787879, 'x[3522] <= 10.239\\ngini = 0.37\\nsamples = 61\\nvalue = [63, 3, 16]'),\n",
              " Text(0.32628398791540786, 0.4053030303030303, 'x[2182] <= 12.726\\ngini = 0.359\\nsamples = 60\\nvalue = [63, 3, 15]'),\n",
              " Text(0.3202416918429003, 0.3977272727272727, 'x[3777] <= 12.042\\ngini = 0.348\\nsamples = 59\\nvalue = [63, 3, 14]'),\n",
              " Text(0.31419939577039274, 0.39015151515151514, 'x[1735] <= 7.705\\ngini = 0.332\\nsamples = 58\\nvalue = [63, 2, 14]'),\n",
              " Text(0.3081570996978852, 0.38257575757575757, 'x[1330] <= 2.03\\ngini = 0.315\\nsamples = 57\\nvalue = [63, 1, 14]'),\n",
              " Text(0.3021148036253776, 0.375, 'x[3829] <= 1.596\\ngini = 0.325\\nsamples = 55\\nvalue = [60, 1, 14]'),\n",
              " Text(0.29607250755287007, 0.36742424242424243, 'x[2752] <= 2.768\\ngini = 0.332\\nsamples = 54\\nvalue = [58, 1, 14]'),\n",
              " Text(0.29003021148036257, 0.35984848484848486, 'x[3101] <= 12.042\\ngini = 0.35\\nsamples = 52\\nvalue = [53, 1, 14]'),\n",
              " Text(0.283987915407855, 0.3522727272727273, 'x[3641] <= 11.157\\ngini = 0.358\\nsamples = 51\\nvalue = [51, 1, 14]'),\n",
              " Text(0.27794561933534745, 0.3446969696969697, 'x[2638] <= 1.675\\ngini = 0.344\\nsamples = 50\\nvalue = [51, 1, 13]'),\n",
              " Text(0.2719033232628399, 0.3371212121212121, 'x[822] <= 4.404\\ngini = 0.361\\nsamples = 47\\nvalue = [47, 1, 13]'),\n",
              " Text(0.26586102719033233, 0.32954545454545453, 'x[2176] <= 7.534\\ngini = 0.369\\nsamples = 46\\nvalue = [45, 1, 13]'),\n",
              " Text(0.2598187311178248, 0.32196969696969696, 'x[684] <= 9.891\\ngini = 0.355\\nsamples = 45\\nvalue = [45, 1, 12]'),\n",
              " Text(0.2537764350453172, 0.3143939393939394, 'x[1907] <= 12.042\\ngini = 0.359\\nsamples = 44\\nvalue = [44, 1, 12]'),\n",
              " Text(0.24773413897280966, 0.3068181818181818, 'x[2641] <= 5.251\\ngini = 0.364\\nsamples = 43\\nvalue = [43, 1, 12]'),\n",
              " Text(0.24169184290030213, 0.29924242424242425, 'x[2178] <= 6.209\\ngini = 0.374\\nsamples = 42\\nvalue = [41, 1, 12]'),\n",
              " Text(0.23564954682779457, 0.2916666666666667, 'x[1194] <= 8.921\\ngini = 0.379\\nsamples = 41\\nvalue = [40, 1, 12]'),\n",
              " Text(0.229607250755287, 0.2840909090909091, 'x[2085] <= 2.963\\ngini = 0.384\\nsamples = 40\\nvalue = [39, 1, 12]'),\n",
              " Text(0.22356495468277945, 0.2765151515151515, 'x[350] <= 9.892\\ngini = 0.394\\nsamples = 38\\nvalue = [37, 1, 12]'),\n",
              " Text(0.2175226586102719, 0.2689393939393939, 'x[3548] <= 2.53\\ngini = 0.405\\nsamples = 37\\nvalue = [35, 1, 12]'),\n",
              " Text(0.21148036253776434, 0.26136363636363635, 'x[3088] <= 7.43\\ngini = 0.411\\nsamples = 36\\nvalue = [34, 1, 12]'),\n",
              " Text(0.2054380664652568, 0.2537878787878788, 'x[857] <= 11.468\\ngini = 0.423\\nsamples = 35\\nvalue = [32, 1, 12]'),\n",
              " Text(0.19939577039274925, 0.24621212121212122, 'x[544] <= 3.227\\ngini = 0.408\\nsamples = 34\\nvalue = [32, 1, 11]'),\n",
              " Text(0.1933534743202417, 0.23863636363636365, 'x[1433] <= 2.316\\ngini = 0.414\\nsamples = 33\\nvalue = [31, 1, 11]'),\n",
              " Text(0.18731117824773413, 0.23106060606060605, 'x[2809] <= 4.784\\ngini = 0.421\\nsamples = 32\\nvalue = [30, 1, 11]'),\n",
              " Text(0.18126888217522658, 0.22348484848484848, 'x[3120] <= 7.17\\ngini = 0.393\\nsamples = 31\\nvalue = [30, 0, 11]'),\n",
              " Text(0.17522658610271905, 0.2159090909090909, 'x[1462] <= 8.925\\ngini = 0.405\\nsamples = 30\\nvalue = [28, 0, 11]'),\n",
              " Text(0.1691842900302115, 0.20833333333333334, 'x[2213] <= 4.762\\ngini = 0.418\\nsamples = 29\\nvalue = [26, 0, 11]'),\n",
              " Text(0.16314199395770393, 0.20075757575757575, 'x[1145] <= 7.456\\ngini = 0.424\\nsamples = 28\\nvalue = [25, 0, 11]'),\n",
              " Text(0.15709969788519637, 0.19318181818181818, 'x[1053] <= 7.032\\ngini = 0.431\\nsamples = 27\\nvalue = [24, 0, 11]'),\n",
              " Text(0.1510574018126888, 0.1856060606060606, 'x[3006] <= 11.005\\ngini = 0.438\\nsamples = 26\\nvalue = [23, 0, 11]'),\n",
              " Text(0.14501510574018128, 0.17803030303030304, 'x[3569] <= 8.282\\ngini = 0.451\\nsamples = 25\\nvalue = [21, 0, 11]'),\n",
              " Text(0.13897280966767372, 0.17045454545454544, 'x[3502] <= 5.856\\ngini = 0.458\\nsamples = 24\\nvalue = [20, 0, 11]'),\n",
              " Text(0.13293051359516617, 0.16287878787878787, 'x[1285] <= 2.912\\ngini = 0.384\\nsamples = 23\\nvalue = [20, 0, 7]'),\n",
              " Text(0.1268882175226586, 0.1553030303030303, 'x[3416] <= 7.188\\ngini = 0.393\\nsamples = 22\\nvalue = [19, 0, 7]'),\n",
              " Text(0.12084592145015106, 0.14772727272727273, 'x[3733] <= 5.895\\ngini = 0.33\\nsamples = 21\\nvalue = [19, 0, 5]'),\n",
              " Text(0.1148036253776435, 0.14015151515151514, 'x[1766] <= 10.305\\ngini = 0.34\\nsamples = 20\\nvalue = [18, 0, 5]'),\n",
              " Text(0.10876132930513595, 0.13257575757575757, 'x[1491] <= 1.03\\ngini = 0.351\\nsamples = 19\\nvalue = [17, 0, 5]'),\n",
              " Text(0.1027190332326284, 0.125, 'x[1462] <= 5.092\\ngini = 0.363\\nsamples = 18\\nvalue = [16, 0, 5]'),\n",
              " Text(0.09667673716012085, 0.11742424242424243, 'x[1462] <= 1.772\\ngini = 0.32\\nsamples = 17\\nvalue = [16, 0, 4]'),\n",
              " Text(0.09063444108761329, 0.10984848484848485, 'x[1691] <= 7.359\\ngini = 0.332\\nsamples = 16\\nvalue = [15, 0, 4]'),\n",
              " Text(0.08459214501510574, 0.10227272727272728, 'x[1985] <= 8.772\\ngini = 0.346\\nsamples = 15\\nvalue = [14, 0, 4]'),\n",
              " Text(0.07854984894259819, 0.0946969696969697, 'x[1736] <= 10.053\\ngini = 0.291\\nsamples = 14\\nvalue = [14, 0, 3]'),\n",
              " Text(0.07250755287009064, 0.08712121212121213, 'x[2493] <= 12.042\\ngini = 0.305\\nsamples = 13\\nvalue = [13, 0, 3]'),\n",
              " Text(0.06646525679758308, 0.07954545454545454, 'x[3678] <= 3.292\\ngini = 0.231\\nsamples = 12\\nvalue = [13, 0, 2]'),\n",
              " Text(0.06042296072507553, 0.07196969696969698, 'x[1981] <= 12.042\\ngini = 0.245\\nsamples = 11\\nvalue = [12, 0, 2]'),\n",
              " Text(0.054380664652567974, 0.06439393939393939, 'x[2467] <= 12.042\\ngini = 0.142\\nsamples = 10\\nvalue = [12, 0, 1]'),\n",
              " Text(0.04833836858006042, 0.056818181818181816, 'x[1937] <= 4.969\\ngini = 0.165\\nsamples = 9\\nvalue = [10, 0, 1]'),\n",
              " Text(0.04229607250755287, 0.04924242424242424, 'x[3746] <= 10.404\\ngini = 0.18\\nsamples = 8\\nvalue = [9, 0, 1]'),\n",
              " Text(0.03625377643504532, 0.041666666666666664, 'x[2625] <= 11.217\\ngini = 0.219\\nsamples = 7\\nvalue = [7, 0, 1]'),\n",
              " Text(0.030211480362537766, 0.03409090909090909, 'x[553] <= 12.042\\ngini = 0.278\\nsamples = 6\\nvalue = [5, 0, 1]'),\n",
              " Text(0.02416918429003021, 0.026515151515151516, 'x[3286] <= 9.767\\ngini = 0.32\\nsamples = 5\\nvalue = [4, 0, 1]'),\n",
              " Text(0.01812688821752266, 0.01893939393939394, 'x[3839] <= 6.81\\ngini = 0.375\\nsamples = 4\\nvalue = [3, 0, 1]'),\n",
              " Text(0.012084592145015106, 0.011363636363636364, 'x[372] <= 12.042\\ngini = 0.5\\nsamples = 2\\nvalue = [1, 0, 1]'),\n",
              " Text(0.006042296072507553, 0.003787878787878788, 'gini = 0.0\\nsamples = 1\\nvalue = [0, 0, 1]'),\n",
              " Text(0.01812688821752266, 0.003787878787878788, 'gini = 0.0\\nsamples = 1\\nvalue = [1, 0, 0]'),\n",
              " Text(0.02416918429003021, 0.011363636363636364, 'gini = 0.0\\nsamples = 2\\nvalue = [2, 0, 0]'),\n",
              " Text(0.030211480362537766, 0.01893939393939394, 'gini = 0.0\\nsamples = 1\\nvalue = [1, 0, 0]'),\n",
              " Text(0.03625377643504532, 0.026515151515151516, 'gini = 0.0\\nsamples = 1\\nvalue = [1, 0, 0]'),\n",
              " Text(0.04229607250755287, 0.03409090909090909, 'gini = 0.0\\nsamples = 1\\nvalue = [2, 0, 0]'),\n",
              " Text(0.04833836858006042, 0.041666666666666664, 'gini = 0.0\\nsamples = 1\\nvalue = [2, 0, 0]'),\n",
              " Text(0.054380664652567974, 0.04924242424242424, 'gini = 0.0\\nsamples = 1\\nvalue = [1, 0, 0]'),\n",
              " Text(0.06042296072507553, 0.056818181818181816, 'gini = 0.0\\nsamples = 1\\nvalue = [2, 0, 0]'),\n",
              " Text(0.06646525679758308, 0.06439393939393939, 'gini = 0.0\\nsamples = 1\\nvalue = [0, 0, 1]'),\n",
              " Text(0.07250755287009064, 0.07196969696969698, 'gini = 0.0\\nsamples = 1\\nvalue = [1, 0, 0]'),\n",
              " Text(0.07854984894259819, 0.07954545454545454, 'gini = 0.0\\nsamples = 1\\nvalue = [0, 0, 1]'),\n",
              " Text(0.08459214501510574, 0.08712121212121213, 'gini = 0.0\\nsamples = 1\\nvalue = [1, 0, 0]'),\n",
              " Text(0.09063444108761329, 0.0946969696969697, 'gini = 0.0\\nsamples = 1\\nvalue = [0, 0, 1]'),\n",
              " Text(0.09667673716012085, 0.10227272727272728, 'gini = 0.0\\nsamples = 1\\nvalue = [1, 0, 0]'),\n",
              " Text(0.1027190332326284, 0.10984848484848485, 'gini = 0.0\\nsamples = 1\\nvalue = [1, 0, 0]'),\n",
              " Text(0.10876132930513595, 0.11742424242424243, 'gini = 0.0\\nsamples = 1\\nvalue = [0, 0, 1]'),\n",
              " Text(0.1148036253776435, 0.125, 'gini = 0.0\\nsamples = 1\\nvalue = [1, 0, 0]'),\n",
              " Text(0.12084592145015106, 0.13257575757575757, 'gini = 0.0\\nsamples = 1\\nvalue = [1, 0, 0]'),\n",
              " Text(0.1268882175226586, 0.14015151515151514, 'gini = 0.0\\nsamples = 1\\nvalue = [1, 0, 0]'),\n",
              " Text(0.13293051359516617, 0.14772727272727273, 'gini = 0.0\\nsamples = 1\\nvalue = [0, 0, 2]'),\n",
              " Text(0.13897280966767372, 0.1553030303030303, 'gini = 0.0\\nsamples = 1\\nvalue = [1, 0, 0]'),\n",
              " Text(0.14501510574018128, 0.16287878787878787, 'gini = 0.0\\nsamples = 1\\nvalue = [0, 0, 4]'),\n",
              " Text(0.1510574018126888, 0.17045454545454544, 'gini = 0.0\\nsamples = 1\\nvalue = [1, 0, 0]'),\n",
              " Text(0.15709969788519637, 0.17803030303030304, 'gini = 0.0\\nsamples = 1\\nvalue = [2, 0, 0]'),\n",
              " Text(0.16314199395770393, 0.1856060606060606, 'gini = 0.0\\nsamples = 1\\nvalue = [1, 0, 0]'),\n",
              " Text(0.1691842900302115, 0.19318181818181818, 'gini = 0.0\\nsamples = 1\\nvalue = [1, 0, 0]'),\n",
              " Text(0.17522658610271905, 0.20075757575757575, 'gini = 0.0\\nsamples = 1\\nvalue = [1, 0, 0]'),\n",
              " Text(0.18126888217522658, 0.20833333333333334, 'gini = 0.0\\nsamples = 1\\nvalue = [2, 0, 0]'),\n",
              " Text(0.18731117824773413, 0.2159090909090909, 'gini = 0.0\\nsamples = 1\\nvalue = [2, 0, 0]'),\n",
              " Text(0.1933534743202417, 0.22348484848484848, 'gini = 0.0\\nsamples = 1\\nvalue = [0, 1, 0]'),\n",
              " Text(0.19939577039274925, 0.23106060606060605, 'gini = 0.0\\nsamples = 1\\nvalue = [1, 0, 0]'),\n",
              " Text(0.2054380664652568, 0.23863636363636365, 'gini = 0.0\\nsamples = 1\\nvalue = [1, 0, 0]'),\n",
              " Text(0.21148036253776434, 0.24621212121212122, 'gini = 0.0\\nsamples = 1\\nvalue = [0, 0, 1]'),\n",
              " Text(0.2175226586102719, 0.2537878787878788, 'gini = 0.0\\nsamples = 1\\nvalue = [2, 0, 0]'),\n",
              " Text(0.22356495468277945, 0.26136363636363635, 'gini = 0.0\\nsamples = 1\\nvalue = [1, 0, 0]'),\n",
              " Text(0.229607250755287, 0.2689393939393939, 'gini = 0.0\\nsamples = 1\\nvalue = [2, 0, 0]'),\n",
              " Text(0.23564954682779457, 0.2765151515151515, 'gini = 0.0\\nsamples = 2\\nvalue = [2, 0, 0]'),\n",
              " Text(0.24169184290030213, 0.2840909090909091, 'gini = 0.0\\nsamples = 1\\nvalue = [1, 0, 0]'),\n",
              " Text(0.24773413897280966, 0.2916666666666667, 'gini = 0.0\\nsamples = 1\\nvalue = [1, 0, 0]'),\n",
              " Text(0.2537764350453172, 0.29924242424242425, 'gini = 0.0\\nsamples = 1\\nvalue = [2, 0, 0]'),\n",
              " Text(0.2598187311178248, 0.3068181818181818, 'gini = 0.0\\nsamples = 1\\nvalue = [1, 0, 0]'),\n",
              " Text(0.26586102719033233, 0.3143939393939394, 'gini = 0.0\\nsamples = 1\\nvalue = [1, 0, 0]'),\n",
              " Text(0.2719033232628399, 0.32196969696969696, 'gini = 0.0\\nsamples = 1\\nvalue = [0, 0, 1]'),\n",
              " Text(0.27794561933534745, 0.32954545454545453, 'gini = 0.0\\nsamples = 1\\nvalue = [2, 0, 0]'),\n",
              " Text(0.283987915407855, 0.3371212121212121, 'gini = 0.0\\nsamples = 3\\nvalue = [4, 0, 0]'),\n",
              " Text(0.29003021148036257, 0.3446969696969697, 'gini = 0.0\\nsamples = 1\\nvalue = [0, 0, 1]'),\n",
              " Text(0.29607250755287007, 0.3522727272727273, 'gini = 0.0\\nsamples = 1\\nvalue = [2, 0, 0]'),\n",
              " Text(0.3021148036253776, 0.35984848484848486, 'gini = 0.0\\nsamples = 2\\nvalue = [5, 0, 0]'),\n",
              " Text(0.3081570996978852, 0.36742424242424243, 'gini = 0.0\\nsamples = 1\\nvalue = [2, 0, 0]'),\n",
              " Text(0.31419939577039274, 0.375, 'gini = 0.0\\nsamples = 2\\nvalue = [3, 0, 0]'),\n",
              " Text(0.3202416918429003, 0.38257575757575757, 'gini = 0.0\\nsamples = 1\\nvalue = [0, 1, 0]'),\n",
              " Text(0.32628398791540786, 0.39015151515151514, 'gini = 0.0\\nsamples = 1\\nvalue = [0, 1, 0]'),\n",
              " Text(0.3323262839879154, 0.3977272727272727, 'gini = 0.0\\nsamples = 1\\nvalue = [0, 0, 1]'),\n",
              " Text(0.338368580060423, 0.4053030303030303, 'gini = 0.0\\nsamples = 1\\nvalue = [0, 0, 1]'),\n",
              " Text(0.34441087613293053, 0.4128787878787879, 'gini = 0.0\\nsamples = 1\\nvalue = [2, 0, 0]'),\n",
              " Text(0.3504531722054381, 0.42045454545454547, 'gini = 0.0\\nsamples = 1\\nvalue = [0, 0, 1]'),\n",
              " Text(0.3564954682779456, 0.42803030303030304, 'gini = 0.0\\nsamples = 7\\nvalue = [14, 0, 0]'),\n",
              " Text(0.36253776435045315, 0.4356060606060606, 'gini = 0.0\\nsamples = 1\\nvalue = [0, 1, 0]'),\n",
              " Text(0.3806646525679758, 0.4431818181818182, 'x[2399] <= 12.042\\ngini = 0.444\\nsamples = 3\\nvalue = [1, 2, 0]'),\n",
              " Text(0.37462235649546827, 0.4356060606060606, 'x[1563] <= 12.042\\ngini = 0.5\\nsamples = 2\\nvalue = [1, 1, 0]'),\n",
              " Text(0.3685800604229607, 0.42803030303030304, 'gini = 0.0\\nsamples = 1\\nvalue = [0, 1, 0]'),\n",
              " Text(0.3806646525679758, 0.42803030303030304, 'gini = 0.0\\nsamples = 1\\nvalue = [1, 0, 0]'),\n",
              " Text(0.3867069486404834, 0.4356060606060606, 'gini = 0.0\\nsamples = 1\\nvalue = [0, 1, 0]'),\n",
              " Text(0.3806646525679758, 0.45075757575757575, 'gini = 0.0\\nsamples = 1\\nvalue = [0, 0, 2]'),\n",
              " Text(0.3867069486404834, 0.4583333333333333, 'gini = 0.0\\nsamples = 1\\nvalue = [0, 0, 1]'),\n",
              " Text(0.39274924471299094, 0.4659090909090909, 'gini = 0.0\\nsamples = 1\\nvalue = [0, 0, 1]'),\n",
              " Text(0.3987915407854985, 0.4734848484848485, 'gini = 0.0\\nsamples = 1\\nvalue = [0, 0, 1]'),\n",
              " Text(0.40483383685800606, 0.4810606060606061, 'gini = 0.0\\nsamples = 1\\nvalue = [0, 1, 0]'),\n",
              " Text(0.4108761329305136, 0.48863636363636365, 'gini = 0.0\\nsamples = 1\\nvalue = [0, 1, 0]'),\n",
              " Text(0.4169184290030212, 0.4962121212121212, 'gini = 0.0\\nsamples = 1\\nvalue = [0, 1, 0]'),\n",
              " Text(0.4229607250755287, 0.5037878787878788, 'gini = 0.0\\nsamples = 1\\nvalue = [0, 1, 0]'),\n",
              " Text(0.42900302114803623, 0.5113636363636364, 'gini = 0.0\\nsamples = 1\\nvalue = [0, 0, 1]'),\n",
              " Text(0.4471299093655589, 0.5189393939393939, 'x[2520] <= 12.042\\ngini = 0.48\\nsamples = 3\\nvalue = [0, 2, 3]'),\n",
              " Text(0.44108761329305135, 0.5113636363636364, 'gini = 0.0\\nsamples = 2\\nvalue = [0, 0, 3]'),\n",
              " Text(0.45317220543806647, 0.5113636363636364, 'gini = 0.0\\nsamples = 1\\nvalue = [0, 2, 0]'),\n",
              " Text(0.4471299093655589, 0.5265151515151515, 'gini = 0.0\\nsamples = 1\\nvalue = [0, 1, 0]'),\n",
              " Text(0.45317220543806647, 0.5340909090909091, 'gini = 0.0\\nsamples = 1\\nvalue = [0, 1, 0]'),\n",
              " Text(0.459214501510574, 0.5416666666666666, 'gini = 0.0\\nsamples = 2\\nvalue = [0, 0, 2]'),\n",
              " Text(0.4652567975830816, 0.5492424242424242, 'gini = 0.0\\nsamples = 1\\nvalue = [0, 0, 1]'),\n",
              " Text(0.48338368580060426, 0.5568181818181818, 'x[766] <= 4.235\\ngini = 0.444\\nsamples = 3\\nvalue = [0, 1, 2]'),\n",
              " Text(0.4773413897280967, 0.5492424242424242, 'x[3792] <= 8.501\\ngini = 0.5\\nsamples = 2\\nvalue = [0, 1, 1]'),\n",
              " Text(0.47129909365558914, 0.5416666666666666, 'gini = 0.0\\nsamples = 1\\nvalue = [0, 0, 1]'),\n",
              " Text(0.48338368580060426, 0.5416666666666666, 'gini = 0.0\\nsamples = 1\\nvalue = [0, 1, 0]'),\n",
              " Text(0.48942598187311176, 0.5492424242424242, 'gini = 0.0\\nsamples = 1\\nvalue = [0, 0, 1]'),\n",
              " Text(0.48338368580060426, 0.5643939393939394, 'gini = 0.0\\nsamples = 2\\nvalue = [0, 2, 0]'),\n",
              " Text(0.5196374622356495, 0.571969696969697, 'x[2657] <= 5.593\\ngini = 0.375\\nsamples = 4\\nvalue = [1, 0, 3]'),\n",
              " Text(0.513595166163142, 0.5643939393939394, 'x[682] <= 12.042\\ngini = 0.444\\nsamples = 3\\nvalue = [1, 0, 2]'),\n",
              " Text(0.5075528700906344, 0.5568181818181818, 'x[1658] <= 8.274\\ngini = 0.5\\nsamples = 2\\nvalue = [1, 0, 1]'),\n",
              " Text(0.5015105740181269, 0.5492424242424242, 'gini = 0.0\\nsamples = 1\\nvalue = [0, 0, 1]'),\n",
              " Text(0.513595166163142, 0.5492424242424242, 'gini = 0.0\\nsamples = 1\\nvalue = [1, 0, 0]'),\n",
              " Text(0.5196374622356495, 0.5568181818181818, 'gini = 0.0\\nsamples = 1\\nvalue = [0, 0, 1]'),\n",
              " Text(0.525679758308157, 0.5643939393939394, 'gini = 0.0\\nsamples = 1\\nvalue = [0, 0, 1]'),\n",
              " Text(0.5105740181268882, 0.5795454545454546, 'gini = 0.0\\nsamples = 1\\nvalue = [0, 1, 0]'),\n",
              " Text(0.5166163141993958, 0.5871212121212122, 'gini = 0.0\\nsamples = 1\\nvalue = [0, 0, 2]'),\n",
              " Text(0.5226586102719033, 0.5946969696969697, 'gini = 0.0\\nsamples = 1\\nvalue = [0, 1, 0]'),\n",
              " Text(0.540785498489426, 0.6022727272727273, 'x[2088] <= 1.942\\ngini = 0.444\\nsamples = 3\\nvalue = [1, 2, 0]'),\n",
              " Text(0.5347432024169184, 0.5946969696969697, 'x[3089] <= 12.042\\ngini = 0.5\\nsamples = 2\\nvalue = [1, 1, 0]'),\n",
              " Text(0.5287009063444109, 0.5871212121212122, 'gini = 0.0\\nsamples = 1\\nvalue = [0, 1, 0]'),\n",
              " Text(0.540785498489426, 0.5871212121212122, 'gini = 0.0\\nsamples = 1\\nvalue = [1, 0, 0]'),\n",
              " Text(0.5468277945619335, 0.5946969696969697, 'gini = 0.0\\nsamples = 1\\nvalue = [0, 1, 0]'),\n",
              " Text(0.540785498489426, 0.6098484848484849, 'gini = 0.0\\nsamples = 2\\nvalue = [0, 3, 0]'),\n",
              " Text(0.5468277945619335, 0.6174242424242424, 'gini = 0.0\\nsamples = 2\\nvalue = [0, 0, 3]'),\n",
              " Text(0.552870090634441, 0.625, 'gini = 0.0\\nsamples = 1\\nvalue = [0, 0, 3]'),\n",
              " Text(0.5589123867069486, 0.6325757575757576, 'gini = 0.0\\nsamples = 1\\nvalue = [0, 2, 0]'),\n",
              " Text(0.5649546827794562, 0.6401515151515151, 'gini = 0.0\\nsamples = 2\\nvalue = [0, 0, 2]'),\n",
              " Text(0.5709969788519638, 0.6477272727272727, 'gini = 0.0\\nsamples = 1\\nvalue = [0, 0, 2]'),\n",
              " Text(0.5770392749244713, 0.6553030303030303, 'gini = 0.0\\nsamples = 1\\nvalue = [0, 0, 2]'),\n",
              " Text(0.5830815709969789, 0.6628787878787878, 'gini = 0.0\\nsamples = 1\\nvalue = [0, 2, 0]'),\n",
              " Text(0.5891238670694864, 0.6704545454545454, 'gini = 0.0\\nsamples = 1\\nvalue = [0, 4, 0]'),\n",
              " Text(0.595166163141994, 0.678030303030303, 'gini = 0.0\\nsamples = 2\\nvalue = [3, 0, 0]'),\n",
              " Text(0.6012084592145015, 0.6856060606060606, 'gini = 0.0\\nsamples = 1\\nvalue = [0, 0, 3]'),\n",
              " Text(0.6193353474320241, 0.6931818181818182, 'x[3898] <= 2.59\\ngini = 0.49\\nsamples = 6\\nvalue = [0, 3, 4]'),\n",
              " Text(0.6132930513595166, 0.6856060606060606, 'x[510] <= 9.52\\ngini = 0.5\\nsamples = 5\\nvalue = [0, 3, 3]'),\n",
              " Text(0.6072507552870091, 0.678030303030303, 'x[109] <= 12.042\\ngini = 0.375\\nsamples = 4\\nvalue = [0, 3, 1]'),\n",
              " Text(0.6012084592145015, 0.6704545454545454, 'x[2661] <= 12.042\\ngini = 0.444\\nsamples = 3\\nvalue = [0, 2, 1]'),\n",
              " Text(0.595166163141994, 0.6628787878787878, 'x[412] <= 3.459\\ngini = 0.5\\nsamples = 2\\nvalue = [0, 1, 1]'),\n",
              " Text(0.5891238670694864, 0.6553030303030303, 'gini = 0.0\\nsamples = 1\\nvalue = [0, 1, 0]'),\n",
              " Text(0.6012084592145015, 0.6553030303030303, 'gini = 0.0\\nsamples = 1\\nvalue = [0, 0, 1]'),\n",
              " Text(0.6072507552870091, 0.6628787878787878, 'gini = 0.0\\nsamples = 1\\nvalue = [0, 1, 0]'),\n",
              " Text(0.6132930513595166, 0.6704545454545454, 'gini = 0.0\\nsamples = 1\\nvalue = [0, 1, 0]'),\n",
              " Text(0.6193353474320241, 0.678030303030303, 'gini = 0.0\\nsamples = 1\\nvalue = [0, 0, 2]'),\n",
              " Text(0.6253776435045317, 0.6856060606060606, 'gini = 0.0\\nsamples = 1\\nvalue = [0, 0, 1]'),\n",
              " Text(0.6193353474320241, 0.7007575757575758, 'gini = 0.0\\nsamples = 1\\nvalue = [0, 0, 2]'),\n",
              " Text(0.6253776435045317, 0.7083333333333334, 'gini = 0.0\\nsamples = 2\\nvalue = [0, 3, 0]'),\n",
              " Text(0.6314199395770392, 0.7159090909090909, 'gini = 0.0\\nsamples = 5\\nvalue = [6, 0, 0]'),\n",
              " Text(0.6374622356495468, 0.7234848484848485, 'gini = 0.0\\nsamples = 5\\nvalue = [0, 0, 7]'),\n",
              " Text(0.6435045317220544, 0.7310606060606061, 'gini = 0.0\\nsamples = 1\\nvalue = [0, 0, 3]'),\n",
              " Text(0.649546827794562, 0.7386363636363636, 'gini = 0.0\\nsamples = 1\\nvalue = [0, 2, 0]'),\n",
              " Text(0.6555891238670695, 0.7462121212121212, 'gini = 0.0\\nsamples = 2\\nvalue = [4, 0, 0]'),\n",
              " Text(0.6616314199395771, 0.7537878787878788, 'gini = 0.0\\nsamples = 1\\nvalue = [0, 0, 3]'),\n",
              " Text(0.6676737160120846, 0.7613636363636364, 'gini = 0.0\\nsamples = 5\\nvalue = [6, 0, 0]'),\n",
              " Text(0.6858006042296072, 0.7689393939393939, 'x[2744] <= 12.042\\ngini = 0.444\\nsamples = 2\\nvalue = [0, 2, 1]'),\n",
              " Text(0.6797583081570997, 0.7613636363636364, 'gini = 0.0\\nsamples = 1\\nvalue = [0, 2, 0]'),\n",
              " Text(0.6918429003021148, 0.7613636363636364, 'gini = 0.0\\nsamples = 1\\nvalue = [0, 0, 1]'),\n",
              " Text(0.6858006042296072, 0.7765151515151515, 'gini = 0.0\\nsamples = 2\\nvalue = [0, 3, 0]'),\n",
              " Text(0.6918429003021148, 0.7840909090909091, 'gini = 0.0\\nsamples = 2\\nvalue = [0, 0, 3]'),\n",
              " Text(0.6978851963746223, 0.7916666666666666, 'gini = 0.0\\nsamples = 1\\nvalue = [0, 1, 0]'),\n",
              " Text(0.7039274924471299, 0.7992424242424242, 'gini = 0.0\\nsamples = 3\\nvalue = [5, 0, 0]'),\n",
              " Text(0.7401812688821753, 0.8068181818181818, 'x[915] <= 4.819\\ngini = 0.498\\nsamples = 10\\nvalue = [0, 9, 8]'),\n",
              " Text(0.7341389728096677, 0.7992424242424242, 'x[2650] <= 9.527\\ngini = 0.48\\nsamples = 9\\nvalue = [0, 9, 6]'),\n",
              " Text(0.7280966767371602, 0.7916666666666666, 'x[2178] <= 4.906\\ngini = 0.5\\nsamples = 8\\nvalue = [0, 6, 6]'),\n",
              " Text(0.7220543806646526, 0.7840909090909091, 'x[1334] <= 5.662\\ngini = 0.444\\nsamples = 7\\nvalue = [0, 6, 3]'),\n",
              " Text(0.716012084592145, 0.7765151515151515, 'x[2808] <= 12.042\\ngini = 0.469\\nsamples = 6\\nvalue = [0, 5, 3]'),\n",
              " Text(0.7099697885196374, 0.7689393939393939, 'x[1377] <= 12.042\\ngini = 0.408\\nsamples = 5\\nvalue = [0, 5, 2]'),\n",
              " Text(0.7039274924471299, 0.7613636363636364, 'x[1053] <= 4.819\\ngini = 0.444\\nsamples = 4\\nvalue = [0, 4, 2]'),\n",
              " Text(0.6978851963746223, 0.7537878787878788, 'x[2101] <= 5.158\\ngini = 0.32\\nsamples = 3\\nvalue = [0, 4, 1]'),\n",
              " Text(0.6918429003021148, 0.7462121212121212, 'x[85] <= 4.202\\ngini = 0.5\\nsamples = 2\\nvalue = [0, 1, 1]'),\n",
              " Text(0.6858006042296072, 0.7386363636363636, 'gini = 0.0\\nsamples = 1\\nvalue = [0, 0, 1]'),\n",
              " Text(0.6978851963746223, 0.7386363636363636, 'gini = 0.0\\nsamples = 1\\nvalue = [0, 1, 0]'),\n",
              " Text(0.7039274924471299, 0.7462121212121212, 'gini = 0.0\\nsamples = 1\\nvalue = [0, 3, 0]'),\n",
              " Text(0.7099697885196374, 0.7537878787878788, 'gini = 0.0\\nsamples = 1\\nvalue = [0, 0, 1]'),\n",
              " Text(0.716012084592145, 0.7613636363636364, 'gini = 0.0\\nsamples = 1\\nvalue = [0, 1, 0]'),\n",
              " Text(0.7220543806646526, 0.7689393939393939, 'gini = 0.0\\nsamples = 1\\nvalue = [0, 0, 1]'),\n",
              " Text(0.7280966767371602, 0.7765151515151515, 'gini = 0.0\\nsamples = 1\\nvalue = [0, 1, 0]'),\n",
              " Text(0.7341389728096677, 0.7840909090909091, 'gini = 0.0\\nsamples = 1\\nvalue = [0, 0, 3]'),\n",
              " Text(0.7401812688821753, 0.7916666666666666, 'gini = 0.0\\nsamples = 1\\nvalue = [0, 3, 0]'),\n",
              " Text(0.7462235649546828, 0.7992424242424242, 'gini = 0.0\\nsamples = 1\\nvalue = [0, 0, 2]'),\n",
              " Text(0.7311178247734139, 0.8143939393939394, 'gini = 0.0\\nsamples = 1\\nvalue = [0, 0, 3]'),\n",
              " Text(0.7371601208459214, 0.821969696969697, 'gini = 0.0\\nsamples = 14\\nvalue = [0, 0, 19]'),\n",
              " Text(0.743202416918429, 0.8295454545454546, 'gini = 0.0\\nsamples = 1\\nvalue = [0, 0, 3]'),\n",
              " Text(0.7492447129909365, 0.8371212121212122, 'gini = 0.0\\nsamples = 2\\nvalue = [4, 0, 0]'),\n",
              " Text(0.7552870090634441, 0.8446969696969697, 'gini = 0.0\\nsamples = 2\\nvalue = [0, 3, 0]'),\n",
              " Text(0.7613293051359517, 0.8522727272727273, 'gini = 0.0\\nsamples = 2\\nvalue = [5, 0, 0]'),\n",
              " Text(0.8126888217522659, 0.8598484848484849, 'x[1682] <= 12.042\\ngini = 0.61\\nsamples = 75\\nvalue = [17, 54, 40]'),\n",
              " Text(0.8066465256797583, 0.8522727272727273, 'x[1996] <= 8.038\\ngini = 0.609\\nsamples = 74\\nvalue = [17, 54, 38]'),\n",
              " Text(0.8006042296072508, 0.8446969696969697, 'x[2398] <= 6.727\\ngini = 0.6\\nsamples = 73\\nvalue = [15, 54, 38]'),\n",
              " Text(0.7945619335347432, 0.8371212121212122, 'x[81] <= 5.823\\ngini = 0.584\\nsamples = 72\\nvalue = [12, 54, 38]'),\n",
              " Text(0.7885196374622356, 0.8295454545454546, 'x[2384] <= 4.827\\ngini = 0.593\\nsamples = 69\\nvalue = [12, 49, 38]'),\n",
              " Text(0.7824773413897281, 0.821969696969697, 'x[85] <= 3.748\\ngini = 0.567\\nsamples = 68\\nvalue = [8, 49, 38]'),\n",
              " Text(0.7764350453172205, 0.8143939393939394, 'x[2485] <= 4.896\\ngini = 0.56\\nsamples = 66\\nvalue = [8, 49, 32]'),\n",
              " Text(0.770392749244713, 0.8068181818181818, 'x[2495] <= 5.613\\ngini = 0.543\\nsamples = 65\\nvalue = [6, 49, 32]'),\n",
              " Text(0.7643504531722054, 0.7992424242424242, 'x[2049] <= 12.042\\ngini = 0.535\\nsamples = 64\\nvalue = [6, 49, 29]'),\n",
              " Text(0.7583081570996979, 0.7916666666666666, 'x[2136] <= 1.122\\ngini = 0.529\\nsamples = 63\\nvalue = [6, 49, 27]'),\n",
              " Text(0.7522658610271903, 0.7840909090909091, 'x[2518] <= 12.042\\ngini = 0.496\\nsamples = 58\\nvalue = [6, 49, 20]'),\n",
              " Text(0.7462235649546828, 0.7765151515151515, 'x[2615] <= 3.568\\ngini = 0.482\\nsamples = 57\\nvalue = [6, 49, 18]'),\n",
              " Text(0.7341389728096677, 0.7689393939393939, 'x[2072] <= 3.196\\ngini = 0.417\\nsamples = 52\\nvalue = [3, 48, 15]'),\n",
              " Text(0.7280966767371602, 0.7613636363636364, 'x[1583] <= 1.546\\ngini = 0.4\\nsamples = 51\\nvalue = [2, 48, 15]'),\n",
              " Text(0.7220543806646526, 0.7537878787878788, 'x[1599] <= 12.042\\ngini = 0.376\\nsamples = 49\\nvalue = [2, 48, 13]'),\n",
              " Text(0.716012084592145, 0.7462121212121212, 'x[1642] <= 1.421\\ngini = 0.356\\nsamples = 48\\nvalue = [1, 48, 13]'),\n",
              " Text(0.7099697885196374, 0.7386363636363636, 'x[690] <= 6.936\\ngini = 0.309\\nsamples = 46\\nvalue = [1, 48, 10]'),\n",
              " Text(0.7039274924471299, 0.7310606060606061, 'x[22] <= 12.042\\ngini = 0.291\\nsamples = 45\\nvalue = [1, 48, 9]'),\n",
              " Text(0.6978851963746223, 0.7234848484848485, 'x[1385] <= 3.386\\ngini = 0.271\\nsamples = 44\\nvalue = [1, 48, 8]'),\n",
              " Text(0.6918429003021148, 0.7159090909090909, 'x[3416] <= 2.556\\ngini = 0.226\\nsamples = 43\\nvalue = [1, 48, 6]'),\n",
              " Text(0.6858006042296072, 0.7083333333333334, 'x[2857] <= 1.934\\ngini = 0.201\\nsamples = 42\\nvalue = [1, 48, 5]'),\n",
              " Text(0.6737160120845922, 0.7007575757575758, 'x[2063] <= 1.886\\ngini = 0.183\\nsamples = 38\\nvalue = [1, 45, 4]'),\n",
              " Text(0.6676737160120846, 0.6931818181818182, 'x[2638] <= 2.552\\ngini = 0.194\\nsamples = 36\\nvalue = [1, 42, 4]'),\n",
              " Text(0.6616314199395771, 0.6856060606060606, 'x[1387] <= 9.383\\ngini = 0.162\\nsamples = 35\\nvalue = [1, 42, 3]'),\n",
              " Text(0.6555891238670695, 0.678030303030303, 'x[891] <= 1.394\\ngini = 0.126\\nsamples = 34\\nvalue = [1, 42, 2]'),\n",
              " Text(0.6435045317220544, 0.6704545454545454, 'x[519] <= 12.042\\ngini = 0.375\\nsamples = 4\\nvalue = [0, 3, 1]'),\n",
              " Text(0.6374622356495468, 0.6628787878787878, 'x[3852] <= 12.042\\ngini = 0.444\\nsamples = 3\\nvalue = [0, 2, 1]'),\n",
              " Text(0.6314199395770392, 0.6553030303030303, 'x[3899] <= 4.911\\ngini = 0.5\\nsamples = 2\\nvalue = [0, 1, 1]'),\n",
              " Text(0.6253776435045317, 0.6477272727272727, 'gini = 0.0\\nsamples = 1\\nvalue = [0, 1, 0]'),\n",
              " Text(0.6374622356495468, 0.6477272727272727, 'gini = 0.0\\nsamples = 1\\nvalue = [0, 0, 1]'),\n",
              " Text(0.6435045317220544, 0.6553030303030303, 'gini = 0.0\\nsamples = 1\\nvalue = [0, 1, 0]'),\n",
              " Text(0.649546827794562, 0.6628787878787878, 'gini = 0.0\\nsamples = 1\\nvalue = [0, 1, 0]'),\n",
              " Text(0.6676737160120846, 0.6704545454545454, 'x[762] <= 6.761\\ngini = 0.094\\nsamples = 30\\nvalue = [1, 39, 1]'),\n",
              " Text(0.6616314199395771, 0.6628787878787878, 'x[1330] <= 1.666\\ngini = 0.099\\nsamples = 29\\nvalue = [1, 37, 1]'),\n",
              " Text(0.6555891238670695, 0.6553030303030303, 'x[2639] <= 4.352\\ngini = 0.109\\nsamples = 26\\nvalue = [1, 33, 1]'),\n",
              " Text(0.649546827794562, 0.6477272727272727, 'x[2263] <= 5.852\\ngini = 0.119\\nsamples = 25\\nvalue = [1, 30, 1]'),\n",
              " Text(0.6435045317220544, 0.6401515151515151, 'x[1319] <= 12.042\\ngini = 0.131\\nsamples = 23\\nvalue = [1, 27, 1]'),\n",
              " Text(0.6374622356495468, 0.6325757575757576, 'x[2304] <= 12.042\\ngini = 0.135\\nsamples = 22\\nvalue = [1, 26, 1]'),\n",
              " Text(0.6314199395770392, 0.625, 'x[2489] <= 6.194\\ngini = 0.14\\nsamples = 21\\nvalue = [1, 25, 1]'),\n",
              " Text(0.6253776435045317, 0.6174242424242424, 'x[2199] <= 5.292\\ngini = 0.15\\nsamples = 20\\nvalue = [1, 23, 1]'),\n",
              " Text(0.6193353474320241, 0.6098484848484849, 'x[217] <= 12.042\\ngini = 0.156\\nsamples = 19\\nvalue = [1, 22, 1]'),\n",
              " Text(0.6132930513595166, 0.6022727272727273, 'x[1237] <= 7.556\\ngini = 0.083\\nsamples = 18\\nvalue = [0, 22, 1]'),\n",
              " Text(0.6072507552870091, 0.5946969696969697, 'x[1011] <= 9.246\\ngini = 0.091\\nsamples = 17\\nvalue = [0, 20, 1]'),\n",
              " Text(0.6012084592145015, 0.5871212121212122, 'x[3241] <= 12.042\\ngini = 0.095\\nsamples = 16\\nvalue = [0, 19, 1]'),\n",
              " Text(0.595166163141994, 0.5795454545454546, 'x[2615] <= 3.115\\ngini = 0.1\\nsamples = 15\\nvalue = [0, 18, 1]'),\n",
              " Text(0.5891238670694864, 0.571969696969697, 'gini = 0.0\\nsamples = 13\\nvalue = [0, 17, 0]'),\n",
              " Text(0.6012084592145015, 0.571969696969697, 'x[1353] <= 6.838\\ngini = 0.5\\nsamples = 2\\nvalue = [0, 1, 1]'),\n",
              " Text(0.595166163141994, 0.5643939393939394, 'gini = 0.0\\nsamples = 1\\nvalue = [0, 1, 0]'),\n",
              " Text(0.6072507552870091, 0.5643939393939394, 'gini = 0.0\\nsamples = 1\\nvalue = [0, 0, 1]'),\n",
              " Text(0.6072507552870091, 0.5795454545454546, 'gini = 0.0\\nsamples = 1\\nvalue = [0, 1, 0]'),\n",
              " Text(0.6132930513595166, 0.5871212121212122, 'gini = 0.0\\nsamples = 1\\nvalue = [0, 1, 0]'),\n",
              " Text(0.6193353474320241, 0.5946969696969697, 'gini = 0.0\\nsamples = 1\\nvalue = [0, 2, 0]'),\n",
              " Text(0.6253776435045317, 0.6022727272727273, 'gini = 0.0\\nsamples = 1\\nvalue = [1, 0, 0]'),\n",
              " Text(0.6314199395770392, 0.6098484848484849, 'gini = 0.0\\nsamples = 1\\nvalue = [0, 1, 0]'),\n",
              " Text(0.6374622356495468, 0.6174242424242424, 'gini = 0.0\\nsamples = 1\\nvalue = [0, 2, 0]'),\n",
              " Text(0.6435045317220544, 0.625, 'gini = 0.0\\nsamples = 1\\nvalue = [0, 1, 0]'),\n",
              " Text(0.649546827794562, 0.6325757575757576, 'gini = 0.0\\nsamples = 1\\nvalue = [0, 1, 0]'),\n",
              " Text(0.6555891238670695, 0.6401515151515151, 'gini = 0.0\\nsamples = 2\\nvalue = [0, 3, 0]'),\n",
              " Text(0.6616314199395771, 0.6477272727272727, 'gini = 0.0\\nsamples = 1\\nvalue = [0, 3, 0]'),\n",
              " Text(0.6676737160120846, 0.6553030303030303, 'gini = 0.0\\nsamples = 3\\nvalue = [0, 4, 0]'),\n",
              " Text(0.6737160120845922, 0.6628787878787878, 'gini = 0.0\\nsamples = 1\\nvalue = [0, 2, 0]'),\n",
              " Text(0.6676737160120846, 0.678030303030303, 'gini = 0.0\\nsamples = 1\\nvalue = [0, 0, 1]'),\n",
              " Text(0.6737160120845922, 0.6856060606060606, 'gini = 0.0\\nsamples = 1\\nvalue = [0, 0, 1]'),\n",
              " Text(0.6797583081570997, 0.6931818181818182, 'gini = 0.0\\nsamples = 2\\nvalue = [0, 3, 0]'),\n",
              " Text(0.6978851963746223, 0.7007575757575758, 'x[2832] <= 12.042\\ngini = 0.375\\nsamples = 4\\nvalue = [0, 3, 1]'),\n",
              " Text(0.6918429003021148, 0.6931818181818182, 'x[2857] <= 4.448\\ngini = 0.444\\nsamples = 3\\nvalue = [0, 2, 1]'),\n",
              " Text(0.6858006042296072, 0.6856060606060606, 'gini = 0.0\\nsamples = 1\\nvalue = [0, 0, 1]'),\n",
              " Text(0.6978851963746223, 0.6856060606060606, 'gini = 0.0\\nsamples = 2\\nvalue = [0, 2, 0]'),\n",
              " Text(0.7039274924471299, 0.6931818181818182, 'gini = 0.0\\nsamples = 1\\nvalue = [0, 1, 0]'),\n",
              " Text(0.6978851963746223, 0.7083333333333334, 'gini = 0.0\\nsamples = 1\\nvalue = [0, 0, 1]'),\n",
              " Text(0.7039274924471299, 0.7159090909090909, 'gini = 0.0\\nsamples = 1\\nvalue = [0, 0, 2]'),\n",
              " Text(0.7099697885196374, 0.7234848484848485, 'gini = 0.0\\nsamples = 1\\nvalue = [0, 0, 1]'),\n",
              " Text(0.716012084592145, 0.7310606060606061, 'gini = 0.0\\nsamples = 1\\nvalue = [0, 0, 1]'),\n",
              " Text(0.7220543806646526, 0.7386363636363636, 'gini = 0.0\\nsamples = 2\\nvalue = [0, 0, 3]'),\n",
              " Text(0.7280966767371602, 0.7462121212121212, 'gini = 0.0\\nsamples = 1\\nvalue = [1, 0, 0]'),\n",
              " Text(0.7341389728096677, 0.7537878787878788, 'gini = 0.0\\nsamples = 2\\nvalue = [0, 0, 2]'),\n",
              " Text(0.7401812688821753, 0.7613636363636364, 'gini = 0.0\\nsamples = 1\\nvalue = [1, 0, 0]'),\n",
              " Text(0.7583081570996979, 0.7689393939393939, 'x[3586] <= 3.731\\ngini = 0.612\\nsamples = 5\\nvalue = [3, 1, 3]'),\n",
              " Text(0.7522658610271903, 0.7613636363636364, 'gini = 0.0\\nsamples = 2\\nvalue = [3, 0, 0]'),\n",
              " Text(0.7643504531722054, 0.7613636363636364, 'x[2615] <= 4.375\\ngini = 0.375\\nsamples = 3\\nvalue = [0, 1, 3]'),\n",
              " Text(0.7583081570996979, 0.7537878787878788, 'gini = 0.0\\nsamples = 2\\nvalue = [0, 0, 3]'),\n",
              " Text(0.770392749244713, 0.7537878787878788, 'gini = 0.0\\nsamples = 1\\nvalue = [0, 1, 0]'),\n",
              " Text(0.7583081570996979, 0.7765151515151515, 'gini = 0.0\\nsamples = 1\\nvalue = [0, 0, 2]'),\n",
              " Text(0.7643504531722054, 0.7840909090909091, 'gini = 0.0\\nsamples = 5\\nvalue = [0, 0, 7]'),\n",
              " Text(0.770392749244713, 0.7916666666666666, 'gini = 0.0\\nsamples = 1\\nvalue = [0, 0, 2]'),\n",
              " Text(0.7764350453172205, 0.7992424242424242, 'gini = 0.0\\nsamples = 1\\nvalue = [0, 0, 3]'),\n",
              " Text(0.7824773413897281, 0.8068181818181818, 'gini = 0.0\\nsamples = 1\\nvalue = [2, 0, 0]'),\n",
              " Text(0.7885196374622356, 0.8143939393939394, 'gini = 0.0\\nsamples = 2\\nvalue = [0, 0, 6]'),\n",
              " Text(0.7945619335347432, 0.821969696969697, 'gini = 0.0\\nsamples = 1\\nvalue = [4, 0, 0]'),\n",
              " Text(0.8006042296072508, 0.8295454545454546, 'gini = 0.0\\nsamples = 3\\nvalue = [0, 5, 0]'),\n",
              " Text(0.8066465256797583, 0.8371212121212122, 'gini = 0.0\\nsamples = 1\\nvalue = [3, 0, 0]'),\n",
              " Text(0.8126888217522659, 0.8446969696969697, 'gini = 0.0\\nsamples = 1\\nvalue = [2, 0, 0]'),\n",
              " Text(0.8187311178247734, 0.8522727272727273, 'gini = 0.0\\nsamples = 1\\nvalue = [0, 0, 2]'),\n",
              " Text(0.7960725075528701, 0.8674242424242424, 'gini = 0.0\\nsamples = 2\\nvalue = [3, 0, 0]'),\n",
              " Text(0.8021148036253777, 0.875, 'gini = 0.0\\nsamples = 2\\nvalue = [4, 0, 0]'),\n",
              " Text(0.8081570996978852, 0.8825757575757576, 'gini = 0.0\\nsamples = 2\\nvalue = [0, 0, 4]'),\n",
              " Text(0.8262839879154078, 0.8901515151515151, 'x[3586] <= 1.449\\ngini = 0.198\\nsamples = 3\\nvalue = [8, 0, 1]'),\n",
              " Text(0.8202416918429003, 0.8825757575757576, 'gini = 0.0\\nsamples = 2\\nvalue = [8, 0, 0]'),\n",
              " Text(0.8323262839879154, 0.8825757575757576, 'gini = 0.0\\nsamples = 1\\nvalue = [0, 0, 1]'),\n",
              " Text(0.8262839879154078, 0.8977272727272727, 'gini = 0.0\\nsamples = 1\\nvalue = [0, 3, 0]'),\n",
              " Text(0.8323262839879154, 0.9053030303030303, 'gini = 0.0\\nsamples = 1\\nvalue = [0, 3, 0]'),\n",
              " Text(0.850453172205438, 0.9128787878787878, 'x[930] <= 12.042\\ngini = 0.142\\nsamples = 6\\nvalue = [12, 0, 1]'),\n",
              " Text(0.8444108761329305, 0.9053030303030303, 'gini = 0.0\\nsamples = 5\\nvalue = [12, 0, 0]'),\n",
              " Text(0.8564954682779456, 0.9053030303030303, 'gini = 0.0\\nsamples = 1\\nvalue = [0, 0, 1]'),\n",
              " Text(0.850453172205438, 0.9204545454545454, 'gini = 0.0\\nsamples = 3\\nvalue = [4, 0, 0]'),\n",
              " Text(0.8972809667673716, 0.928030303030303, 'x[2614] <= 12.042\\ngini = 0.412\\nsamples = 30\\nvalue = [7, 38, 6]'),\n",
              " Text(0.8912386706948641, 0.9204545454545454, 'x[251] <= 12.042\\ngini = 0.351\\nsamples = 29\\nvalue = [4, 38, 6]'),\n",
              " Text(0.8851963746223565, 0.9128787878787878, 'x[927] <= 6.212\\ngini = 0.302\\nsamples = 28\\nvalue = [4, 38, 4]'),\n",
              " Text(0.879154078549849, 0.9053030303030303, 'x[1197] <= 12.042\\ngini = 0.32\\nsamples = 27\\nvalue = [4, 35, 4]'),\n",
              " Text(0.8731117824773413, 0.8977272727272727, 'x[2154] <= 5.313\\ngini = 0.34\\nsamples = 26\\nvalue = [4, 32, 4]'),\n",
              " Text(0.8670694864048338, 0.8901515151515151, 'x[190] <= 12.042\\ngini = 0.388\\nsamples = 23\\nvalue = [4, 26, 4]'),\n",
              " Text(0.8610271903323263, 0.8825757575757576, 'x[370] <= 12.042\\ngini = 0.397\\nsamples = 22\\nvalue = [4, 25, 4]'),\n",
              " Text(0.8549848942598187, 0.875, 'x[1291] <= 3.866\\ngini = 0.365\\nsamples = 21\\nvalue = [4, 25, 3]'),\n",
              " Text(0.8489425981873112, 0.8674242424242424, 'x[3495] <= 9.727\\ngini = 0.191\\nsamples = 20\\nvalue = [0, 25, 3]'),\n",
              " Text(0.8429003021148036, 0.8598484848484849, 'x[1290] <= 3.06\\ngini = 0.227\\nsamples = 17\\nvalue = [0, 20, 3]'),\n",
              " Text(0.8368580060422961, 0.8522727272727273, 'x[397] <= 12.042\\ngini = 0.245\\nsamples = 16\\nvalue = [0, 18, 3]'),\n",
              " Text(0.8308157099697885, 0.8446969696969697, 'x[1987] <= 2.834\\ngini = 0.291\\nsamples = 15\\nvalue = [0, 14, 3]'),\n",
              " Text(0.824773413897281, 0.8371212121212122, 'x[2861] <= 1.613\\ngini = 0.219\\nsamples = 14\\nvalue = [0, 14, 2]'),\n",
              " Text(0.8187311178247734, 0.8295454545454546, 'x[591] <= 12.042\\ngini = 0.231\\nsamples = 13\\nvalue = [0, 13, 2]'),\n",
              " Text(0.8126888217522659, 0.821969696969697, 'x[25] <= 3.277\\ngini = 0.245\\nsamples = 12\\nvalue = [0, 12, 2]'),\n",
              " Text(0.8066465256797583, 0.8143939393939394, 'x[1928] <= 12.042\\ngini = 0.142\\nsamples = 11\\nvalue = [0, 12, 1]'),\n",
              " Text(0.8006042296072508, 0.8068181818181818, 'x[1251] <= 9.323\\ngini = 0.153\\nsamples = 10\\nvalue = [0, 11, 1]'),\n",
              " Text(0.7945619335347432, 0.7992424242424242, 'x[1160] <= 2.248\\ngini = 0.165\\nsamples = 9\\nvalue = [0, 10, 1]'),\n",
              " Text(0.7885196374622356, 0.7916666666666666, 'x[767] <= 3.803\\ngini = 0.198\\nsamples = 8\\nvalue = [0, 8, 1]'),\n",
              " Text(0.7824773413897281, 0.7840909090909091, 'x[3356] <= 9.24\\ngini = 0.245\\nsamples = 7\\nvalue = [0, 6, 1]'),\n",
              " Text(0.7764350453172205, 0.7765151515151515, 'x[748] <= 6.965\\ngini = 0.278\\nsamples = 6\\nvalue = [0, 5, 1]'),\n",
              " Text(0.770392749244713, 0.7689393939393939, 'gini = 0.0\\nsamples = 5\\nvalue = [0, 5, 0]'),\n",
              " Text(0.7824773413897281, 0.7689393939393939, 'gini = 0.0\\nsamples = 1\\nvalue = [0, 0, 1]'),\n",
              " Text(0.7885196374622356, 0.7765151515151515, 'gini = 0.0\\nsamples = 1\\nvalue = [0, 1, 0]'),\n",
              " Text(0.7945619335347432, 0.7840909090909091, 'gini = 0.0\\nsamples = 1\\nvalue = [0, 2, 0]'),\n",
              " Text(0.8006042296072508, 0.7916666666666666, 'gini = 0.0\\nsamples = 1\\nvalue = [0, 2, 0]'),\n",
              " Text(0.8066465256797583, 0.7992424242424242, 'gini = 0.0\\nsamples = 1\\nvalue = [0, 1, 0]'),\n",
              " Text(0.8126888217522659, 0.8068181818181818, 'gini = 0.0\\nsamples = 1\\nvalue = [0, 1, 0]'),\n",
              " Text(0.8187311178247734, 0.8143939393939394, 'gini = 0.0\\nsamples = 1\\nvalue = [0, 0, 1]'),\n",
              " Text(0.824773413897281, 0.821969696969697, 'gini = 0.0\\nsamples = 1\\nvalue = [0, 1, 0]'),\n",
              " Text(0.8308157099697885, 0.8295454545454546, 'gini = 0.0\\nsamples = 1\\nvalue = [0, 1, 0]'),\n",
              " Text(0.8368580060422961, 0.8371212121212122, 'gini = 0.0\\nsamples = 1\\nvalue = [0, 0, 1]'),\n",
              " Text(0.8429003021148036, 0.8446969696969697, 'gini = 0.0\\nsamples = 1\\nvalue = [0, 4, 0]'),\n",
              " Text(0.8489425981873112, 0.8522727272727273, 'gini = 0.0\\nsamples = 1\\nvalue = [0, 2, 0]'),\n",
              " Text(0.8549848942598187, 0.8598484848484849, 'gini = 0.0\\nsamples = 3\\nvalue = [0, 5, 0]'),\n",
              " Text(0.8610271903323263, 0.8674242424242424, 'gini = 0.0\\nsamples = 1\\nvalue = [4, 0, 0]'),\n",
              " Text(0.8670694864048338, 0.875, 'gini = 0.0\\nsamples = 1\\nvalue = [0, 0, 1]'),\n",
              " Text(0.8731117824773413, 0.8825757575757576, 'gini = 0.0\\nsamples = 1\\nvalue = [0, 1, 0]'),\n",
              " Text(0.879154078549849, 0.8901515151515151, 'gini = 0.0\\nsamples = 3\\nvalue = [0, 6, 0]'),\n",
              " Text(0.8851963746223565, 0.8977272727272727, 'gini = 0.0\\nsamples = 1\\nvalue = [0, 3, 0]'),\n",
              " Text(0.8912386706948641, 0.9053030303030303, 'gini = 0.0\\nsamples = 1\\nvalue = [0, 3, 0]'),\n",
              " Text(0.8972809667673716, 0.9128787878787878, 'gini = 0.0\\nsamples = 1\\nvalue = [0, 0, 2]'),\n",
              " Text(0.9033232628398792, 0.9204545454545454, 'gini = 0.0\\nsamples = 1\\nvalue = [3, 0, 0]'),\n",
              " Text(0.8829305135951662, 0.9356060606060606, 'gini = 0.0\\nsamples = 5\\nvalue = [0, 7, 0]'),\n",
              " Text(0.8889728096676737, 0.9431818181818182, 'gini = 0.0\\nsamples = 3\\nvalue = [6, 0, 0]'),\n",
              " Text(0.8950151057401813, 0.9507575757575758, 'gini = 0.0\\nsamples = 6\\nvalue = [8, 0, 0]'),\n",
              " Text(0.9010574018126888, 0.9583333333333334, 'gini = 0.0\\nsamples = 1\\nvalue = [7, 0, 0]'),\n",
              " Text(0.9070996978851964, 0.9659090909090909, 'gini = 0.0\\nsamples = 5\\nvalue = [0, 9, 0]'),\n",
              " Text(0.9637462235649547, 0.9734848484848485, 'x[2489] <= 3.045\\ngini = 0.503\\nsamples = 22\\nvalue = [8, 4, 23]'),\n",
              " Text(0.9577039274924471, 0.9659090909090909, 'x[2002] <= 1.926\\ngini = 0.443\\nsamples = 20\\nvalue = [5, 4, 23]'),\n",
              " Text(0.945619335347432, 0.9583333333333334, 'x[1333] <= 6.743\\ngini = 0.39\\nsamples = 18\\nvalue = [5, 2, 22]'),\n",
              " Text(0.9395770392749244, 0.9507575757575758, 'x[851] <= 7.557\\ngini = 0.349\\nsamples = 17\\nvalue = [5, 1, 22]'),\n",
              " Text(0.9335347432024169, 0.9431818181818182, 'x[1880] <= 12.042\\ngini = 0.359\\nsamples = 16\\nvalue = [5, 1, 21]'),\n",
              " Text(0.9274924471299094, 0.9356060606060606, 'x[806] <= 3.592\\ngini = 0.322\\nsamples = 15\\nvalue = [4, 1, 21]'),\n",
              " Text(0.9214501510574018, 0.928030303030303, 'x[3329] <= 2.722\\ngini = 0.278\\nsamples = 14\\nvalue = [3, 1, 21]'),\n",
              " Text(0.9154078549848943, 0.9204545454545454, 'x[2150] <= 12.042\\ngini = 0.299\\nsamples = 13\\nvalue = [3, 1, 19]'),\n",
              " Text(0.9093655589123867, 0.9128787878787878, 'x[3060] <= 4.979\\ngini = 0.244\\nsamples = 12\\nvalue = [2, 1, 19]'),\n",
              " Text(0.9033232628398792, 0.9053030303030303, 'x[1486] <= 7.772\\ngini = 0.277\\nsamples = 11\\nvalue = [2, 1, 16]'),\n",
              " Text(0.8972809667673716, 0.8977272727272727, 'x[1590] <= 2.811\\ngini = 0.29\\nsamples = 10\\nvalue = [2, 1, 15]'),\n",
              " Text(0.8912386706948641, 0.8901515151515151, 'x[1438] <= 12.042\\ngini = 0.208\\nsamples = 9\\nvalue = [2, 0, 15]'),\n",
              " Text(0.8851963746223565, 0.8825757575757576, 'x[584] <= 3.892\\ngini = 0.219\\nsamples = 8\\nvalue = [2, 0, 14]'),\n",
              " Text(0.879154078549849, 0.875, 'x[2697] <= 7.109\\ngini = 0.231\\nsamples = 7\\nvalue = [2, 0, 13]'),\n",
              " Text(0.8731117824773413, 0.8674242424242424, 'x[917] <= 12.042\\ngini = 0.278\\nsamples = 6\\nvalue = [2, 0, 10]'),\n",
              " Text(0.8670694864048338, 0.8598484848484849, 'x[2985] <= 12.042\\ngini = 0.165\\nsamples = 5\\nvalue = [1, 0, 10]'),\n",
              " Text(0.8610271903323263, 0.8522727272727273, 'x[2422] <= 6.215\\ngini = 0.198\\nsamples = 4\\nvalue = [1, 0, 8]'),\n",
              " Text(0.8549848942598187, 0.8446969696969697, 'x[2088] <= 1.513\\ngini = 0.278\\nsamples = 3\\nvalue = [1, 0, 5]'),\n",
              " Text(0.8489425981873112, 0.8371212121212122, 'gini = 0.0\\nsamples = 1\\nvalue = [0, 0, 3]'),\n",
              " Text(0.8610271903323263, 0.8371212121212122, 'x[2213] <= 6.763\\ngini = 0.444\\nsamples = 2\\nvalue = [1, 0, 2]'),\n",
              " Text(0.8549848942598187, 0.8295454545454546, 'gini = 0.0\\nsamples = 1\\nvalue = [0, 0, 2]'),\n",
              " Text(0.8670694864048338, 0.8295454545454546, 'gini = 0.0\\nsamples = 1\\nvalue = [1, 0, 0]'),\n",
              " Text(0.8670694864048338, 0.8446969696969697, 'gini = 0.0\\nsamples = 1\\nvalue = [0, 0, 3]'),\n",
              " Text(0.8731117824773413, 0.8522727272727273, 'gini = 0.0\\nsamples = 1\\nvalue = [0, 0, 2]'),\n",
              " Text(0.879154078549849, 0.8598484848484849, 'gini = 0.0\\nsamples = 1\\nvalue = [1, 0, 0]'),\n",
              " Text(0.8851963746223565, 0.8674242424242424, 'gini = 0.0\\nsamples = 1\\nvalue = [0, 0, 3]'),\n",
              " Text(0.8912386706948641, 0.875, 'gini = 0.0\\nsamples = 1\\nvalue = [0, 0, 1]'),\n",
              " Text(0.8972809667673716, 0.8825757575757576, 'gini = 0.0\\nsamples = 1\\nvalue = [0, 0, 1]'),\n",
              " Text(0.9033232628398792, 0.8901515151515151, 'gini = 0.0\\nsamples = 1\\nvalue = [0, 1, 0]'),\n",
              " Text(0.9093655589123867, 0.8977272727272727, 'gini = 0.0\\nsamples = 1\\nvalue = [0, 0, 1]'),\n",
              " Text(0.9154078549848943, 0.9053030303030303, 'gini = 0.0\\nsamples = 1\\nvalue = [0, 0, 3]'),\n",
              " Text(0.9214501510574018, 0.9128787878787878, 'gini = 0.0\\nsamples = 1\\nvalue = [1, 0, 0]'),\n",
              " Text(0.9274924471299094, 0.9204545454545454, 'gini = 0.0\\nsamples = 1\\nvalue = [0, 0, 2]'),\n",
              " Text(0.9335347432024169, 0.928030303030303, 'gini = 0.0\\nsamples = 1\\nvalue = [1, 0, 0]'),\n",
              " Text(0.9395770392749244, 0.9356060606060606, 'gini = 0.0\\nsamples = 1\\nvalue = [1, 0, 0]'),\n",
              " Text(0.945619335347432, 0.9431818181818182, 'gini = 0.0\\nsamples = 1\\nvalue = [0, 0, 1]'),\n",
              " Text(0.9516616314199395, 0.9507575757575758, 'gini = 0.0\\nsamples = 1\\nvalue = [0, 1, 0]'),\n",
              " Text(0.9697885196374623, 0.9583333333333334, 'x[438] <= 3.854\\ngini = 0.444\\nsamples = 2\\nvalue = [0, 2, 1]'),\n",
              " Text(0.9637462235649547, 0.9507575757575758, 'gini = 0.0\\nsamples = 1\\nvalue = [0, 0, 1]'),\n",
              " Text(0.9758308157099698, 0.9507575757575758, 'gini = 0.0\\nsamples = 1\\nvalue = [0, 2, 0]'),\n",
              " Text(0.9697885196374623, 0.9659090909090909, 'gini = 0.0\\nsamples = 2\\nvalue = [3, 0, 0]'),\n",
              " Text(0.9444864048338368, 0.9810606060606061, 'gini = 0.0\\nsamples = 6\\nvalue = [7, 0, 0]'),\n",
              " Text(0.9879154078549849, 0.9886363636363636, 'x[938] <= 6.746\\ngini = 0.124\\nsamples = 9\\nvalue = [0, 14, 1]'),\n",
              " Text(0.9818731117824774, 0.9810606060606061, 'x[3686] <= 5.333\\ngini = 0.165\\nsamples = 8\\nvalue = [0, 10, 1]'),\n",
              " Text(0.9758308157099698, 0.9734848484848485, 'gini = 0.0\\nsamples = 7\\nvalue = [0, 10, 0]'),\n",
              " Text(0.9879154078549849, 0.9734848484848485, 'gini = 0.0\\nsamples = 1\\nvalue = [0, 0, 1]'),\n",
              " Text(0.9939577039274925, 0.9810606060606061, 'gini = 0.0\\nsamples = 1\\nvalue = [0, 4, 0]')]"
            ]
          },
          "metadata": {},
          "execution_count": 217
        },
        {
          "output_type": "display_data",
          "data": {
            "text/plain": [
              "<Figure size 640x480 with 1 Axes>"
            ],
            "image/png": "[encoded data removed]"
          },
          "metadata": {}
        }
      ]
    },
    {
      "cell_type": "code",
      "source": [
        "report=classification_report(y_pred,y_test)\n",
        "report\n"
      ],
      "metadata": {
        "colab": {
          "base_uri": "https://localhost:8080/",
          "height": 73
        },
        "id": "5-ZZUymXDWI8",
        "outputId": "d9433dec-ba50-4dc2-ac06-aa9397e88980"
      },
      "execution_count": null,
      "outputs": [
        {
          "output_type": "execute_result",
          "data": {
            "text/plain": [
              "'              precision    recall  f1-score   support\\n\\n          -1       0.52      0.57      0.54        69\\n           0       0.68      0.43      0.53       133\\n           1       0.31      0.60      0.41        47\\n\\n    accuracy                           0.50       249\\n   macro avg       0.50      0.53      0.49       249\\nweighted avg       0.57      0.50      0.51       249\\n'"
            ],
            "application/vnd.google.colaboratory.intrinsic+json": {
              "type": "string"
            }
          },
          "metadata": {},
          "execution_count": 218
        }
      ]
    },
    {
      "cell_type": "code",
      "source": [
        "#plotting confusion matrix display\n",
        "result=confusion_matrix(y_test,y_pred)\n",
        "labels=[\"positive\",\"negative\",\"neutral\"]\n",
        "cmd=ConfusionMatrixDisplay(result,display_labels=labels)\n",
        "cmd.plot()"
      ],
      "metadata": {
        "colab": {
          "base_uri": "https://localhost:8080/",
          "height": 467
        },
        "id": "HOKxoNdIDuKa",
        "outputId": "615f6cbe-950d-4c5b-de91-9da6ff483227"
      },
      "execution_count": null,
      "outputs": [
        {
          "output_type": "execute_result",
          "data": {
            "text/plain": [
              "<sklearn.metrics._plot.confusion_matrix.ConfusionMatrixDisplay at 0x7fed4fd575e0>"
            ]
          },
          "metadata": {},
          "execution_count": 219
        },
        {
          "output_type": "display_data",
          "data": {
            "text/plain": [
              "<Figure size 640x480 with 2 Axes>"
            ],
            "image/png": "[encoded data removed]"
          },
          "metadata": {}
        }
      ]
    }
  ]
}