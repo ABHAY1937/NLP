{
  "nbformat": 4,
  "nbformat_minor": 0,
  "metadata": {
    "colab": {
      "provenance": [],
      "gpuType": "T4",
      "authorship_tag": "ABX9TyM5cEEmnyqxSlLpEH2YjxvG",
      "include_colab_link": true
    },
    "kernelspec": {
      "name": "python3",
      "display_name": "Python 3"
    },
    "language_info": {
      "name": "python"
    },
    "accelerator": "GPU"
  },
  "cells": [
    {
      "cell_type": "markdown",
      "metadata": {
        "id": "view-in-github",
        "colab_type": "text"
      },
      "source": [
        "<a href=\"https://colab.research.google.com/github/ABHAY1937/NLP/blob/main/Word_Embedding_Techniques.ipynb\" target=\"_parent\"><img src=\"https://colab.research.google.com/assets/colab-badge.svg\" alt=\"Open In Colab\"/></a>"
      ]
    },
    {
      "cell_type": "code",
      "source": [
        "!pip install --upgrade pip\n"
      ],
      "metadata": {
        "colab": {
          "base_uri": "https://localhost:8080/"
        },
        "id": "ad3a_KM11jCm",
        "outputId": "3b3e82c8-3463-4750-ff0f-da5fac9f868e"
      },
      "execution_count": 34,
      "outputs": [
        {
          "output_type": "stream",
          "name": "stdout",
          "text": [
            "Requirement already satisfied: pip in /usr/local/lib/python3.10/dist-packages (23.1.2)\n"
          ]
        }
      ]
    },
    {
      "cell_type": "code",
      "source": [
        "!pip install tensorflow-gpu==2.8.0\n",
        "\n"
      ],
      "metadata": {
        "colab": {
          "base_uri": "https://localhost:8080/"
        },
        "id": "_vI3Aw2I16i2",
        "outputId": "cba76335-787f-4311-ba58-7fa208dab62a"
      },
      "execution_count": 35,
      "outputs": [
        {
          "output_type": "stream",
          "name": "stdout",
          "text": [
            "Requirement already satisfied: tensorflow-gpu==2.8.0 in /usr/local/lib/python3.10/dist-packages (2.8.0)\n",
            "Requirement already satisfied: absl-py>=0.4.0 in /usr/local/lib/python3.10/dist-packages (from tensorflow-gpu==2.8.0) (1.4.0)\n",
            "Requirement already satisfied: astunparse>=1.6.0 in /usr/local/lib/python3.10/dist-packages (from tensorflow-gpu==2.8.0) (1.6.3)\n",
            "Requirement already satisfied: flatbuffers>=1.12 in /usr/local/lib/python3.10/dist-packages (from tensorflow-gpu==2.8.0) (23.5.26)\n",
            "Requirement already satisfied: gast>=0.2.1 in /usr/local/lib/python3.10/dist-packages (from tensorflow-gpu==2.8.0) (0.4.0)\n",
            "Requirement already satisfied: google-pasta>=0.1.1 in /usr/local/lib/python3.10/dist-packages (from tensorflow-gpu==2.8.0) (0.2.0)\n",
            "Requirement already satisfied: h5py>=2.9.0 in /usr/local/lib/python3.10/dist-packages (from tensorflow-gpu==2.8.0) (3.8.0)\n",
            "Requirement already satisfied: keras-preprocessing>=1.1.1 in /usr/local/lib/python3.10/dist-packages (from tensorflow-gpu==2.8.0) (1.1.2)\n",
            "Requirement already satisfied: libclang>=9.0.1 in /usr/local/lib/python3.10/dist-packages (from tensorflow-gpu==2.8.0) (16.0.0)\n",
            "Requirement already satisfied: numpy>=1.20 in /usr/local/lib/python3.10/dist-packages (from tensorflow-gpu==2.8.0) (1.22.4)\n",
            "Requirement already satisfied: opt-einsum>=2.3.2 in /usr/local/lib/python3.10/dist-packages (from tensorflow-gpu==2.8.0) (3.3.0)\n",
            "Requirement already satisfied: protobuf>=3.9.2 in /usr/local/lib/python3.10/dist-packages (from tensorflow-gpu==2.8.0) (3.20.3)\n",
            "Requirement already satisfied: setuptools in /usr/local/lib/python3.10/dist-packages (from tensorflow-gpu==2.8.0) (67.7.2)\n",
            "Requirement already satisfied: six>=1.12.0 in /usr/local/lib/python3.10/dist-packages (from tensorflow-gpu==2.8.0) (1.16.0)\n",
            "Requirement already satisfied: termcolor>=1.1.0 in /usr/local/lib/python3.10/dist-packages (from tensorflow-gpu==2.8.0) (2.3.0)\n",
            "Requirement already satisfied: typing-extensions>=3.6.6 in /usr/local/lib/python3.10/dist-packages (from tensorflow-gpu==2.8.0) (4.6.3)\n",
            "Requirement already satisfied: wrapt>=1.11.0 in /usr/local/lib/python3.10/dist-packages (from tensorflow-gpu==2.8.0) (1.14.1)\n",
            "Requirement already satisfied: tensorboard<2.9,>=2.8 in /usr/local/lib/python3.10/dist-packages (from tensorflow-gpu==2.8.0) (2.8.0)\n",
            "Requirement already satisfied: tf-estimator-nightly==2.8.0.dev2021122109 in /usr/local/lib/python3.10/dist-packages (from tensorflow-gpu==2.8.0) (2.8.0.dev2021122109)\n",
            "Requirement already satisfied: keras<2.9,>=2.8.0rc0 in /usr/local/lib/python3.10/dist-packages (from tensorflow-gpu==2.8.0) (2.8.0)\n",
            "Requirement already satisfied: tensorflow-io-gcs-filesystem>=0.23.1 in /usr/local/lib/python3.10/dist-packages (from tensorflow-gpu==2.8.0) (0.32.0)\n",
            "Requirement already satisfied: grpcio<2.0,>=1.24.3 in /usr/local/lib/python3.10/dist-packages (from tensorflow-gpu==2.8.0) (1.56.0)\n",
            "Requirement already satisfied: wheel<1.0,>=0.23.0 in /usr/local/lib/python3.10/dist-packages (from astunparse>=1.6.0->tensorflow-gpu==2.8.0) (0.40.0)\n",
            "Requirement already satisfied: google-auth<3,>=1.6.3 in /usr/local/lib/python3.10/dist-packages (from tensorboard<2.9,>=2.8->tensorflow-gpu==2.8.0) (2.17.3)\n",
            "Requirement already satisfied: google-auth-oauthlib<0.5,>=0.4.1 in /usr/local/lib/python3.10/dist-packages (from tensorboard<2.9,>=2.8->tensorflow-gpu==2.8.0) (0.4.6)\n",
            "Requirement already satisfied: markdown>=2.6.8 in /usr/local/lib/python3.10/dist-packages (from tensorboard<2.9,>=2.8->tensorflow-gpu==2.8.0) (3.4.3)\n",
            "Requirement already satisfied: requests<3,>=2.21.0 in /usr/local/lib/python3.10/dist-packages (from tensorboard<2.9,>=2.8->tensorflow-gpu==2.8.0) (2.27.1)\n",
            "Requirement already satisfied: tensorboard-data-server<0.7.0,>=0.6.0 in /usr/local/lib/python3.10/dist-packages (from tensorboard<2.9,>=2.8->tensorflow-gpu==2.8.0) (0.6.1)\n",
            "Requirement already satisfied: tensorboard-plugin-wit>=1.6.0 in /usr/local/lib/python3.10/dist-packages (from tensorboard<2.9,>=2.8->tensorflow-gpu==2.8.0) (1.8.1)\n",
            "Requirement already satisfied: werkzeug>=0.11.15 in /usr/local/lib/python3.10/dist-packages (from tensorboard<2.9,>=2.8->tensorflow-gpu==2.8.0) (2.3.6)\n",
            "Requirement already satisfied: cachetools<6.0,>=2.0.0 in /usr/local/lib/python3.10/dist-packages (from google-auth<3,>=1.6.3->tensorboard<2.9,>=2.8->tensorflow-gpu==2.8.0) (5.3.1)\n",
            "Requirement already satisfied: pyasn1-modules>=0.2.1 in /usr/local/lib/python3.10/dist-packages (from google-auth<3,>=1.6.3->tensorboard<2.9,>=2.8->tensorflow-gpu==2.8.0) (0.3.0)\n",
            "Requirement already satisfied: rsa<5,>=3.1.4 in /usr/local/lib/python3.10/dist-packages (from google-auth<3,>=1.6.3->tensorboard<2.9,>=2.8->tensorflow-gpu==2.8.0) (4.9)\n",
            "Requirement already satisfied: requests-oauthlib>=0.7.0 in /usr/local/lib/python3.10/dist-packages (from google-auth-oauthlib<0.5,>=0.4.1->tensorboard<2.9,>=2.8->tensorflow-gpu==2.8.0) (1.3.1)\n",
            "Requirement already satisfied: urllib3<1.27,>=1.21.1 in /usr/local/lib/python3.10/dist-packages (from requests<3,>=2.21.0->tensorboard<2.9,>=2.8->tensorflow-gpu==2.8.0) (1.26.16)\n",
            "Requirement already satisfied: certifi>=2017.4.17 in /usr/local/lib/python3.10/dist-packages (from requests<3,>=2.21.0->tensorboard<2.9,>=2.8->tensorflow-gpu==2.8.0) (2023.5.7)\n",
            "Requirement already satisfied: charset-normalizer~=2.0.0 in /usr/local/lib/python3.10/dist-packages (from requests<3,>=2.21.0->tensorboard<2.9,>=2.8->tensorflow-gpu==2.8.0) (2.0.12)\n",
            "Requirement already satisfied: idna<4,>=2.5 in /usr/local/lib/python3.10/dist-packages (from requests<3,>=2.21.0->tensorboard<2.9,>=2.8->tensorflow-gpu==2.8.0) (3.4)\n",
            "Requirement already satisfied: MarkupSafe>=2.1.1 in /usr/local/lib/python3.10/dist-packages (from werkzeug>=0.11.15->tensorboard<2.9,>=2.8->tensorflow-gpu==2.8.0) (2.1.3)\n",
            "Requirement already satisfied: pyasn1<0.6.0,>=0.4.6 in /usr/local/lib/python3.10/dist-packages (from pyasn1-modules>=0.2.1->google-auth<3,>=1.6.3->tensorboard<2.9,>=2.8->tensorflow-gpu==2.8.0) (0.5.0)\n",
            "Requirement already satisfied: oauthlib>=3.0.0 in /usr/local/lib/python3.10/dist-packages (from requests-oauthlib>=0.7.0->google-auth-oauthlib<0.5,>=0.4.1->tensorboard<2.9,>=2.8->tensorflow-gpu==2.8.0) (3.2.2)\n"
          ]
        }
      ]
    },
    {
      "cell_type": "code",
      "source": [
        "import tensorflow as tf\n",
        "print(tf.__version__)"
      ],
      "metadata": {
        "colab": {
          "base_uri": "https://localhost:8080/"
        },
        "id": "AFFZQN7H09HO",
        "outputId": "6844a847-ba34-47aa-a7ad-57fbb8bdbc9e"
      },
      "execution_count": 36,
      "outputs": [
        {
          "output_type": "stream",
          "name": "stdout",
          "text": [
            "2.8.0\n"
          ]
        }
      ]
    },
    {
      "cell_type": "code",
      "source": [
        "##tensorflow >2.0\n",
        "from tensorflow.keras.preprocessing.text import one_hot"
      ],
      "metadata": {
        "id": "Yc7NFB4_4d2u"
      },
      "execution_count": 37,
      "outputs": []
    },
    {
      "cell_type": "code",
      "source": [
        "### sentences\n",
        "### Assignment\n",
        "\n",
        "sent=[\"The world is a better place\",\n",
        "      \"Marvel series is my favourite movie\",\n",
        "      \"I like DC movies\",\n",
        "      \"the cat is eating the food\",\n",
        "      \"Tom and Jerry is my favourite movie\",\n",
        "      \"Python is my favourite programming language\"\n",
        "      ]"
      ],
      "metadata": {
        "id": "CNFWOvBb4hkQ"
      },
      "execution_count": 38,
      "outputs": []
    },
    {
      "cell_type": "code",
      "source": [
        "sent"
      ],
      "metadata": {
        "colab": {
          "base_uri": "https://localhost:8080/"
        },
        "id": "4VrAGzCj4jnM",
        "outputId": "c4a82458-6cef-4912-a627-f2543a585486"
      },
      "execution_count": 39,
      "outputs": [
        {
          "output_type": "execute_result",
          "data": {
            "text/plain": [
              "['The world is a better place',\n",
              " 'Marvel series is my favourite movie',\n",
              " 'I like DC movies',\n",
              " 'the cat is eating the food',\n",
              " 'Tom and Jerry is my favourite movie',\n",
              " 'Python is my favourite programming language']"
            ]
          },
          "metadata": {},
          "execution_count": 39
        }
      ]
    },
    {
      "cell_type": "code",
      "source": [
        "### Vocabulary size\n",
        "voc_size=10000"
      ],
      "metadata": {
        "id": "6x1oOrM34lpa"
      },
      "execution_count": 40,
      "outputs": []
    },
    {
      "cell_type": "markdown",
      "source": [
        "OneHot Representation\n"
      ],
      "metadata": {
        "id": "7dhHFRyy4uBl"
      }
    },
    {
      "cell_type": "code",
      "source": [
        "onehot_repr=[one_hot(words,voc_size)for words in sent]\n",
        "print(onehot_repr)"
      ],
      "metadata": {
        "colab": {
          "base_uri": "https://localhost:8080/"
        },
        "id": "7UquuElN4p-7",
        "outputId": "26ca4fdc-e0d8-4332-a83e-7aaf797ec86d"
      },
      "execution_count": 41,
      "outputs": [
        {
          "output_type": "stream",
          "name": "stdout",
          "text": [
            "[[401, 4580, 9543, 3549, 9980, 8794], [374, 1295, 9543, 5694, 4277, 4275], [9330, 6189, 8426, 3209], [401, 3774, 9543, 2884, 401, 2510], [5419, 3914, 1606, 9543, 5694, 4277, 4275], [6183, 9543, 5694, 4277, 764, 1823]]\n"
          ]
        }
      ]
    },
    {
      "cell_type": "markdown",
      "source": [
        "Word Embedding Represntation"
      ],
      "metadata": {
        "id": "R2UnAGAt45JB"
      }
    },
    {
      "cell_type": "code",
      "source": [
        "from tensorflow.keras.layers import Embedding\n",
        "from tensorflow.keras.preprocessing.sequence import pad_sequences\n",
        "from tensorflow.keras.models import Sequential"
      ],
      "metadata": {
        "id": "cT_I-ei94yBE"
      },
      "execution_count": 42,
      "outputs": []
    },
    {
      "cell_type": "code",
      "source": [
        "import numpy as np"
      ],
      "metadata": {
        "id": "deataGEa48ZG"
      },
      "execution_count": 43,
      "outputs": []
    },
    {
      "cell_type": "code",
      "source": [
        "## pre padding\n",
        "sent_length=8\n",
        "embedded_docs=pad_sequences(onehot_repr,padding='pre',maxlen=sent_length)\n",
        "print(embedded_docs)"
      ],
      "metadata": {
        "colab": {
          "base_uri": "https://localhost:8080/"
        },
        "id": "Y5bSMODj5QXP",
        "outputId": "cf10aa71-fcc7-4d7c-9048-3e3fc2f8902f"
      },
      "execution_count": 44,
      "outputs": [
        {
          "output_type": "stream",
          "name": "stdout",
          "text": [
            "[[   0    0  401 4580 9543 3549 9980 8794]\n",
            " [   0    0  374 1295 9543 5694 4277 4275]\n",
            " [   0    0    0    0 9330 6189 8426 3209]\n",
            " [   0    0  401 3774 9543 2884  401 2510]\n",
            " [   0 5419 3914 1606 9543 5694 4277 4275]\n",
            " [   0    0 6183 9543 5694 4277  764 1823]]\n"
          ]
        }
      ]
    },
    {
      "cell_type": "code",
      "source": [
        "## 10 feature dimesnions\n",
        "dim=10\n"
      ],
      "metadata": {
        "id": "u-Js14-e5SPT"
      },
      "execution_count": 45,
      "outputs": []
    },
    {
      "cell_type": "code",
      "source": [
        "model=Sequential()\n",
        "model.add(Embedding(voc_size,10,input_length=sent_length))\n",
        "model.compile('adam','mse')"
      ],
      "metadata": {
        "id": "3a-a-7Gw5Wsc"
      },
      "execution_count": 46,
      "outputs": []
    },
    {
      "cell_type": "code",
      "source": [
        "model.summary()\n"
      ],
      "metadata": {
        "colab": {
          "base_uri": "https://localhost:8080/"
        },
        "id": "Oq1FgWjl5bm3",
        "outputId": "40bca72b-4355-4c45-f237-2122ec715d29"
      },
      "execution_count": 47,
      "outputs": [
        {
          "output_type": "stream",
          "name": "stdout",
          "text": [
            "Model: \"sequential_1\"\n",
            "_________________________________________________________________\n",
            " Layer (type)                Output Shape              Param #   \n",
            "=================================================================\n",
            " embedding_1 (Embedding)     (None, 8, 10)             100000    \n",
            "                                                                 \n",
            "=================================================================\n",
            "Total params: 100,000\n",
            "Trainable params: 100,000\n",
            "Non-trainable params: 0\n",
            "_________________________________________________________________\n"
          ]
        }
      ]
    },
    {
      "cell_type": "code",
      "source": [
        "##'the glass of milk',\n",
        "embedded_docs[0]"
      ],
      "metadata": {
        "colab": {
          "base_uri": "https://localhost:8080/"
        },
        "id": "gmmtqQQT6rSd",
        "outputId": "d1df533e-3290-4acd-ac0c-28c29d1495c1"
      },
      "execution_count": 48,
      "outputs": [
        {
          "output_type": "execute_result",
          "data": {
            "text/plain": [
              "array([   0,    0,  401, 4580, 9543, 3549, 9980, 8794], dtype=int32)"
            ]
          },
          "metadata": {},
          "execution_count": 48
        }
      ]
    },
    {
      "cell_type": "code",
      "source": [
        "model.predict(embedded_docs[0])"
      ],
      "metadata": {
        "colab": {
          "base_uri": "https://localhost:8080/"
        },
        "id": "yC8wYqft6usf",
        "outputId": "ea1f4c28-da0a-4532-f689-b2f79b668d19"
      },
      "execution_count": 49,
      "outputs": [
        {
          "output_type": "stream",
          "name": "stderr",
          "text": [
            "WARNING:tensorflow:Model was constructed with shape (None, 8) for input KerasTensor(type_spec=TensorSpec(shape=(None, 8), dtype=tf.float32, name='embedding_1_input'), name='embedding_1_input', description=\"created by layer 'embedding_1_input'\"), but it was called on an input with incompatible shape (None,).\n"
          ]
        },
        {
          "output_type": "execute_result",
          "data": {
            "text/plain": [
              "array([[-0.03331278, -0.01101623, -0.03369079, -0.00125539,  0.02685292,\n",
              "         0.00742054, -0.0262111 , -0.00229708,  0.04183099, -0.02937368],\n",
              "       [-0.03331278, -0.01101623, -0.03369079, -0.00125539,  0.02685292,\n",
              "         0.00742054, -0.0262111 , -0.00229708,  0.04183099, -0.02937368],\n",
              "       [ 0.01490707,  0.03626745, -0.02485825,  0.02047315, -0.03666893,\n",
              "        -0.02434584,  0.04507682, -0.0199718 ,  0.03674184,  0.00505622],\n",
              "       [-0.01231179, -0.02204208,  0.03950112, -0.03765894,  0.01244458,\n",
              "         0.04184606, -0.00303229, -0.01288253,  0.01934591,  0.0281488 ],\n",
              "       [-0.01630976,  0.01408777, -0.01303919, -0.00301235, -0.04118482,\n",
              "         0.00087114,  0.02917184, -0.01311021,  0.02278696,  0.03236772],\n",
              "       [ 0.01476738, -0.02687821, -0.0316964 ,  0.01802344,  0.01975515,\n",
              "        -0.03539356, -0.04109387,  0.00286412,  0.02102145, -0.04650904],\n",
              "       [ 0.01077255,  0.01353072, -0.00010274,  0.03393238, -0.02499614,\n",
              "        -0.00667731,  0.03947398, -0.00435785,  0.02573283, -0.02163684],\n",
              "       [ 0.00053187, -0.03723139,  0.0094403 , -0.0460665 ,  0.00979824,\n",
              "         0.0196096 ,  0.0231461 , -0.00644307,  0.04538511, -0.045735  ]],\n",
              "      dtype=float32)"
            ]
          },
          "metadata": {},
          "execution_count": 49
        }
      ]
    },
    {
      "cell_type": "code",
      "source": [
        "print(model.predict(embedded_docs))"
      ],
      "metadata": {
        "colab": {
          "base_uri": "https://localhost:8080/"
        },
        "id": "-BmQIy9L6xVq",
        "outputId": "ddd36549-d291-4fa1-ff9a-bf120928a5b4"
      },
      "execution_count": 50,
      "outputs": [
        {
          "output_type": "stream",
          "name": "stdout",
          "text": [
            "[[[-0.03331278 -0.01101623 -0.03369079 -0.00125539  0.02685292\n",
            "    0.00742054 -0.0262111  -0.00229708  0.04183099 -0.02937368]\n",
            "  [-0.03331278 -0.01101623 -0.03369079 -0.00125539  0.02685292\n",
            "    0.00742054 -0.0262111  -0.00229708  0.04183099 -0.02937368]\n",
            "  [ 0.01490707  0.03626745 -0.02485825  0.02047315 -0.03666893\n",
            "   -0.02434584  0.04507682 -0.0199718   0.03674184  0.00505622]\n",
            "  [-0.01231179 -0.02204208  0.03950112 -0.03765894  0.01244458\n",
            "    0.04184606 -0.00303229 -0.01288253  0.01934591  0.0281488 ]\n",
            "  [-0.01630976  0.01408777 -0.01303919 -0.00301235 -0.04118482\n",
            "    0.00087114  0.02917184 -0.01311021  0.02278696  0.03236772]\n",
            "  [ 0.01476738 -0.02687821 -0.0316964   0.01802344  0.01975515\n",
            "   -0.03539356 -0.04109387  0.00286412  0.02102145 -0.04650904]\n",
            "  [ 0.01077255  0.01353072 -0.00010274  0.03393238 -0.02499614\n",
            "   -0.00667731  0.03947398 -0.00435785  0.02573283 -0.02163684]\n",
            "  [ 0.00053187 -0.03723139  0.0094403  -0.0460665   0.00979824\n",
            "    0.0196096   0.0231461  -0.00644307  0.04538511 -0.045735  ]]\n",
            "\n",
            " [[-0.03331278 -0.01101623 -0.03369079 -0.00125539  0.02685292\n",
            "    0.00742054 -0.0262111  -0.00229708  0.04183099 -0.02937368]\n",
            "  [-0.03331278 -0.01101623 -0.03369079 -0.00125539  0.02685292\n",
            "    0.00742054 -0.0262111  -0.00229708  0.04183099 -0.02937368]\n",
            "  [-0.01489927 -0.04827303  0.03396297 -0.03196684 -0.02744559\n",
            "    0.03992725  0.02562158  0.04025752  0.01275199  0.00885917]\n",
            "  [ 0.00726379  0.00623417 -0.03566526  0.01452363  0.03509108\n",
            "   -0.00609646  0.01721443 -0.01245735 -0.03988972  0.04642072]\n",
            "  [-0.01630976  0.01408777 -0.01303919 -0.00301235 -0.04118482\n",
            "    0.00087114  0.02917184 -0.01311021  0.02278696  0.03236772]\n",
            "  [ 0.03077267  0.01284974 -0.01327328 -0.02383397  0.03611673\n",
            "   -0.00643216 -0.02794589  0.02618077  0.02318703 -0.02265945]\n",
            "  [-0.04676699 -0.01237462 -0.01245423 -0.03243406 -0.04230871\n",
            "    0.04622122 -0.03849056  0.03259986 -0.0005036  -0.04055085]\n",
            "  [ 0.01876037 -0.04488471 -0.00288764 -0.02340463  0.04420568\n",
            "   -0.01304758 -0.04377064 -0.00730823 -0.01300901 -0.04230135]]\n",
            "\n",
            " [[-0.03331278 -0.01101623 -0.03369079 -0.00125539  0.02685292\n",
            "    0.00742054 -0.0262111  -0.00229708  0.04183099 -0.02937368]\n",
            "  [-0.03331278 -0.01101623 -0.03369079 -0.00125539  0.02685292\n",
            "    0.00742054 -0.0262111  -0.00229708  0.04183099 -0.02937368]\n",
            "  [-0.03331278 -0.01101623 -0.03369079 -0.00125539  0.02685292\n",
            "    0.00742054 -0.0262111  -0.00229708  0.04183099 -0.02937368]\n",
            "  [-0.03331278 -0.01101623 -0.03369079 -0.00125539  0.02685292\n",
            "    0.00742054 -0.0262111  -0.00229708  0.04183099 -0.02937368]\n",
            "  [ 0.04952971  0.03088098 -0.01747947  0.01386127  0.03063068\n",
            "   -0.03256436  0.0282332   0.04717204  0.03332256 -0.01495373]\n",
            "  [ 0.03452544  0.04717073 -0.00409176 -0.00883448  0.03673868\n",
            "    0.04640993 -0.04158605 -0.0498555  -0.01764816 -0.01673334]\n",
            "  [ 0.01746501  0.03314675 -0.04543024 -0.0148705  -0.02569567\n",
            "    0.04184339  0.02265123  0.00318754  0.03972587  0.03807731]\n",
            "  [-0.00019071 -0.03259812 -0.01511297 -0.02263657  0.00570129\n",
            "   -0.04357014 -0.01726314 -0.02137917  0.03602347 -0.04682371]]\n",
            "\n",
            " [[-0.03331278 -0.01101623 -0.03369079 -0.00125539  0.02685292\n",
            "    0.00742054 -0.0262111  -0.00229708  0.04183099 -0.02937368]\n",
            "  [-0.03331278 -0.01101623 -0.03369079 -0.00125539  0.02685292\n",
            "    0.00742054 -0.0262111  -0.00229708  0.04183099 -0.02937368]\n",
            "  [ 0.01490707  0.03626745 -0.02485825  0.02047315 -0.03666893\n",
            "   -0.02434584  0.04507682 -0.0199718   0.03674184  0.00505622]\n",
            "  [-0.03134914  0.00184627  0.01463092  0.02636992  0.01766255\n",
            "    0.01218907 -0.01255355 -0.03190343 -0.00786342  0.02274776]\n",
            "  [-0.01630976  0.01408777 -0.01303919 -0.00301235 -0.04118482\n",
            "    0.00087114  0.02917184 -0.01311021  0.02278696  0.03236772]\n",
            "  [-0.03198165 -0.0490828   0.00263536 -0.03268604  0.00682478\n",
            "   -0.03896187  0.01117145 -0.02146007 -0.04539996  0.03780656]\n",
            "  [ 0.01490707  0.03626745 -0.02485825  0.02047315 -0.03666893\n",
            "   -0.02434584  0.04507682 -0.0199718   0.03674184  0.00505622]\n",
            "  [-0.04024186 -0.00045158 -0.02026185  0.00118281  0.02480609\n",
            "   -0.04951243  0.01086181  0.04790424  0.03387028  0.0280923 ]]\n",
            "\n",
            " [[-0.03331278 -0.01101623 -0.03369079 -0.00125539  0.02685292\n",
            "    0.00742054 -0.0262111  -0.00229708  0.04183099 -0.02937368]\n",
            "  [ 0.04745437  0.01167668  0.04070337  0.04318723 -0.04201521\n",
            "    0.03464861  0.02454111 -0.03906764 -0.04502366  0.02064318]\n",
            "  [-0.02227492 -0.04114157 -0.0103829  -0.01312926  0.03852526\n",
            "   -0.00710497  0.00759449  0.04189615  0.03978537 -0.03690524]\n",
            "  [ 0.04209523 -0.04276862 -0.02058171 -0.01015361 -0.00031205\n",
            "   -0.014889    0.03118515 -0.01556889  0.00138773 -0.00516689]\n",
            "  [-0.01630976  0.01408777 -0.01303919 -0.00301235 -0.04118482\n",
            "    0.00087114  0.02917184 -0.01311021  0.02278696  0.03236772]\n",
            "  [ 0.03077267  0.01284974 -0.01327328 -0.02383397  0.03611673\n",
            "   -0.00643216 -0.02794589  0.02618077  0.02318703 -0.02265945]\n",
            "  [-0.04676699 -0.01237462 -0.01245423 -0.03243406 -0.04230871\n",
            "    0.04622122 -0.03849056  0.03259986 -0.0005036  -0.04055085]\n",
            "  [ 0.01876037 -0.04488471 -0.00288764 -0.02340463  0.04420568\n",
            "   -0.01304758 -0.04377064 -0.00730823 -0.01300901 -0.04230135]]\n",
            "\n",
            " [[-0.03331278 -0.01101623 -0.03369079 -0.00125539  0.02685292\n",
            "    0.00742054 -0.0262111  -0.00229708  0.04183099 -0.02937368]\n",
            "  [-0.03331278 -0.01101623 -0.03369079 -0.00125539  0.02685292\n",
            "    0.00742054 -0.0262111  -0.00229708  0.04183099 -0.02937368]\n",
            "  [ 0.02246143  0.00346055 -0.01257857 -0.03861726 -0.04637097\n",
            "    0.00414444 -0.01006529  0.03641957 -0.01699921 -0.00075411]\n",
            "  [-0.01630976  0.01408777 -0.01303919 -0.00301235 -0.04118482\n",
            "    0.00087114  0.02917184 -0.01311021  0.02278696  0.03236772]\n",
            "  [ 0.03077267  0.01284974 -0.01327328 -0.02383397  0.03611673\n",
            "   -0.00643216 -0.02794589  0.02618077  0.02318703 -0.02265945]\n",
            "  [-0.04676699 -0.01237462 -0.01245423 -0.03243406 -0.04230871\n",
            "    0.04622122 -0.03849056  0.03259986 -0.0005036  -0.04055085]\n",
            "  [-0.01361512 -0.04612874 -0.04487465  0.02790255  0.01531703\n",
            "   -0.00158196 -0.00447112  0.01957948 -0.04548139  0.00350015]\n",
            "  [-0.0284294   0.04143039 -0.04295049  0.03491262 -0.00113816\n",
            "    0.02700922 -0.00969066 -0.00690967  0.00693985 -0.02901368]]]\n"
          ]
        }
      ]
    },
    {
      "cell_type": "code",
      "source": [
        "embedded_docs[0]"
      ],
      "metadata": {
        "colab": {
          "base_uri": "https://localhost:8080/"
        },
        "id": "VTHF5tL-61uT",
        "outputId": "76b1a5fd-2f2a-40bd-abfd-ab5d03a39409"
      },
      "execution_count": 51,
      "outputs": [
        {
          "output_type": "execute_result",
          "data": {
            "text/plain": [
              "array([   0,    0,  401, 4580, 9543, 3549, 9980, 8794], dtype=int32)"
            ]
          },
          "metadata": {},
          "execution_count": 51
        }
      ]
    },
    {
      "cell_type": "code",
      "source": [
        "print(model.predict(embedded_docs)[0])"
      ],
      "metadata": {
        "colab": {
          "base_uri": "https://localhost:8080/"
        },
        "id": "66rlnK_a65jv",
        "outputId": "ff87bfbb-969f-4c3d-95a6-857123201e03"
      },
      "execution_count": 52,
      "outputs": [
        {
          "output_type": "stream",
          "name": "stdout",
          "text": [
            "[[-0.03331278 -0.01101623 -0.03369079 -0.00125539  0.02685292  0.00742054\n",
            "  -0.0262111  -0.00229708  0.04183099 -0.02937368]\n",
            " [-0.03331278 -0.01101623 -0.03369079 -0.00125539  0.02685292  0.00742054\n",
            "  -0.0262111  -0.00229708  0.04183099 -0.02937368]\n",
            " [ 0.01490707  0.03626745 -0.02485825  0.02047315 -0.03666893 -0.02434584\n",
            "   0.04507682 -0.0199718   0.03674184  0.00505622]\n",
            " [-0.01231179 -0.02204208  0.03950112 -0.03765894  0.01244458  0.04184606\n",
            "  -0.00303229 -0.01288253  0.01934591  0.0281488 ]\n",
            " [-0.01630976  0.01408777 -0.01303919 -0.00301235 -0.04118482  0.00087114\n",
            "   0.02917184 -0.01311021  0.02278696  0.03236772]\n",
            " [ 0.01476738 -0.02687821 -0.0316964   0.01802344  0.01975515 -0.03539356\n",
            "  -0.04109387  0.00286412  0.02102145 -0.04650904]\n",
            " [ 0.01077255  0.01353072 -0.00010274  0.03393238 -0.02499614 -0.00667731\n",
            "   0.03947398 -0.00435785  0.02573283 -0.02163684]\n",
            " [ 0.00053187 -0.03723139  0.0094403  -0.0460665   0.00979824  0.0196096\n",
            "   0.0231461  -0.00644307  0.04538511 -0.045735  ]]\n"
          ]
        }
      ]
    },
    {
      "cell_type": "code",
      "source": [],
      "metadata": {
        "id": "es_FTaBq67GF"
      },
      "execution_count": 52,
      "outputs": []
    }
  ]
}